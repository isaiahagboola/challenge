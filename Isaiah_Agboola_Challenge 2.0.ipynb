{
 "cells": [
  {
   "cell_type": "markdown",
   "id": "fdf10dde-f784-4386-b7dd-87c29b4ee4ac",
   "metadata": {},
   "source": [
    "# About the project:\n",
    "> In this project, I will be working on a real-world dataset of the Google Play Store, one of the most used applications for downloading android apps. This project aims on cleaning the dataset, analyzing the given dataset, and mining informational quality insights. This project also involves visualizing the data to better and easily understand trends and different categories.\n"
   ]
  },
  {
   "cell_type": "markdown",
   "id": "4873d78a-5158-461c-a871-8256afb64c49",
   "metadata": {},
   "source": [
    "> Major software used: Excel, Python and SQL "
   ]
  },
  {
   "cell_type": "code",
   "execution_count": 83,
   "id": "a1a8f307",
   "metadata": {
    "id": "a1a8f307"
   },
   "outputs": [],
   "source": [
    "import pandas as pd\n",
    "import numpy as np\n",
    "from numpy import nan\n",
    "import  matplotlib.pyplot as plt\n",
    "%matplotlib inline\n",
    "import seaborn as sns"
   ]
  },
  {
   "cell_type": "code",
   "execution_count": 5,
   "id": "K36lAwzudVVh",
   "metadata": {
    "colab": {
     "base_uri": "https://localhost:8080/"
    },
    "executionInfo": {
     "elapsed": 35,
     "status": "ok",
     "timestamp": 1673199448181,
     "user": {
      "displayName": "Fakorede Akinwande alex",
      "userId": "08031585769890615387"
     },
     "user_tz": -60
    },
    "id": "K36lAwzudVVh",
    "outputId": "0f3067b5-3385-4886-9eb3-3398819ef109"
   },
   "outputs": [],
   "source": [
    "import os"
   ]
  },
  {
   "cell_type": "code",
   "execution_count": 6,
   "id": "b00244f6-fa7a-4867-81cd-42b4187f8e7e",
   "metadata": {},
   "outputs": [],
   "source": [
    "os.chdir(r'C:\\Users\\USER\\Documents\\Data-Class\\challenge\\new\\playstoreliveproj Drive FIle\\playstoreliveproj')"
   ]
  },
  {
   "cell_type": "code",
   "execution_count": 7,
   "id": "bccf441f-3d9a-48c3-b4aa-bfebb7c7c64c",
   "metadata": {},
   "outputs": [
    {
     "data": {
      "text/plain": [
       "'C:\\\\Users\\\\USER\\\\Documents\\\\Data-Class\\\\challenge\\\\new\\\\playstoreliveproj Drive FIle\\\\playstoreliveproj'"
      ]
     },
     "execution_count": 7,
     "metadata": {},
     "output_type": "execute_result"
    }
   ],
   "source": [
    "os.getcwd()"
   ]
  },
  {
   "cell_type": "code",
   "execution_count": 8,
   "id": "3c283a7c-d005-417a-bc7a-75407b94cd48",
   "metadata": {},
   "outputs": [
    {
     "data": {
      "text/plain": [
       "['app_cleaned.csv',\n",
       " 'credits.txt',\n",
       " 'license.txt',\n",
       " 'neatapp.csv',\n",
       " 'neatreviews.csv',\n",
       " 'newer_Appdata.csv',\n",
       " 'newer_Reviewsdata.csv',\n",
       " 'playstore_apps.csv',\n",
       " 'playstore_reviews.csv']"
      ]
     },
     "execution_count": 8,
     "metadata": {},
     "output_type": "execute_result"
    }
   ],
   "source": [
    "os.listdir()"
   ]
  },
  {
   "cell_type": "markdown",
   "id": "aea3aa31-d3a8-4607-a96c-8215015b3dd3",
   "metadata": {},
   "source": [
    "# Load Data\n"
   ]
  },
  {
   "cell_type": "code",
   "execution_count": 9,
   "id": "6df55579-5e4a-4dd0-bb70-98aca196ddfa",
   "metadata": {
    "colab": {
     "base_uri": "https://localhost:8080/"
    },
    "executionInfo": {
     "elapsed": 370,
     "status": "ok",
     "timestamp": 1673207533648,
     "user": {
      "displayName": "Fakorede Akinwande alex",
      "userId": "08031585769890615387"
     },
     "user_tz": -60
    },
    "id": "c5f56922",
    "outputId": "878e30ab-88cd-452a-bdcf-d9041bda707a"
   },
   "outputs": [],
   "source": [
    "filepath='playstore_apps.csv'"
   ]
  },
  {
   "cell_type": "code",
   "execution_count": 10,
   "id": "cLXYpOv8RQs-",
   "metadata": {
    "executionInfo": {
     "elapsed": 327,
     "status": "ok",
     "timestamp": 1673207948933,
     "user": {
      "displayName": "Fakorede Akinwande alex",
      "userId": "08031585769890615387"
     },
     "user_tz": -60
    },
    "id": "cLXYpOv8RQs-"
   },
   "outputs": [],
   "source": [
    "app=pd.read_csv(filepath,index_col='App')"
   ]
  },
  {
   "cell_type": "code",
   "execution_count": 11,
   "id": "ef15e415-61aa-474a-a56a-1c39e749e17e",
   "metadata": {},
   "outputs": [],
   "source": [
    "app_copy=app.copy()\n"
   ]
  },
  {
   "cell_type": "code",
   "execution_count": 12,
   "id": "MHSj6ac354Wy",
   "metadata": {
    "executionInfo": {
     "elapsed": 425,
     "status": "ok",
     "timestamp": 1673207755656,
     "user": {
      "displayName": "Fakorede Akinwande alex",
      "userId": "08031585769890615387"
     },
     "user_tz": -60
    },
    "id": "MHSj6ac354Wy"
   },
   "outputs": [],
   "source": [
    "filepath2='playstore_reviews.csv'\n",
    "reviews=pd.read_csv(filepath2,index_col='App')"
   ]
  },
  {
   "cell_type": "code",
   "execution_count": 13,
   "id": "94a75938-575f-4ea6-907a-11c15ad3da81",
   "metadata": {},
   "outputs": [],
   "source": [
    "reviews_copy=reviews.copy()"
   ]
  },
  {
   "cell_type": "markdown",
   "id": "7041efcc-2af9-4a4e-8ccf-fc9362c5aaee",
   "metadata": {},
   "source": [
    "# Understand the Data\n",
    "\n",
    ">Here we try to read the all possible properties of the data\n",
    "\n"
   ]
  },
  {
   "cell_type": "markdown",
   "id": "a681179b-c802-45f9-9a9d-bcdb5606491d",
   "metadata": {},
   "source": [
    "#### Apps"
   ]
  },
  {
   "cell_type": "code",
   "execution_count": 14,
   "id": "85e2c3a1-49a9-43ac-80fd-0a382f4bb616",
   "metadata": {},
   "outputs": [
    {
     "data": {
      "text/html": [
       "<div>\n",
       "<style scoped>\n",
       "    .dataframe tbody tr th:only-of-type {\n",
       "        vertical-align: middle;\n",
       "    }\n",
       "\n",
       "    .dataframe tbody tr th {\n",
       "        vertical-align: top;\n",
       "    }\n",
       "\n",
       "    .dataframe thead th {\n",
       "        text-align: right;\n",
       "    }\n",
       "</style>\n",
       "<table border=\"1\" class=\"dataframe\">\n",
       "  <thead>\n",
       "    <tr style=\"text-align: right;\">\n",
       "      <th></th>\n",
       "      <th>Category</th>\n",
       "      <th>Rating</th>\n",
       "      <th>Reviews</th>\n",
       "      <th>Size</th>\n",
       "      <th>Installs</th>\n",
       "      <th>Type</th>\n",
       "      <th>Price</th>\n",
       "      <th>Content Rating</th>\n",
       "      <th>Genres</th>\n",
       "      <th>Last Updated</th>\n",
       "      <th>Current Ver</th>\n",
       "      <th>Android Ver</th>\n",
       "    </tr>\n",
       "    <tr>\n",
       "      <th>App</th>\n",
       "      <th></th>\n",
       "      <th></th>\n",
       "      <th></th>\n",
       "      <th></th>\n",
       "      <th></th>\n",
       "      <th></th>\n",
       "      <th></th>\n",
       "      <th></th>\n",
       "      <th></th>\n",
       "      <th></th>\n",
       "      <th></th>\n",
       "      <th></th>\n",
       "    </tr>\n",
       "  </thead>\n",
       "  <tbody>\n",
       "    <tr>\n",
       "      <th>Photo Editor &amp; Candy Camera &amp; Grid &amp; ScrapBook</th>\n",
       "      <td>ART_AND_DESIGN</td>\n",
       "      <td>4.1</td>\n",
       "      <td>159.0</td>\n",
       "      <td>19M</td>\n",
       "      <td>10000.0</td>\n",
       "      <td>Free</td>\n",
       "      <td>0.0</td>\n",
       "      <td>Everyone</td>\n",
       "      <td>Art &amp; Design</td>\n",
       "      <td>07-01-2018</td>\n",
       "      <td>1.0.0</td>\n",
       "      <td>4.0.3 and up</td>\n",
       "    </tr>\n",
       "    <tr>\n",
       "      <th>Coloring book moana</th>\n",
       "      <td>ART_AND_DESIGN</td>\n",
       "      <td>3.9</td>\n",
       "      <td>967.0</td>\n",
       "      <td>14M</td>\n",
       "      <td>500000.0</td>\n",
       "      <td>Free</td>\n",
       "      <td>0.0</td>\n",
       "      <td>Everyone</td>\n",
       "      <td>Art &amp; Design;Pretend Play</td>\n",
       "      <td>15-01-2018</td>\n",
       "      <td>2.0.0</td>\n",
       "      <td>4.0.3 and up</td>\n",
       "    </tr>\n",
       "    <tr>\n",
       "      <th>U Launcher Lite – FREE Live Cool Themes, Hide Apps</th>\n",
       "      <td>ART_AND_DESIGN</td>\n",
       "      <td>4.7</td>\n",
       "      <td>87510.0</td>\n",
       "      <td>8.7M</td>\n",
       "      <td>5000000.0</td>\n",
       "      <td>Free</td>\n",
       "      <td>0.0</td>\n",
       "      <td>Everyone</td>\n",
       "      <td>Art &amp; Design</td>\n",
       "      <td>01-08-2018</td>\n",
       "      <td>1.2.4</td>\n",
       "      <td>4.0.3 and up</td>\n",
       "    </tr>\n",
       "    <tr>\n",
       "      <th>Sketch - Draw &amp; Paint</th>\n",
       "      <td>ART_AND_DESIGN</td>\n",
       "      <td>4.5</td>\n",
       "      <td>215644.0</td>\n",
       "      <td>25M</td>\n",
       "      <td>50000000.0</td>\n",
       "      <td>Free</td>\n",
       "      <td>0.0</td>\n",
       "      <td>Teen</td>\n",
       "      <td>Art &amp; Design</td>\n",
       "      <td>08-06-2018</td>\n",
       "      <td>Varies with device</td>\n",
       "      <td>4.2 and up</td>\n",
       "    </tr>\n",
       "    <tr>\n",
       "      <th>Pixel Draw - Number Art Coloring Book</th>\n",
       "      <td>ART_AND_DESIGN</td>\n",
       "      <td>4.3</td>\n",
       "      <td>967.0</td>\n",
       "      <td>2.8M</td>\n",
       "      <td>100000.0</td>\n",
       "      <td>Free</td>\n",
       "      <td>0.0</td>\n",
       "      <td>Everyone</td>\n",
       "      <td>Art &amp; Design;Creativity</td>\n",
       "      <td>20-06-2018</td>\n",
       "      <td>1.1</td>\n",
       "      <td>4.4 and up</td>\n",
       "    </tr>\n",
       "  </tbody>\n",
       "</table>\n",
       "</div>"
      ],
      "text/plain": [
       "                                                          Category  Rating  \\\n",
       "App                                                                          \n",
       "Photo Editor & Candy Camera & Grid & ScrapBook      ART_AND_DESIGN     4.1   \n",
       "Coloring book moana                                 ART_AND_DESIGN     3.9   \n",
       "U Launcher Lite – FREE Live Cool Themes, Hide Apps  ART_AND_DESIGN     4.7   \n",
       "Sketch - Draw & Paint                               ART_AND_DESIGN     4.5   \n",
       "Pixel Draw - Number Art Coloring Book               ART_AND_DESIGN     4.3   \n",
       "\n",
       "                                                     Reviews  Size  \\\n",
       "App                                                                  \n",
       "Photo Editor & Candy Camera & Grid & ScrapBook         159.0   19M   \n",
       "Coloring book moana                                    967.0   14M   \n",
       "U Launcher Lite – FREE Live Cool Themes, Hide Apps   87510.0  8.7M   \n",
       "Sketch - Draw & Paint                               215644.0   25M   \n",
       "Pixel Draw - Number Art Coloring Book                  967.0  2.8M   \n",
       "\n",
       "                                                      Installs  Type  Price  \\\n",
       "App                                                                           \n",
       "Photo Editor & Candy Camera & Grid & ScrapBook         10000.0  Free    0.0   \n",
       "Coloring book moana                                   500000.0  Free    0.0   \n",
       "U Launcher Lite – FREE Live Cool Themes, Hide Apps   5000000.0  Free    0.0   \n",
       "Sketch - Draw & Paint                               50000000.0  Free    0.0   \n",
       "Pixel Draw - Number Art Coloring Book                 100000.0  Free    0.0   \n",
       "\n",
       "                                                   Content Rating  \\\n",
       "App                                                                 \n",
       "Photo Editor & Candy Camera & Grid & ScrapBook           Everyone   \n",
       "Coloring book moana                                      Everyone   \n",
       "U Launcher Lite – FREE Live Cool Themes, Hide Apps       Everyone   \n",
       "Sketch - Draw & Paint                                        Teen   \n",
       "Pixel Draw - Number Art Coloring Book                    Everyone   \n",
       "\n",
       "                                                                       Genres  \\\n",
       "App                                                                             \n",
       "Photo Editor & Candy Camera & Grid & ScrapBook                   Art & Design   \n",
       "Coloring book moana                                 Art & Design;Pretend Play   \n",
       "U Launcher Lite – FREE Live Cool Themes, Hide Apps               Art & Design   \n",
       "Sketch - Draw & Paint                                            Art & Design   \n",
       "Pixel Draw - Number Art Coloring Book                 Art & Design;Creativity   \n",
       "\n",
       "                                                   Last Updated  \\\n",
       "App                                                               \n",
       "Photo Editor & Candy Camera & Grid & ScrapBook       07-01-2018   \n",
       "Coloring book moana                                  15-01-2018   \n",
       "U Launcher Lite – FREE Live Cool Themes, Hide Apps   01-08-2018   \n",
       "Sketch - Draw & Paint                                08-06-2018   \n",
       "Pixel Draw - Number Art Coloring Book                20-06-2018   \n",
       "\n",
       "                                                           Current Ver  \\\n",
       "App                                                                      \n",
       "Photo Editor & Candy Camera & Grid & ScrapBook                   1.0.0   \n",
       "Coloring book moana                                              2.0.0   \n",
       "U Launcher Lite – FREE Live Cool Themes, Hide Apps               1.2.4   \n",
       "Sketch - Draw & Paint                               Varies with device   \n",
       "Pixel Draw - Number Art Coloring Book                              1.1   \n",
       "\n",
       "                                                     Android Ver  \n",
       "App                                                               \n",
       "Photo Editor & Candy Camera & Grid & ScrapBook      4.0.3 and up  \n",
       "Coloring book moana                                 4.0.3 and up  \n",
       "U Launcher Lite – FREE Live Cool Themes, Hide Apps  4.0.3 and up  \n",
       "Sketch - Draw & Paint                                 4.2 and up  \n",
       "Pixel Draw - Number Art Coloring Book                 4.4 and up  "
      ]
     },
     "execution_count": 14,
     "metadata": {},
     "output_type": "execute_result"
    }
   ],
   "source": [
    "# Read the first five rows in the data\n",
    "app.head()"
   ]
  },
  {
   "cell_type": "code",
   "execution_count": 15,
   "id": "4ed5e9cb-9904-4c77-95b4-119564540da3",
   "metadata": {},
   "outputs": [
    {
     "data": {
      "text/html": [
       "<div>\n",
       "<style scoped>\n",
       "    .dataframe tbody tr th:only-of-type {\n",
       "        vertical-align: middle;\n",
       "    }\n",
       "\n",
       "    .dataframe tbody tr th {\n",
       "        vertical-align: top;\n",
       "    }\n",
       "\n",
       "    .dataframe thead th {\n",
       "        text-align: right;\n",
       "    }\n",
       "</style>\n",
       "<table border=\"1\" class=\"dataframe\">\n",
       "  <thead>\n",
       "    <tr style=\"text-align: right;\">\n",
       "      <th></th>\n",
       "      <th>Category</th>\n",
       "      <th>Rating</th>\n",
       "      <th>Reviews</th>\n",
       "      <th>Size</th>\n",
       "      <th>Installs</th>\n",
       "      <th>Type</th>\n",
       "      <th>Price</th>\n",
       "      <th>Content Rating</th>\n",
       "      <th>Genres</th>\n",
       "      <th>Last Updated</th>\n",
       "      <th>Current Ver</th>\n",
       "      <th>Android Ver</th>\n",
       "    </tr>\n",
       "    <tr>\n",
       "      <th>App</th>\n",
       "      <th></th>\n",
       "      <th></th>\n",
       "      <th></th>\n",
       "      <th></th>\n",
       "      <th></th>\n",
       "      <th></th>\n",
       "      <th></th>\n",
       "      <th></th>\n",
       "      <th></th>\n",
       "      <th></th>\n",
       "      <th></th>\n",
       "      <th></th>\n",
       "    </tr>\n",
       "  </thead>\n",
       "  <tbody>\n",
       "    <tr>\n",
       "      <th>Sya9a Maroc - FR</th>\n",
       "      <td>FAMILY</td>\n",
       "      <td>4.5</td>\n",
       "      <td>38.0</td>\n",
       "      <td>53M</td>\n",
       "      <td>5000.0</td>\n",
       "      <td>Free</td>\n",
       "      <td>0.0</td>\n",
       "      <td>Everyone</td>\n",
       "      <td>Education</td>\n",
       "      <td>25-07-2017</td>\n",
       "      <td>1.48</td>\n",
       "      <td>4.1 and up</td>\n",
       "    </tr>\n",
       "    <tr>\n",
       "      <th>Fr. Mike Schmitz Audio Teachings</th>\n",
       "      <td>FAMILY</td>\n",
       "      <td>5.0</td>\n",
       "      <td>4.0</td>\n",
       "      <td>3.6M</td>\n",
       "      <td>100.0</td>\n",
       "      <td>Free</td>\n",
       "      <td>0.0</td>\n",
       "      <td>Everyone</td>\n",
       "      <td>Education</td>\n",
       "      <td>06-07-2018</td>\n",
       "      <td>1</td>\n",
       "      <td>4.1 and up</td>\n",
       "    </tr>\n",
       "    <tr>\n",
       "      <th>Parkinson Exercices FR</th>\n",
       "      <td>MEDICAL</td>\n",
       "      <td>NaN</td>\n",
       "      <td>3.0</td>\n",
       "      <td>9.5M</td>\n",
       "      <td>1000.0</td>\n",
       "      <td>Free</td>\n",
       "      <td>0.0</td>\n",
       "      <td>Everyone</td>\n",
       "      <td>Medical</td>\n",
       "      <td>20-01-2017</td>\n",
       "      <td>1</td>\n",
       "      <td>2.2 and up</td>\n",
       "    </tr>\n",
       "    <tr>\n",
       "      <th>The SCP Foundation DB fr nn5n</th>\n",
       "      <td>BOOKS_AND_REFERENCE</td>\n",
       "      <td>4.5</td>\n",
       "      <td>114.0</td>\n",
       "      <td>Varies with device</td>\n",
       "      <td>1000.0</td>\n",
       "      <td>Free</td>\n",
       "      <td>0.0</td>\n",
       "      <td>Mature 17+</td>\n",
       "      <td>Books &amp; Reference</td>\n",
       "      <td>19-01-2015</td>\n",
       "      <td>Varies with device</td>\n",
       "      <td>Varies with device</td>\n",
       "    </tr>\n",
       "    <tr>\n",
       "      <th>iHoroscope - 2018 Daily Horoscope &amp; Astrology</th>\n",
       "      <td>LIFESTYLE</td>\n",
       "      <td>4.5</td>\n",
       "      <td>398307.0</td>\n",
       "      <td>19M</td>\n",
       "      <td>10000000.0</td>\n",
       "      <td>Free</td>\n",
       "      <td>0.0</td>\n",
       "      <td>Everyone</td>\n",
       "      <td>Lifestyle</td>\n",
       "      <td>25-07-2018</td>\n",
       "      <td>Varies with device</td>\n",
       "      <td>Varies with device</td>\n",
       "    </tr>\n",
       "  </tbody>\n",
       "</table>\n",
       "</div>"
      ],
      "text/plain": [
       "                                                          Category  Rating  \\\n",
       "App                                                                          \n",
       "Sya9a Maroc - FR                                            FAMILY     4.5   \n",
       "Fr. Mike Schmitz Audio Teachings                            FAMILY     5.0   \n",
       "Parkinson Exercices FR                                     MEDICAL     NaN   \n",
       "The SCP Foundation DB fr nn5n                  BOOKS_AND_REFERENCE     4.5   \n",
       "iHoroscope - 2018 Daily Horoscope & Astrology            LIFESTYLE     4.5   \n",
       "\n",
       "                                                Reviews                Size  \\\n",
       "App                                                                           \n",
       "Sya9a Maroc - FR                                   38.0                 53M   \n",
       "Fr. Mike Schmitz Audio Teachings                    4.0                3.6M   \n",
       "Parkinson Exercices FR                              3.0                9.5M   \n",
       "The SCP Foundation DB fr nn5n                     114.0  Varies with device   \n",
       "iHoroscope - 2018 Daily Horoscope & Astrology  398307.0                 19M   \n",
       "\n",
       "                                                 Installs  Type  Price  \\\n",
       "App                                                                      \n",
       "Sya9a Maroc - FR                                   5000.0  Free    0.0   \n",
       "Fr. Mike Schmitz Audio Teachings                    100.0  Free    0.0   \n",
       "Parkinson Exercices FR                             1000.0  Free    0.0   \n",
       "The SCP Foundation DB fr nn5n                      1000.0  Free    0.0   \n",
       "iHoroscope - 2018 Daily Horoscope & Astrology  10000000.0  Free    0.0   \n",
       "\n",
       "                                              Content Rating  \\\n",
       "App                                                            \n",
       "Sya9a Maroc - FR                                    Everyone   \n",
       "Fr. Mike Schmitz Audio Teachings                    Everyone   \n",
       "Parkinson Exercices FR                              Everyone   \n",
       "The SCP Foundation DB fr nn5n                     Mature 17+   \n",
       "iHoroscope - 2018 Daily Horoscope & Astrology       Everyone   \n",
       "\n",
       "                                                          Genres Last Updated  \\\n",
       "App                                                                             \n",
       "Sya9a Maroc - FR                                       Education   25-07-2017   \n",
       "Fr. Mike Schmitz Audio Teachings                       Education   06-07-2018   \n",
       "Parkinson Exercices FR                                   Medical   20-01-2017   \n",
       "The SCP Foundation DB fr nn5n                  Books & Reference   19-01-2015   \n",
       "iHoroscope - 2018 Daily Horoscope & Astrology          Lifestyle   25-07-2018   \n",
       "\n",
       "                                                      Current Ver  \\\n",
       "App                                                                 \n",
       "Sya9a Maroc - FR                                             1.48   \n",
       "Fr. Mike Schmitz Audio Teachings                                1   \n",
       "Parkinson Exercices FR                                          1   \n",
       "The SCP Foundation DB fr nn5n                  Varies with device   \n",
       "iHoroscope - 2018 Daily Horoscope & Astrology  Varies with device   \n",
       "\n",
       "                                                      Android Ver  \n",
       "App                                                                \n",
       "Sya9a Maroc - FR                                       4.1 and up  \n",
       "Fr. Mike Schmitz Audio Teachings                       4.1 and up  \n",
       "Parkinson Exercices FR                                 2.2 and up  \n",
       "The SCP Foundation DB fr nn5n                  Varies with device  \n",
       "iHoroscope - 2018 Daily Horoscope & Astrology  Varies with device  "
      ]
     },
     "execution_count": 15,
     "metadata": {},
     "output_type": "execute_result"
    }
   ],
   "source": [
    "#Read the last five rows of the data\n",
    "app.tail()"
   ]
  },
  {
   "cell_type": "code",
   "execution_count": 16,
   "id": "29b9b034-15e0-4f50-8081-2311d7d85b87",
   "metadata": {},
   "outputs": [
    {
     "name": "stdout",
     "output_type": "stream",
     "text": [
      "<class 'pandas.core.frame.DataFrame'>\n",
      "Index: 10841 entries, Photo Editor & Candy Camera & Grid & ScrapBook to iHoroscope - 2018 Daily Horoscope & Astrology\n",
      "Data columns (total 12 columns):\n",
      " #   Column          Non-Null Count  Dtype  \n",
      "---  ------          --------------  -----  \n",
      " 0   Category        10841 non-null  object \n",
      " 1   Rating          9367 non-null   float64\n",
      " 2   Reviews         10840 non-null  float64\n",
      " 3   Size            10841 non-null  object \n",
      " 4   Installs        10840 non-null  float64\n",
      " 5   Type            10840 non-null  object \n",
      " 6   Price           10840 non-null  float64\n",
      " 7   Content Rating  10840 non-null  object \n",
      " 8   Genres          10841 non-null  object \n",
      " 9   Last Updated    10840 non-null  object \n",
      " 10  Current Ver     10833 non-null  object \n",
      " 11  Android Ver     10838 non-null  object \n",
      "dtypes: float64(4), object(8)\n",
      "memory usage: 1.1+ MB\n"
     ]
    }
   ],
   "source": [
    "# Check the information in the data\n",
    "app.info()"
   ]
  },
  {
   "cell_type": "markdown",
   "id": "7e1b91e4-93de-41ed-8e3c-e2e9984ea3ed",
   "metadata": {},
   "source": [
    "## Observations\n",
    "> It shows the data is dirty (unclean)"
   ]
  },
  {
   "cell_type": "code",
   "execution_count": 17,
   "id": "f9aae0cb-3e32-472c-be84-d0e74ef99023",
   "metadata": {},
   "outputs": [
    {
     "data": {
      "text/plain": [
       "(10841, 12)"
      ]
     },
     "execution_count": 17,
     "metadata": {},
     "output_type": "execute_result"
    }
   ],
   "source": [
    "#Check the shape of the data\n",
    "app.shape"
   ]
  },
  {
   "cell_type": "code",
   "execution_count": 18,
   "id": "78e38f0d-0b70-4733-bbb8-b879e75a9947",
   "metadata": {},
   "outputs": [
    {
     "data": {
      "text/plain": [
       "Index(['Category', 'Rating', 'Reviews', 'Size', 'Installs', 'Type', 'Price',\n",
       "       'Content Rating', 'Genres', 'Last Updated', 'Current Ver',\n",
       "       'Android Ver'],\n",
       "      dtype='object')"
      ]
     },
     "execution_count": 18,
     "metadata": {},
     "output_type": "execute_result"
    }
   ],
   "source": [
    "#Checking column names in the dataset\n",
    "app.columns"
   ]
  },
  {
   "cell_type": "code",
   "execution_count": 19,
   "id": "5c950bfb-b624-4ffd-bd8b-7ab8f86ca899",
   "metadata": {},
   "outputs": [
    {
     "data": {
      "text/plain": [
       "Category            34\n",
       "Rating              40\n",
       "Reviews           6001\n",
       "Size               462\n",
       "Installs            20\n",
       "Type                 3\n",
       "Price               92\n",
       "Content Rating       6\n",
       "Genres             120\n",
       "Last Updated      1377\n",
       "Current Ver       2784\n",
       "Android Ver         33\n",
       "dtype: int64"
      ]
     },
     "execution_count": 19,
     "metadata": {},
     "output_type": "execute_result"
    }
   ],
   "source": [
    "#Look for the number of unique Apps\n",
    "app.nunique()"
   ]
  },
  {
   "cell_type": "markdown",
   "id": "350f2184-6a4c-40c2-98b7-3503706e5e74",
   "metadata": {},
   "source": [
    "#### Reviews"
   ]
  },
  {
   "cell_type": "code",
   "execution_count": 20,
   "id": "6172d229-00e0-4c1d-9444-cb370d19a6cb",
   "metadata": {},
   "outputs": [
    {
     "data": {
      "text/html": [
       "<div>\n",
       "<style scoped>\n",
       "    .dataframe tbody tr th:only-of-type {\n",
       "        vertical-align: middle;\n",
       "    }\n",
       "\n",
       "    .dataframe tbody tr th {\n",
       "        vertical-align: top;\n",
       "    }\n",
       "\n",
       "    .dataframe thead th {\n",
       "        text-align: right;\n",
       "    }\n",
       "</style>\n",
       "<table border=\"1\" class=\"dataframe\">\n",
       "  <thead>\n",
       "    <tr style=\"text-align: right;\">\n",
       "      <th></th>\n",
       "      <th>Translated_Review</th>\n",
       "      <th>Sentiment</th>\n",
       "      <th>Sentiment_Polarity</th>\n",
       "      <th>Sentiment_Subjectivity</th>\n",
       "    </tr>\n",
       "    <tr>\n",
       "      <th>App</th>\n",
       "      <th></th>\n",
       "      <th></th>\n",
       "      <th></th>\n",
       "      <th></th>\n",
       "    </tr>\n",
       "  </thead>\n",
       "  <tbody>\n",
       "    <tr>\n",
       "      <th>10 Best Foods for You</th>\n",
       "      <td>I like eat delicious food. That's I'm cooking ...</td>\n",
       "      <td>Positive</td>\n",
       "      <td>1.00</td>\n",
       "      <td>0.533333</td>\n",
       "    </tr>\n",
       "    <tr>\n",
       "      <th>10 Best Foods for You</th>\n",
       "      <td>This help eating healthy exercise regular basis</td>\n",
       "      <td>Positive</td>\n",
       "      <td>0.25</td>\n",
       "      <td>0.288462</td>\n",
       "    </tr>\n",
       "    <tr>\n",
       "      <th>10 Best Foods for You</th>\n",
       "      <td>NaN</td>\n",
       "      <td>NaN</td>\n",
       "      <td>NaN</td>\n",
       "      <td>NaN</td>\n",
       "    </tr>\n",
       "    <tr>\n",
       "      <th>10 Best Foods for You</th>\n",
       "      <td>Works great especially going grocery store</td>\n",
       "      <td>Positive</td>\n",
       "      <td>0.40</td>\n",
       "      <td>0.875000</td>\n",
       "    </tr>\n",
       "    <tr>\n",
       "      <th>10 Best Foods for You</th>\n",
       "      <td>Best idea us</td>\n",
       "      <td>Positive</td>\n",
       "      <td>1.00</td>\n",
       "      <td>0.300000</td>\n",
       "    </tr>\n",
       "  </tbody>\n",
       "</table>\n",
       "</div>"
      ],
      "text/plain": [
       "                                                       Translated_Review  \\\n",
       "App                                                                        \n",
       "10 Best Foods for You  I like eat delicious food. That's I'm cooking ...   \n",
       "10 Best Foods for You    This help eating healthy exercise regular basis   \n",
       "10 Best Foods for You                                                NaN   \n",
       "10 Best Foods for You         Works great especially going grocery store   \n",
       "10 Best Foods for You                                       Best idea us   \n",
       "\n",
       "                      Sentiment  Sentiment_Polarity  Sentiment_Subjectivity  \n",
       "App                                                                          \n",
       "10 Best Foods for You  Positive                1.00                0.533333  \n",
       "10 Best Foods for You  Positive                0.25                0.288462  \n",
       "10 Best Foods for You       NaN                 NaN                     NaN  \n",
       "10 Best Foods for You  Positive                0.40                0.875000  \n",
       "10 Best Foods for You  Positive                1.00                0.300000  "
      ]
     },
     "execution_count": 20,
     "metadata": {},
     "output_type": "execute_result"
    }
   ],
   "source": [
    "reviews.head()"
   ]
  },
  {
   "cell_type": "code",
   "execution_count": 21,
   "id": "652606c9-8c6e-4e69-87a5-5797f820757b",
   "metadata": {},
   "outputs": [
    {
     "data": {
      "text/html": [
       "<div>\n",
       "<style scoped>\n",
       "    .dataframe tbody tr th:only-of-type {\n",
       "        vertical-align: middle;\n",
       "    }\n",
       "\n",
       "    .dataframe tbody tr th {\n",
       "        vertical-align: top;\n",
       "    }\n",
       "\n",
       "    .dataframe thead th {\n",
       "        text-align: right;\n",
       "    }\n",
       "</style>\n",
       "<table border=\"1\" class=\"dataframe\">\n",
       "  <thead>\n",
       "    <tr style=\"text-align: right;\">\n",
       "      <th></th>\n",
       "      <th>Translated_Review</th>\n",
       "      <th>Sentiment</th>\n",
       "      <th>Sentiment_Polarity</th>\n",
       "      <th>Sentiment_Subjectivity</th>\n",
       "    </tr>\n",
       "    <tr>\n",
       "      <th>App</th>\n",
       "      <th></th>\n",
       "      <th></th>\n",
       "      <th></th>\n",
       "      <th></th>\n",
       "    </tr>\n",
       "  </thead>\n",
       "  <tbody>\n",
       "    <tr>\n",
       "      <th>Houzz Interior Design Ideas</th>\n",
       "      <td>NaN</td>\n",
       "      <td>NaN</td>\n",
       "      <td>NaN</td>\n",
       "      <td>NaN</td>\n",
       "    </tr>\n",
       "    <tr>\n",
       "      <th>Houzz Interior Design Ideas</th>\n",
       "      <td>NaN</td>\n",
       "      <td>NaN</td>\n",
       "      <td>NaN</td>\n",
       "      <td>NaN</td>\n",
       "    </tr>\n",
       "    <tr>\n",
       "      <th>Houzz Interior Design Ideas</th>\n",
       "      <td>NaN</td>\n",
       "      <td>NaN</td>\n",
       "      <td>NaN</td>\n",
       "      <td>NaN</td>\n",
       "    </tr>\n",
       "    <tr>\n",
       "      <th>Houzz Interior Design Ideas</th>\n",
       "      <td>NaN</td>\n",
       "      <td>NaN</td>\n",
       "      <td>NaN</td>\n",
       "      <td>NaN</td>\n",
       "    </tr>\n",
       "    <tr>\n",
       "      <th>Houzz Interior Design Ideas</th>\n",
       "      <td>NaN</td>\n",
       "      <td>NaN</td>\n",
       "      <td>NaN</td>\n",
       "      <td>NaN</td>\n",
       "    </tr>\n",
       "  </tbody>\n",
       "</table>\n",
       "</div>"
      ],
      "text/plain": [
       "                            Translated_Review Sentiment  Sentiment_Polarity  \\\n",
       "App                                                                           \n",
       "Houzz Interior Design Ideas               NaN       NaN                 NaN   \n",
       "Houzz Interior Design Ideas               NaN       NaN                 NaN   \n",
       "Houzz Interior Design Ideas               NaN       NaN                 NaN   \n",
       "Houzz Interior Design Ideas               NaN       NaN                 NaN   \n",
       "Houzz Interior Design Ideas               NaN       NaN                 NaN   \n",
       "\n",
       "                             Sentiment_Subjectivity  \n",
       "App                                                  \n",
       "Houzz Interior Design Ideas                     NaN  \n",
       "Houzz Interior Design Ideas                     NaN  \n",
       "Houzz Interior Design Ideas                     NaN  \n",
       "Houzz Interior Design Ideas                     NaN  \n",
       "Houzz Interior Design Ideas                     NaN  "
      ]
     },
     "execution_count": 21,
     "metadata": {},
     "output_type": "execute_result"
    }
   ],
   "source": [
    "reviews.tail()"
   ]
  },
  {
   "cell_type": "code",
   "execution_count": 22,
   "id": "2a09824c-2082-43f7-97bd-9d0f0ba5b380",
   "metadata": {},
   "outputs": [
    {
     "data": {
      "text/plain": [
       "(64295, 4)"
      ]
     },
     "execution_count": 22,
     "metadata": {},
     "output_type": "execute_result"
    }
   ],
   "source": [
    "reviews.shape"
   ]
  },
  {
   "cell_type": "code",
   "execution_count": 23,
   "id": "5000135d-1d19-44b1-b518-89a2db9bb112",
   "metadata": {},
   "outputs": [
    {
     "data": {
      "text/plain": [
       "Index(['Translated_Review', 'Sentiment', 'Sentiment_Polarity',\n",
       "       'Sentiment_Subjectivity'],\n",
       "      dtype='object')"
      ]
     },
     "execution_count": 23,
     "metadata": {},
     "output_type": "execute_result"
    }
   ],
   "source": [
    "reviews.columns"
   ]
  },
  {
   "cell_type": "code",
   "execution_count": 24,
   "id": "d5e14a35-0e1a-4e26-831d-cba9bd02f1d0",
   "metadata": {},
   "outputs": [
    {
     "name": "stdout",
     "output_type": "stream",
     "text": [
      "<class 'pandas.core.frame.DataFrame'>\n",
      "Index: 64295 entries, 10 Best Foods for You to Houzz Interior Design Ideas\n",
      "Data columns (total 4 columns):\n",
      " #   Column                  Non-Null Count  Dtype  \n",
      "---  ------                  --------------  -----  \n",
      " 0   Translated_Review       37427 non-null  object \n",
      " 1   Sentiment               37432 non-null  object \n",
      " 2   Sentiment_Polarity      37432 non-null  float64\n",
      " 3   Sentiment_Subjectivity  37432 non-null  float64\n",
      "dtypes: float64(2), object(2)\n",
      "memory usage: 2.5+ MB\n"
     ]
    }
   ],
   "source": [
    "reviews.info()"
   ]
  },
  {
   "cell_type": "markdown",
   "id": "9615dee7-3c90-401a-9384-a035ba487729",
   "metadata": {},
   "source": [
    "## Observation\n",
    "\n",
    "The review dataset seems clean"
   ]
  },
  {
   "cell_type": "code",
   "execution_count": 32,
   "id": "0247ce45-dfd4-4813-813a-f89a09f529d3",
   "metadata": {},
   "outputs": [
    {
     "data": {
      "text/html": [
       "<div>\n",
       "<style scoped>\n",
       "    .dataframe tbody tr th:only-of-type {\n",
       "        vertical-align: middle;\n",
       "    }\n",
       "\n",
       "    .dataframe tbody tr th {\n",
       "        vertical-align: top;\n",
       "    }\n",
       "\n",
       "    .dataframe thead th {\n",
       "        text-align: right;\n",
       "    }\n",
       "</style>\n",
       "<table border=\"1\" class=\"dataframe\">\n",
       "  <thead>\n",
       "    <tr style=\"text-align: right;\">\n",
       "      <th></th>\n",
       "      <th>Sentiment_Polarity</th>\n",
       "      <th>Sentiment_Subjectivity</th>\n",
       "    </tr>\n",
       "  </thead>\n",
       "  <tbody>\n",
       "    <tr>\n",
       "      <th>count</th>\n",
       "      <td>22593.000000</td>\n",
       "      <td>22593.000000</td>\n",
       "    </tr>\n",
       "    <tr>\n",
       "      <th>mean</th>\n",
       "      <td>0.174076</td>\n",
       "      <td>0.481482</td>\n",
       "    </tr>\n",
       "    <tr>\n",
       "      <th>std</th>\n",
       "      <td>0.346612</td>\n",
       "      <td>0.265364</td>\n",
       "    </tr>\n",
       "    <tr>\n",
       "      <th>min</th>\n",
       "      <td>-1.000000</td>\n",
       "      <td>0.000000</td>\n",
       "    </tr>\n",
       "    <tr>\n",
       "      <th>25%</th>\n",
       "      <td>0.000000</td>\n",
       "      <td>0.333333</td>\n",
       "    </tr>\n",
       "    <tr>\n",
       "      <th>50%</th>\n",
       "      <td>0.144444</td>\n",
       "      <td>0.500000</td>\n",
       "    </tr>\n",
       "    <tr>\n",
       "      <th>75%</th>\n",
       "      <td>0.400000</td>\n",
       "      <td>0.650000</td>\n",
       "    </tr>\n",
       "    <tr>\n",
       "      <th>max</th>\n",
       "      <td>1.000000</td>\n",
       "      <td>1.000000</td>\n",
       "    </tr>\n",
       "  </tbody>\n",
       "</table>\n",
       "</div>"
      ],
      "text/plain": [
       "       Sentiment_Polarity  Sentiment_Subjectivity\n",
       "count        22593.000000            22593.000000\n",
       "mean             0.174076                0.481482\n",
       "std              0.346612                0.265364\n",
       "min             -1.000000                0.000000\n",
       "25%              0.000000                0.333333\n",
       "50%              0.144444                0.500000\n",
       "75%              0.400000                0.650000\n",
       "max              1.000000                1.000000"
      ]
     },
     "execution_count": 32,
     "metadata": {},
     "output_type": "execute_result"
    }
   ],
   "source": [
    "reviews.describe()"
   ]
  },
  {
   "cell_type": "markdown",
   "id": "541567d4-c0a4-42c8-9311-4dd61b5a37eb",
   "metadata": {
    "jp-MarkdownHeadingCollapsed": true
   },
   "source": [
    "## Data Cleaning\n",
    "\n",
    ">Task 1: Pre-processing the data\n",
    " - Removing duplicate rows\n",
    " - Remove irrelevant values from each column if any\n",
    " - Clean up columns and rows if needed\n",
    " > Convert all app sizes to MB\\\n",
    " > Convert reviews columns to  numeric datatype \\\n",
    " > Convert all review text to English language using Google Translator library"
   ]
  },
  {
   "cell_type": "markdown",
   "id": "847f64d3-2f7c-4735-b81a-35597bd3c865",
   "metadata": {},
   "source": [
    "## **Subtask 1**: Removing duplicate rows:"
   ]
  },
  {
   "cell_type": "code",
   "execution_count": 23,
   "id": "1f9e1e22-57a0-47fc-9624-68359fdc25ce",
   "metadata": {},
   "outputs": [],
   "source": [
    "# app=app_copy.copy()"
   ]
  },
  {
   "cell_type": "code",
   "execution_count": 26,
   "id": "0d6767c8-1f2f-42c2-bfd3-0cd984e83ff8",
   "metadata": {},
   "outputs": [
    {
     "data": {
      "text/plain": [
       "492"
      ]
     },
     "execution_count": 26,
     "metadata": {},
     "output_type": "execute_result"
    }
   ],
   "source": [
    "##checking for duplicates\n",
    "app.duplicated().sum()"
   ]
  },
  {
   "cell_type": "code",
   "execution_count": 27,
   "id": "b748f0b7",
   "metadata": {
    "executionInfo": {
     "elapsed": 465,
     "status": "ok",
     "timestamp": 1673207951978,
     "user": {
      "displayName": "Fakorede Akinwande alex",
      "userId": "08031585769890615387"
     },
     "user_tz": -60
    },
    "id": "b748f0b7"
   },
   "outputs": [],
   "source": [
    "#drop duplicates values\n",
    "app.drop_duplicates(keep=False,inplace=True)"
   ]
  },
  {
   "cell_type": "code",
   "execution_count": 28,
   "id": "umxINUna6PWx",
   "metadata": {
    "executionInfo": {
     "elapsed": 357,
     "status": "ok",
     "timestamp": 1673207761673,
     "user": {
      "displayName": "Fakorede Akinwande alex",
      "userId": "08031585769890615387"
     },
     "user_tz": -60
    },
    "id": "umxINUna6PWx"
   },
   "outputs": [],
   "source": [
    "\n",
    "reviews.drop_duplicates(keep=False,inplace=True)"
   ]
  },
  {
   "cell_type": "code",
   "execution_count": 29,
   "id": "358ae111-89fc-4c91-9057-6358a76dc9c8",
   "metadata": {},
   "outputs": [
    {
     "data": {
      "text/plain": [
       "(9930, 12)"
      ]
     },
     "execution_count": 29,
     "metadata": {},
     "output_type": "execute_result"
    }
   ],
   "source": [
    "app.shape"
   ]
  },
  {
   "cell_type": "code",
   "execution_count": 30,
   "id": "70a449d5-dc49-4f70-905a-e3ac26bc7c6f",
   "metadata": {},
   "outputs": [
    {
     "data": {
      "text/plain": [
       "(22593, 4)"
      ]
     },
     "execution_count": 30,
     "metadata": {},
     "output_type": "execute_result"
    }
   ],
   "source": [
    "reviews.shape"
   ]
  },
  {
   "cell_type": "code",
   "execution_count": 31,
   "id": "f951b2a1",
   "metadata": {
    "colab": {
     "base_uri": "https://localhost:8080/"
    },
    "executionInfo": {
     "elapsed": 437,
     "status": "ok",
     "timestamp": 1673207766022,
     "user": {
      "displayName": "Fakorede Akinwande alex",
      "userId": "08031585769890615387"
     },
     "user_tz": -60
    },
    "id": "f951b2a1",
    "outputId": "a1fe76fe-5561-4efb-9568-b7586871e15f"
   },
   "outputs": [
    {
     "name": "stdout",
     "output_type": "stream",
     "text": [
      "<class 'pandas.core.frame.DataFrame'>\n",
      "Index: 9930 entries, Photo Editor & Candy Camera & Grid & ScrapBook to iHoroscope - 2018 Daily Horoscope & Astrology\n",
      "Data columns (total 12 columns):\n",
      " #   Column          Non-Null Count  Dtype  \n",
      "---  ------          --------------  -----  \n",
      " 0   Category        9930 non-null   object \n",
      " 1   Rating          8487 non-null   float64\n",
      " 2   Reviews         9929 non-null   float64\n",
      " 3   Size            9930 non-null   object \n",
      " 4   Installs        9929 non-null   float64\n",
      " 5   Type            9929 non-null   object \n",
      " 6   Price           9929 non-null   float64\n",
      " 7   Content Rating  9929 non-null   object \n",
      " 8   Genres          9930 non-null   object \n",
      " 9   Last Updated    9929 non-null   object \n",
      " 10  Current Ver     9922 non-null   object \n",
      " 11  Android Ver     9927 non-null   object \n",
      "dtypes: float64(4), object(8)\n",
      "memory usage: 1008.5+ KB\n"
     ]
    }
   ],
   "source": [
    "app.info()"
   ]
  },
  {
   "cell_type": "markdown",
   "id": "6a80d3c2-a11d-42e5-8ac1-dc60eea90a5f",
   "metadata": {},
   "source": [
    "## Observation\n",
    "\n",
    "> Data still unclean"
   ]
  },
  {
   "cell_type": "code",
   "execution_count": 34,
   "id": "9G6KqwI27Ye7",
   "metadata": {
    "colab": {
     "base_uri": "https://localhost:8080/"
    },
    "executionInfo": {
     "elapsed": 477,
     "status": "ok",
     "timestamp": 1673207773445,
     "user": {
      "displayName": "Fakorede Akinwande alex",
      "userId": "08031585769890615387"
     },
     "user_tz": -60
    },
    "id": "9G6KqwI27Ye7",
    "outputId": "6ee792da-e5c3-45a5-e107-64bd59b3398b"
   },
   "outputs": [
    {
     "name": "stdout",
     "output_type": "stream",
     "text": [
      "<class 'pandas.core.frame.DataFrame'>\n",
      "Index: 22593 entries, 104 找工作 - 找工作 找打工 找兼職 履歷健檢 履歷診療室 to Housing-Real Estate & Property\n",
      "Data columns (total 4 columns):\n",
      " #   Column                  Non-Null Count  Dtype  \n",
      "---  ------                  --------------  -----  \n",
      " 0   Translated_Review       22593 non-null  object \n",
      " 1   Sentiment               22593 non-null  object \n",
      " 2   Sentiment_Polarity      22593 non-null  float64\n",
      " 3   Sentiment_Subjectivity  22593 non-null  float64\n",
      "dtypes: float64(2), object(2)\n",
      "memory usage: 882.5+ KB\n"
     ]
    }
   ],
   "source": [
    "reviews.info()"
   ]
  },
  {
   "cell_type": "code",
   "execution_count": null,
   "id": "7ef2d902-8026-407f-b18d-8069873454b4",
   "metadata": {},
   "outputs": [],
   "source": []
  },
  {
   "cell_type": "code",
   "execution_count": null,
   "id": "8ac84070-ad5a-4294-94f5-904a73f4034d",
   "metadata": {},
   "outputs": [],
   "source": []
  },
  {
   "cell_type": "markdown",
   "id": "4c618ba0-83eb-4ae7-881c-d6d29834d578",
   "metadata": {},
   "source": [
    "## **Subtask2:** Remove irrelevant values from each column if any:"
   ]
  },
  {
   "cell_type": "markdown",
   "id": "741f52f4-8b54-4c12-b85f-88501e9ea12c",
   "metadata": {},
   "source": [
    "> Use the .unique function in python provided by the NumPy library to get a list of all the unique values present in that particular column, if a unique value does not comply with the data type of the column or does not justify the characteristic of the attribute then remove all the rows having that unique value.\n",
    "\n",
    ">1.\tAs the rating can be a float value change the null values of the rating column to 0\n",
    ">2.\t\tDelete the row with a null value for columns with datatype text or strin\n",
    "\n",
    ">3 .\tFor column current ver if there is any null value, change it to N\n",
    "\n",
    "> 4.\tIn the app reviews dataset, remove all the rows with NaN reviews as there is no translated review present to analyze, hence this kind of data is of no us\r\n",
    "\n",
    "> "
   ]
  },
  {
   "cell_type": "markdown",
   "id": "fd4a1dc8-d79a-4a2d-914b-d4990ee517da",
   "metadata": {},
   "source": [
    "#### Apps"
   ]
  },
  {
   "cell_type": "code",
   "execution_count": 35,
   "id": "ddbfca33-96a7-4e22-9f76-cafa7d88c8d5",
   "metadata": {},
   "outputs": [
    {
     "data": {
      "text/plain": [
       "Index(['Category', 'Rating', 'Reviews', 'Size', 'Installs', 'Type', 'Price',\n",
       "       'Content Rating', 'Genres', 'Last Updated', 'Current Ver',\n",
       "       'Android Ver'],\n",
       "      dtype='object')"
      ]
     },
     "execution_count": 35,
     "metadata": {},
     "output_type": "execute_result"
    }
   ],
   "source": [
    "app.columns"
   ]
  },
  {
   "cell_type": "markdown",
   "id": "df2a5b7c-8726-48bc-9c47-19dc973d2b7d",
   "metadata": {},
   "source": [
    "###### **Category**"
   ]
  },
  {
   "cell_type": "code",
   "execution_count": 33,
   "id": "ea8b5cf4-382e-4243-9b4b-e3a0d29ec8ed",
   "metadata": {},
   "outputs": [
    {
     "name": "stdout",
     "output_type": "stream",
     "text": [
      "['ART_AND_DESIGN' 'AUTO_AND_VEHICLES' 'BEAUTY' 'BOOKS_AND_REFERENCE'\n",
      " 'BUSINESS' 'COMICS' 'COMMUNICATION' 'DATING' 'EDUCATION' 'ENTERTAINMENT'\n",
      " 'EVENTS' 'FINANCE' 'FOOD_AND_DRINK' 'HEALTH_AND_FITNESS' 'HOUSE_AND_HOME'\n",
      " 'LIBRARIES_AND_DEMO' 'LIFESTYLE' 'GAME' 'FAMILY' 'MEDICAL' 'SOCIAL'\n",
      " 'SHOPPING' 'PHOTOGRAPHY' 'SPORTS' 'TRAVEL_AND_LOCAL' 'TOOLS'\n",
      " 'PERSONALIZATION' 'PRODUCTIVITY' 'PARENTING' 'WEATHER' 'VIDEO_PLAYERS'\n",
      " 'NEWS_AND_MAGAZINES' 'MAPS_AND_NAVIGATION' '1.9']\n"
     ]
    }
   ],
   "source": [
    "#Checking category column for different datatype\n",
    "print(app['Category'].unique())\n"
   ]
  },
  {
   "cell_type": "code",
   "execution_count": 34,
   "id": "1688ee79-5fec-4664-a370-fd02aa4cdc2c",
   "metadata": {},
   "outputs": [
    {
     "name": "stdout",
     "output_type": "stream",
     "text": [
      "\n",
      "Index(['Life Made WI-Fi Touchscreen Photo Frame'], dtype='object', name='App')\n"
     ]
    }
   ],
   "source": [
    "catErr=app[app['Category']=='1.9'].index\n",
    "print()\n",
    "print(catErr)"
   ]
  },
  {
   "cell_type": "code",
   "execution_count": 35,
   "id": "e3b30598-3be3-4f48-b980-8e991dcd5eaf",
   "metadata": {},
   "outputs": [],
   "source": [
    "#dropping different datatype values\n",
    "app.drop(catErr,inplace=True)"
   ]
  },
  {
   "cell_type": "code",
   "execution_count": 36,
   "id": "ac4d9f87",
   "metadata": {
    "colab": {
     "base_uri": "https://localhost:8080/"
    },
    "executionInfo": {
     "elapsed": 390,
     "status": "ok",
     "timestamp": 1673207959703,
     "user": {
      "displayName": "Fakorede Akinwande alex",
      "userId": "08031585769890615387"
     },
     "user_tz": -60
    },
    "id": "ac4d9f87",
    "outputId": "3703f755-cd88-4bdf-c756-fd966ecd0bf8"
   },
   "outputs": [
    {
     "name": "stdout",
     "output_type": "stream",
     "text": [
      "['ART_AND_DESIGN' 'AUTO_AND_VEHICLES' 'BEAUTY' 'BOOKS_AND_REFERENCE'\n",
      " 'BUSINESS' 'COMICS' 'COMMUNICATION' 'DATING' 'EDUCATION' 'ENTERTAINMENT'\n",
      " 'EVENTS' 'FINANCE' 'FOOD_AND_DRINK' 'HEALTH_AND_FITNESS' 'HOUSE_AND_HOME'\n",
      " 'LIBRARIES_AND_DEMO' 'LIFESTYLE' 'GAME' 'FAMILY' 'MEDICAL' 'SOCIAL'\n",
      " 'SHOPPING' 'PHOTOGRAPHY' 'SPORTS' 'TRAVEL_AND_LOCAL' 'TOOLS'\n",
      " 'PERSONALIZATION' 'PRODUCTIVITY' 'PARENTING' 'WEATHER' 'VIDEO_PLAYERS'\n",
      " 'NEWS_AND_MAGAZINES' 'MAPS_AND_NAVIGATION']\n"
     ]
    }
   ],
   "source": [
    "\n",
    "print(app['Category'].unique())"
   ]
  },
  {
   "cell_type": "code",
   "execution_count": 37,
   "id": "9dea68f1-572d-46ab-8840-07c09dfa10a1",
   "metadata": {},
   "outputs": [
    {
     "data": {
      "text/plain": [
       "33"
      ]
     },
     "execution_count": 37,
     "metadata": {},
     "output_type": "execute_result"
    }
   ],
   "source": [
    "app['Category'].nunique()"
   ]
  },
  {
   "cell_type": "code",
   "execution_count": 38,
   "id": "e706b453-fcb1-41e0-b153-da012e4f3b3e",
   "metadata": {},
   "outputs": [
    {
     "name": "stdout",
     "output_type": "stream",
     "text": [
      "<class 'pandas.core.frame.DataFrame'>\n",
      "Index: 9929 entries, Photo Editor & Candy Camera & Grid & ScrapBook to iHoroscope - 2018 Daily Horoscope & Astrology\n",
      "Data columns (total 12 columns):\n",
      " #   Column          Non-Null Count  Dtype  \n",
      "---  ------          --------------  -----  \n",
      " 0   Category        9929 non-null   object \n",
      " 1   Rating          8486 non-null   float64\n",
      " 2   Reviews         9929 non-null   float64\n",
      " 3   Size            9929 non-null   object \n",
      " 4   Installs        9929 non-null   float64\n",
      " 5   Type            9928 non-null   object \n",
      " 6   Price           9929 non-null   float64\n",
      " 7   Content Rating  9929 non-null   object \n",
      " 8   Genres          9929 non-null   object \n",
      " 9   Last Updated    9929 non-null   object \n",
      " 10  Current Ver     9921 non-null   object \n",
      " 11  Android Ver     9927 non-null   object \n",
      "dtypes: float64(4), object(8)\n",
      "memory usage: 1008.4+ KB\n"
     ]
    }
   ],
   "source": [
    "app.info()"
   ]
  },
  {
   "cell_type": "markdown",
   "id": "25eac7e0-b252-4105-9124-b048bbe1f1e6",
   "metadata": {},
   "source": [
    "###### **Rating** "
   ]
  },
  {
   "cell_type": "code",
   "execution_count": 39,
   "id": "9549ba91-f851-499b-866c-7e23f0158b79",
   "metadata": {},
   "outputs": [
    {
     "data": {
      "text/plain": [
       "array([4.1, 3.9, 4.7, 4.5, 4.3, 4.4, 3.8, 4.2, 4.6, 3.2, 4. , nan, 4.8,\n",
       "       4.9, 3.6, 3.7, 3.3, 3.4, 3.5, 3.1, 5. , 2.6, 3. , 2.5, 1. , 1.9,\n",
       "       2.9, 2.8, 2.3, 2.2, 1.7, 2. , 1.8, 2.7, 2.4, 1.6, 2.1, 1.4, 1.5,\n",
       "       1.2])"
      ]
     },
     "execution_count": 39,
     "metadata": {},
     "output_type": "execute_result"
    }
   ],
   "source": [
    "app['Rating'].unique()"
   ]
  },
  {
   "cell_type": "code",
   "execution_count": 42,
   "id": "c8c9a899-fd40-4a80-927d-2ff2a1ed3f50",
   "metadata": {},
   "outputs": [
    {
     "data": {
      "text/plain": [
       "1443"
      ]
     },
     "execution_count": 42,
     "metadata": {},
     "output_type": "execute_result"
    }
   ],
   "source": [
    "app['Rating'].isna().sum()"
   ]
  },
  {
   "cell_type": "code",
   "execution_count": 43,
   "id": "d3412fec-6a18-4105-803c-e66cd69bfdd7",
   "metadata": {},
   "outputs": [],
   "source": [
    "# replacing  nan with zero in Ratings\n",
    "\n",
    "app['Rating']=app['Rating'].fillna(0)"
   ]
  },
  {
   "cell_type": "code",
   "execution_count": 44,
   "id": "9b32ec2b-2494-4b11-8920-24e00502a5f9",
   "metadata": {},
   "outputs": [
    {
     "data": {
      "text/plain": [
       "array([4.1, 3.9, 4.7, 4.5, 4.3, 4.4, 3.8, 4.2, 4.6, 3.2, 4. , 0. , 4.8,\n",
       "       4.9, 3.6, 3.7, 3.3, 3.4, 3.5, 3.1, 5. , 2.6, 3. , 2.5, 1. , 1.9,\n",
       "       2.9, 2.8, 2.3, 2.2, 1.7, 2. , 1.8, 2.7, 2.4, 1.6, 2.1, 1.4, 1.5,\n",
       "       1.2])"
      ]
     },
     "execution_count": 44,
     "metadata": {},
     "output_type": "execute_result"
    }
   ],
   "source": [
    "app['Rating'].unique()"
   ]
  },
  {
   "cell_type": "code",
   "execution_count": 45,
   "id": "412defae-2e5c-4f9e-9ff7-b70c8248b31c",
   "metadata": {},
   "outputs": [
    {
     "data": {
      "text/plain": [
       "0"
      ]
     },
     "execution_count": 45,
     "metadata": {},
     "output_type": "execute_result"
    }
   ],
   "source": [
    "app['Rating'].isna().sum()"
   ]
  },
  {
   "cell_type": "code",
   "execution_count": 46,
   "id": "99d144a0-a6dc-41f4-84b8-19377239b959",
   "metadata": {},
   "outputs": [
    {
     "data": {
      "text/plain": [
       "40"
      ]
     },
     "execution_count": 46,
     "metadata": {},
     "output_type": "execute_result"
    }
   ],
   "source": [
    "app['Rating'].nunique()"
   ]
  },
  {
   "cell_type": "code",
   "execution_count": 47,
   "id": "61d6028c-10bd-43a7-8195-2b66eb1a8f6e",
   "metadata": {},
   "outputs": [
    {
     "name": "stdout",
     "output_type": "stream",
     "text": [
      "<class 'pandas.core.frame.DataFrame'>\n",
      "Index: 9929 entries, Photo Editor & Candy Camera & Grid & ScrapBook to iHoroscope - 2018 Daily Horoscope & Astrology\n",
      "Data columns (total 12 columns):\n",
      " #   Column          Non-Null Count  Dtype  \n",
      "---  ------          --------------  -----  \n",
      " 0   Category        9929 non-null   object \n",
      " 1   Rating          9929 non-null   float64\n",
      " 2   Reviews         9929 non-null   float64\n",
      " 3   Size            9929 non-null   object \n",
      " 4   Installs        9929 non-null   float64\n",
      " 5   Type            9928 non-null   object \n",
      " 6   Price           9929 non-null   float64\n",
      " 7   Content Rating  9929 non-null   object \n",
      " 8   Genres          9929 non-null   object \n",
      " 9   Last Updated    9929 non-null   object \n",
      " 10  Current Ver     9921 non-null   object \n",
      " 11  Android Ver     9927 non-null   object \n",
      "dtypes: float64(4), object(8)\n",
      "memory usage: 1008.4+ KB\n"
     ]
    }
   ],
   "source": [
    "app.info()"
   ]
  },
  {
   "cell_type": "code",
   "execution_count": 48,
   "id": "08dca82b-1058-49b6-be4d-e9d43d0c1c46",
   "metadata": {},
   "outputs": [
    {
     "data": {
      "text/plain": [
       "Category          0\n",
       "Rating            0\n",
       "Reviews           0\n",
       "Size              0\n",
       "Installs          0\n",
       "Type              1\n",
       "Price             0\n",
       "Content Rating    0\n",
       "Genres            0\n",
       "Last Updated      0\n",
       "Current Ver       8\n",
       "Android Ver       2\n",
       "dtype: int64"
      ]
     },
     "execution_count": 48,
     "metadata": {},
     "output_type": "execute_result"
    }
   ],
   "source": [
    "app.isna().sum()"
   ]
  },
  {
   "cell_type": "code",
   "execution_count": null,
   "id": "b4735537-0031-4266-8494-fe904b7cbd4e",
   "metadata": {},
   "outputs": [],
   "source": []
  },
  {
   "cell_type": "markdown",
   "id": "5e1d3756-ebad-4d77-ace2-9568a6a1d5f1",
   "metadata": {},
   "source": [
    "###### **Type** "
   ]
  },
  {
   "cell_type": "code",
   "execution_count": 49,
   "id": "9b394c82-67f1-4a9c-8439-f532c939466b",
   "metadata": {},
   "outputs": [
    {
     "data": {
      "text/plain": [
       "array(['Free', 'Paid', nan], dtype=object)"
      ]
     },
     "execution_count": 49,
     "metadata": {},
     "output_type": "execute_result"
    }
   ],
   "source": [
    "app['Type'].unique()"
   ]
  },
  {
   "cell_type": "code",
   "execution_count": 50,
   "id": "8aeb8177-8e8a-4dd9-8cc5-f9aa984e3ff4",
   "metadata": {},
   "outputs": [
    {
     "data": {
      "text/plain": [
       "dtype('O')"
      ]
     },
     "execution_count": 50,
     "metadata": {},
     "output_type": "execute_result"
    }
   ],
   "source": [
    "app['Type'].dtypes"
   ]
  },
  {
   "cell_type": "code",
   "execution_count": 51,
   "id": "c641fe59-2bb6-4deb-b977-c25c9a71084a",
   "metadata": {},
   "outputs": [
    {
     "data": {
      "text/plain": [
       "1"
      ]
     },
     "execution_count": 51,
     "metadata": {},
     "output_type": "execute_result"
    }
   ],
   "source": [
    "app['Type'].isna().sum()"
   ]
  },
  {
   "cell_type": "markdown",
   "id": "658de917-49fa-4b7d-aad0-1f4ce16365b3",
   "metadata": {},
   "source": [
    "###### **Current Ver** \n"
   ]
  },
  {
   "cell_type": "code",
   "execution_count": 52,
   "id": "38e50b0c-793e-4eee-ae35-0775a2416032",
   "metadata": {},
   "outputs": [
    {
     "data": {
      "text/plain": [
       "array(['1.0.0', '2.0.0', '1.2.4', ..., '1.0.612928', '0.3.4', '2.0.148.0'],\n",
       "      dtype=object)"
      ]
     },
     "execution_count": 52,
     "metadata": {},
     "output_type": "execute_result"
    }
   ],
   "source": [
    "app['Current Ver'].unique()"
   ]
  },
  {
   "cell_type": "code",
   "execution_count": 53,
   "id": "7771c287-0f00-4183-b33f-562e3746b647",
   "metadata": {},
   "outputs": [
    {
     "data": {
      "text/plain": [
       "dtype('O')"
      ]
     },
     "execution_count": 53,
     "metadata": {},
     "output_type": "execute_result"
    }
   ],
   "source": [
    "app['Current Ver'].dtypes"
   ]
  },
  {
   "cell_type": "code",
   "execution_count": 54,
   "id": "ef33f35a-f14f-46f8-9138-f0c512a27bc3",
   "metadata": {},
   "outputs": [
    {
     "data": {
      "text/plain": [
       "8"
      ]
     },
     "execution_count": 54,
     "metadata": {},
     "output_type": "execute_result"
    }
   ],
   "source": [
    "app['Current Ver'].isna().sum()"
   ]
  },
  {
   "cell_type": "markdown",
   "id": "babcd5f0-4938-4e8f-8e81-b49ef946f7f4",
   "metadata": {},
   "source": [
    "###### **Android Ver** "
   ]
  },
  {
   "cell_type": "code",
   "execution_count": 55,
   "id": "be9a7954-90fe-44a4-ac50-59eb80b2cc33",
   "metadata": {},
   "outputs": [
    {
     "data": {
      "text/plain": [
       "dtype('O')"
      ]
     },
     "execution_count": 55,
     "metadata": {},
     "output_type": "execute_result"
    }
   ],
   "source": [
    "app['Android Ver'].dtypes"
   ]
  },
  {
   "cell_type": "code",
   "execution_count": 56,
   "id": "928d7247-7870-46cd-99ff-92451ffbebb5",
   "metadata": {},
   "outputs": [
    {
     "data": {
      "text/plain": [
       "array(['4.0.3 and up', '4.2 and up', '4.4 and up', '2.3 and up',\n",
       "       '3.0 and up', '4.1 and up', '4.0 and up', '2.3.3 and up',\n",
       "       'Varies with device', '2.2 and up', '5.0 and up', '6.0 and up',\n",
       "       '1.6 and up', '1.5 and up', '2.1 and up', '7.0 and up',\n",
       "       '5.1 and up', '4.3 and up', '4.0.3 - 7.1.1', '2.0 and up',\n",
       "       '3.2 and up', '4.4W and up', '7.1 and up', '7.0 - 7.1.1',\n",
       "       '8.0 and up', '5.0 - 8.0', '3.1 and up', '2.0.1 and up',\n",
       "       '4.1 - 7.1.1', nan, '5.0 - 6.0', '1.0 and up', '2.2 - 7.1.1',\n",
       "       '5.0 - 7.1.1'], dtype=object)"
      ]
     },
     "execution_count": 56,
     "metadata": {},
     "output_type": "execute_result"
    }
   ],
   "source": [
    "app['Android Ver'].unique()"
   ]
  },
  {
   "cell_type": "code",
   "execution_count": 57,
   "id": "76e4a0d6-d2ba-4fc4-89ce-188107f24102",
   "metadata": {},
   "outputs": [
    {
     "data": {
      "text/plain": [
       "2"
      ]
     },
     "execution_count": 57,
     "metadata": {},
     "output_type": "execute_result"
    }
   ],
   "source": [
    "app['Android Ver'].isna().sum()"
   ]
  },
  {
   "cell_type": "markdown",
   "id": "e3aaa166-f55f-4d8b-8c5f-0f3868a557b2",
   "metadata": {},
   "source": [
    "## **Subtask 3:** Export the cleaned dataset as a .csv file and prepare the data using excel/pyton:"
   ]
  },
  {
   "cell_type": "code",
   "execution_count": 58,
   "id": "56081123-d000-42e4-babb-09f01b04a87b",
   "metadata": {},
   "outputs": [],
   "source": [
    "app.to_csv('app_cleaned.csv')"
   ]
  },
  {
   "cell_type": "markdown",
   "id": "8cc04e20-0d1b-4783-bb4a-07d235cff955",
   "metadata": {},
   "source": [
    ">prepare the data using excel"
   ]
  },
  {
   "cell_type": "markdown",
   "id": "86ba6a20-d34b-49b9-a41a-145d87951c85",
   "metadata": {},
   "source": [
    "\n",
    "**- prepare the data using python**"
   ]
  },
  {
   "cell_type": "markdown",
   "id": "d9e09049-bb16-478a-89e8-cb11cb702680",
   "metadata": {},
   "source": [
    "### **Clean up /drop missing rows of text features**"
   ]
  },
  {
   "cell_type": "code",
   "execution_count": 59,
   "id": "320fa89f-f9d5-4d92-9ad4-c993de989d14",
   "metadata": {},
   "outputs": [
    {
     "data": {
      "text/plain": [
       "Category          0\n",
       "Rating            0\n",
       "Reviews           0\n",
       "Size              0\n",
       "Installs          0\n",
       "Type              1\n",
       "Price             0\n",
       "Content Rating    0\n",
       "Genres            0\n",
       "Last Updated      0\n",
       "Current Ver       8\n",
       "Android Ver       2\n",
       "dtype: int64"
      ]
     },
     "execution_count": 59,
     "metadata": {},
     "output_type": "execute_result"
    }
   ],
   "source": [
    "app.isna().sum()"
   ]
  },
  {
   "cell_type": "code",
   "execution_count": 60,
   "id": "5ef4be27-745c-465b-9efa-6293af9c1401",
   "metadata": {},
   "outputs": [],
   "source": [
    "app=app.dropna(axis=0)"
   ]
  },
  {
   "cell_type": "code",
   "execution_count": 61,
   "id": "db8542bf-cfb8-471e-8c43-90a8663ae4fb",
   "metadata": {},
   "outputs": [
    {
     "data": {
      "text/plain": [
       "Category          0\n",
       "Rating            0\n",
       "Reviews           0\n",
       "Size              0\n",
       "Installs          0\n",
       "Type              0\n",
       "Price             0\n",
       "Content Rating    0\n",
       "Genres            0\n",
       "Last Updated      0\n",
       "Current Ver       0\n",
       "Android Ver       0\n",
       "dtype: int64"
      ]
     },
     "execution_count": 61,
     "metadata": {},
     "output_type": "execute_result"
    }
   ],
   "source": [
    "app.isna().sum()"
   ]
  },
  {
   "cell_type": "code",
   "execution_count": 62,
   "id": "91940d82-2ff9-4df9-958a-40f439c0a082",
   "metadata": {},
   "outputs": [
    {
     "name": "stdout",
     "output_type": "stream",
     "text": [
      "<class 'pandas.core.frame.DataFrame'>\n",
      "Index: 9918 entries, Photo Editor & Candy Camera & Grid & ScrapBook to iHoroscope - 2018 Daily Horoscope & Astrology\n",
      "Data columns (total 12 columns):\n",
      " #   Column          Non-Null Count  Dtype  \n",
      "---  ------          --------------  -----  \n",
      " 0   Category        9918 non-null   object \n",
      " 1   Rating          9918 non-null   float64\n",
      " 2   Reviews         9918 non-null   float64\n",
      " 3   Size            9918 non-null   object \n",
      " 4   Installs        9918 non-null   float64\n",
      " 5   Type            9918 non-null   object \n",
      " 6   Price           9918 non-null   float64\n",
      " 7   Content Rating  9918 non-null   object \n",
      " 8   Genres          9918 non-null   object \n",
      " 9   Last Updated    9918 non-null   object \n",
      " 10  Current Ver     9918 non-null   object \n",
      " 11  Android Ver     9918 non-null   object \n",
      "dtypes: float64(4), object(8)\n",
      "memory usage: 1007.3+ KB\n"
     ]
    }
   ],
   "source": [
    "app.info()"
   ]
  },
  {
   "cell_type": "code",
   "execution_count": null,
   "id": "cd0ce15b-ccde-4675-86f1-518a3ba6ff2b",
   "metadata": {},
   "outputs": [],
   "source": []
  },
  {
   "cell_type": "code",
   "execution_count": 43,
   "id": "40c8e6ea-4521-42fd-9d18-1a996e30cc93",
   "metadata": {},
   "outputs": [],
   "source": [
    "newapp=app.copy()"
   ]
  },
  {
   "cell_type": "markdown",
   "id": "770a6816-b1ce-4691-9885-4564e9c29122",
   "metadata": {},
   "source": [
    "###### Checking Features unique values for possible errors"
   ]
  },
  {
   "cell_type": "code",
   "execution_count": 44,
   "id": "39e75ae6",
   "metadata": {
    "colab": {
     "base_uri": "https://localhost:8080/"
    },
    "executionInfo": {
     "elapsed": 350,
     "status": "ok",
     "timestamp": 1673208029864,
     "user": {
      "displayName": "Fakorede Akinwande alex",
      "userId": "08031585769890615387"
     },
     "user_tz": -60
    },
    "id": "39e75ae6",
    "outputId": "580a45b6-b8a4-4a67-c5dd-f8853278b91d"
   },
   "outputs": [
    {
     "name": "stdout",
     "output_type": "stream",
     "text": [
      "[4.1 3.9 4.7 4.5 4.3 4.4 3.8 4.2 4.6 3.2 4.  nan 4.8 4.9 3.6 3.7 3.3 3.4\n",
      " 3.5 3.1 5.  2.6 3.  2.5 1.  1.9 2.9 2.8 2.3 2.2 1.7 2.  1.8 2.7 2.4 1.6\n",
      " 2.1 1.4 1.5 1.2]\n",
      "\n",
      "[1.59000e+02 9.67000e+02 8.75100e+04 ... 6.03000e+02 1.19500e+03\n",
      " 3.98307e+05]\n",
      "\n",
      "['19M' '14M' '8.7M' '25M' '2.8M' '5.6M' '29M' '33M' '3.1M' '28M' '12M'\n",
      " '20M' '21M' '37M' '2.7M' '5.5M' '17M' '39M' '31M' '4.2M' '7.0M' '23M'\n",
      " '6.0M' '6.1M' '4.6M' '9.2M' '5.2M' '11M' '24M' 'Varies with device'\n",
      " '9.4M' '15M' '10M' '1.2M' '26M' '8.0M' '7.9M' '56M' '57M' '35M' '54M'\n",
      " '201k' '3.6M' '5.7M' '8.6M' '2.4M' '27M' '2.5M' '16M' '3.4M' '8.9M'\n",
      " '3.9M' '2.9M' '38M' '32M' '5.4M' '18M' '1.1M' '2.2M' '4.5M' '9.8M' '52M'\n",
      " '9.0M' '6.7M' '30M' '2.6M' '7.1M' '3.7M' '22M' '7.4M' '6.4M' '3.2M'\n",
      " '8.2M' '9.9M' '4.9M' '9.5M' '5.0M' '5.9M' '13M' '73M' '6.8M' '3.5M'\n",
      " '4.0M' '2.3M' '7.2M' '2.1M' '42M' '7.3M' '9.1M' '55M' '23k' '6.5M' '1.5M'\n",
      " '7.5M' '46M' '8.3M' '4.3M' '4.7M' '3.3M' '40M' '7.8M' '8.8M' '6.6M'\n",
      " '5.1M' '61M' '66M' '79k' '8.4M' '118k' '44M' '695k' '1.6M' '6.2M' '18k'\n",
      " '53M' '1.4M' '3.0M' '5.8M' '3.8M' '9.6M' '45M' '63M' '49M' '4.4M' '70M'\n",
      " '6.9M' '9.3M' '10.0M' '8.1M' '36M' '41M' '51M' '84M' '97M' '2.0M' '1.9M'\n",
      " '1.8M' '5.3M' '48M' '47M' '556k' '526k' '76M' '7.6M' '59M' '9.7M' '78M'\n",
      " '8.5M' '72M' '43M' '7.7M' '77M' '6.3M' '334k' '34M' '93M' '65M' '79M'\n",
      " '100M' '58M' '50M' '68M' '64M' '94M' '232k' '99M' '624k' '95M' '8.5k'\n",
      " '41k' '292k' '11k' '80M' '1.7M' '67M' '74M' '62M' '69M' '75M' '85M' '82M'\n",
      " '96M' '87M' '60M' '71M' '98M' '86M' '91M' '81M' '92M' '83M' '88M' '862k'\n",
      " '899k' '378k' '266k' '375k' '1.3M' '975k' '980k' '4.1M' '89M' '696k'\n",
      " '544k' '525k' '920k' '779k' '853k' '720k' '713k' '4.8M' '772k' '318k'\n",
      " '58k' '241k' '196k' '857k' '51k' '953k' '865k' '251k' '930k' '540k'\n",
      " '313k' '746k' '203k' '26k' '314k' '239k' '371k' '220k' '730k' '756k'\n",
      " '91k' '293k' '17k' '74k' '14k' '317k' '78k' '924k' '902k' '818k' '81k'\n",
      " '939k' '169k' '45k' '475k' '965k' '90M' '545k' '61k' '283k' '655k' '714k'\n",
      " '93k' '872k' '121k' '322k' '1.0M' '976k' '172k' '238k' '549k' '206k'\n",
      " '954k' '444k' '717k' '210k' '609k' '308k' '705k' '306k' '904k' '473k'\n",
      " '175k' '350k' '383k' '454k' '421k' '70k' '812k' '442k' '842k' '417k'\n",
      " '412k' '459k' '478k' '335k' '782k' '721k' '430k' '429k' '192k' '200k'\n",
      " '460k' '728k' '496k' '816k' '414k' '506k' '887k' '613k' '243k' '569k'\n",
      " '778k' '683k' '592k' '319k' '186k' '840k' '647k' '191k' '373k' '437k'\n",
      " '598k' '716k' '585k' '982k' '222k' '219k' '55k' '948k' '323k' '691k'\n",
      " '511k' '951k' '963k' '25k' '554k' '351k' '27k' '82k' '208k' '913k' '514k'\n",
      " '551k' '29k' '103k' '898k' '743k' '116k' '153k' '209k' '353k' '499k'\n",
      " '173k' '597k' '809k' '122k' '411k' '400k' '801k' '787k' '237k' '50k'\n",
      " '643k' '986k' '97k' '516k' '837k' '780k' '961k' '269k' '20k' '498k'\n",
      " '600k' '749k' '642k' '881k' '72k' '656k' '601k' '221k' '228k' '108k'\n",
      " '940k' '176k' '33k' '663k' '34k' '942k' '259k' '164k' '458k' '245k'\n",
      " '629k' '28k' '288k' '775k' '785k' '636k' '916k' '994k' '309k' '485k'\n",
      " '914k' '903k' '608k' '500k' '54k' '562k' '847k' '957k' '688k' '811k'\n",
      " '270k' '48k' '329k' '523k' '921k' '874k' '981k' '784k' '280k' '24k'\n",
      " '518k' '754k' '892k' '154k' '860k' '364k' '387k' '626k' '161k' '879k'\n",
      " '39k' '970k' '170k' '141k' '160k' '144k' '143k' '190k' '376k' '193k'\n",
      " '246k' '73k' '658k' '992k' '253k' '420k' '404k' '470k' '226k' '240k'\n",
      " '89k' '234k' '257k' '861k' '467k' '157k' '44k' '676k' '67k' '552k' '885k'\n",
      " '1020k' '582k' '619k']\n",
      "\n",
      "[1.e+04 5.e+05 5.e+06 5.e+07 1.e+05 5.e+04 1.e+06 1.e+07 5.e+03 1.e+08\n",
      " 1.e+09 1.e+03 5.e+08 5.e+01 1.e+02 5.e+02 1.e+01 1.e+00 5.e+00 0.e+00]\n",
      "\n",
      "['Free' 'Paid' nan]\n",
      "\n",
      "[  0.     3.99   6.99   1.49   2.99   7.99   5.99   4.99   3.49   1.99\n",
      "   9.99   7.49   0.99   1.     2.49  10.99   1.5   14.99  15.99  74.99\n",
      "  39.99   3.95  29.99   4.49   1.7    8.99   2.     3.88  25.99 399.99\n",
      "  17.99 400.     3.02   1.76   4.84   4.77   1.61   2.5   19.99   1.59\n",
      "   6.49   1.29   5.    13.99 299.99 379.99  37.99  18.99 389.99  19.9\n",
      "   8.49   1.75  11.99  14.     4.85  46.99   5.49 109.99 154.99   3.08\n",
      "   2.59   4.8    1.96  19.4    3.9    4.59  15.46  10.     3.04  12.99\n",
      "   4.29   2.6    3.28   4.6   28.99   2.95   2.9    1.97  24.99 200.\n",
      "  89.99   2.56  30.99   3.61 394.99   1.26  16.99   1.2    1.04]\n",
      "\n",
      "['Everyone' 'Teen' 'Everyone 10+' 'Mature 17+' 'Adults only 18+' 'Unrated']\n",
      "\n",
      "['07-01-2018' '15-01-2018' '01-08-2018' ... '20-01-2014' '16-02-2014'\n",
      " '23-03-2014']\n",
      "\n",
      "['1.0.0' '2.0.0' '1.2.4' ... '1.0.612928' '0.3.4' '2.0.148.0']\n",
      "\n",
      "['4.0.3 and up' '4.2 and up' '4.4 and up' '2.3 and up' '3.0 and up'\n",
      " '4.1 and up' '4.0 and up' '2.3.3 and up' 'Varies with device'\n",
      " '2.2 and up' '5.0 and up' '6.0 and up' '1.6 and up' '1.5 and up'\n",
      " '2.1 and up' '7.0 and up' '5.1 and up' '4.3 and up' '4.0.3 - 7.1.1'\n",
      " '2.0 and up' '3.2 and up' '4.4W and up' '7.1 and up' '7.0 - 7.1.1'\n",
      " '8.0 and up' '5.0 - 8.0' '3.1 and up' '2.0.1 and up' '4.1 - 7.1.1' nan\n",
      " '5.0 - 6.0' '1.0 and up' '2.2 - 7.1.1' '5.0 - 7.1.1']\n",
      "\n"
     ]
    }
   ],
   "source": [
    "print(newapp['Rating'].unique(),end='\\n\\n')\n",
    "print(newapp['Reviews'].unique(),end='\\n\\n')\n",
    "print(newapp['Size'].unique(),end='\\n\\n')\n",
    "print(newapp['Installs'].unique(),end='\\n\\n')\n",
    "print(newapp['Type'].unique(),end='\\n\\n')\n",
    "print(newapp['Price'].unique(),end='\\n\\n')\n",
    "print(newapp['Content Rating'].unique(),end='\\n\\n')\n",
    "print(newapp['Last Updated'].unique(),end='\\n\\n')\n",
    "print(newapp['Current Ver'].unique(),end='\\n\\n')\n",
    "print(newapp['Android Ver'].unique(),end='\\n\\n')"
   ]
  },
  {
   "cell_type": "markdown",
   "id": "4ffaf89b-f45c-4b17-a5f8-c798ad7f74d5",
   "metadata": {},
   "source": [
    "#### **Convert all app sizes to MB**"
   ]
  },
  {
   "cell_type": "code",
   "execution_count": 45,
   "id": "0cee4b76-e0bb-4fc4-8feb-575e78f45210",
   "metadata": {},
   "outputs": [],
   "source": [
    "# - Size : Remove 'M', Replace 'k' and divide by 10^-3\n",
    "#df['Size'] = df['Size'].fillna(0)\n",
    "\n",
    "newapp['Size'] = newapp['Size'].apply(lambda x: str(x).replace('Varies with device', 'NaN') if 'Varies with device' in str(x) else x)\n",
    "\n",
    "newapp['Size'] = newapp['Size'].apply(lambda x: str(x).replace('M', '') if 'M' in str(x) else x)\n",
    "newapp['Size'] = newapp['Size'].apply(lambda x: str(x).replace(',', '') if 'M' in str(x) else x)\n",
    "newapp['Size'] = newapp['Size'].apply(lambda x: float(str(x).replace('k', '')) / 1000 if 'k' in str(x) else x)\n",
    "\n",
    "\n",
    "# newapp['Size'] = app['Size'].apply(lambda x: float(x))"
   ]
  },
  {
   "cell_type": "code",
   "execution_count": 46,
   "id": "d84f0e1b-63c2-4024-9172-d4952eb97da7",
   "metadata": {},
   "outputs": [],
   "source": [
    "newapp['Size']=newapp['Size'].astype(float)"
   ]
  },
  {
   "cell_type": "code",
   "execution_count": 47,
   "id": "79007f72-9aca-455a-ba53-5ec6f0788a91",
   "metadata": {},
   "outputs": [
    {
     "data": {
      "text/plain": [
       "dtype('float64')"
      ]
     },
     "execution_count": 47,
     "metadata": {},
     "output_type": "execute_result"
    }
   ],
   "source": [
    "newapp['Size'].dtypes"
   ]
  },
  {
   "cell_type": "code",
   "execution_count": 48,
   "id": "3d0625b6-c3b8-4bfe-a63c-fa1be173ea8a",
   "metadata": {},
   "outputs": [
    {
     "data": {
      "text/plain": [
       "458"
      ]
     },
     "execution_count": 48,
     "metadata": {},
     "output_type": "execute_result"
    }
   ],
   "source": [
    "newapp['Size'].nunique()"
   ]
  },
  {
   "cell_type": "code",
   "execution_count": 49,
   "id": "0477b25f-e7a4-423f-9f97-679bb4838d9c",
   "metadata": {},
   "outputs": [
    {
     "data": {
      "text/plain": [
       "App\n",
       "Photo Editor & Candy Camera & Grid & ScrapBook        19.0\n",
       "Coloring book moana                                   14.0\n",
       "U Launcher Lite – FREE Live Cool Themes, Hide Apps     8.7\n",
       "Sketch - Draw & Paint                                 25.0\n",
       "Pixel Draw - Number Art Coloring Book                  2.8\n",
       "Name: Size, dtype: float64"
      ]
     },
     "execution_count": 49,
     "metadata": {},
     "output_type": "execute_result"
    }
   ],
   "source": [
    "newapp['Size'].head()"
   ]
  },
  {
   "cell_type": "code",
   "execution_count": 50,
   "id": "94f6c238-82bf-4462-968a-9d9596bc8332",
   "metadata": {},
   "outputs": [
    {
     "data": {
      "text/plain": [
       "1391"
      ]
     },
     "execution_count": 50,
     "metadata": {},
     "output_type": "execute_result"
    }
   ],
   "source": [
    "newapp['Size'].isna().sum()"
   ]
  },
  {
   "cell_type": "code",
   "execution_count": null,
   "id": "8d394c10-62e6-470f-a77c-39699599e0a4",
   "metadata": {},
   "outputs": [],
   "source": []
  },
  {
   "cell_type": "code",
   "execution_count": null,
   "id": "e2e36579-d673-475e-b122-037ba30987ce",
   "metadata": {},
   "outputs": [],
   "source": []
  },
  {
   "cell_type": "code",
   "execution_count": 51,
   "id": "8dee9990-0a41-4a6f-a9e8-f00e5344c21e",
   "metadata": {},
   "outputs": [
    {
     "data": {
      "text/plain": [
       "App\n",
       "Photo Editor & Candy Camera & Grid & ScrapBook           10000.0\n",
       "Coloring book moana                                     500000.0\n",
       "U Launcher Lite – FREE Live Cool Themes, Hide Apps     5000000.0\n",
       "Sketch - Draw & Paint                                 50000000.0\n",
       "Pixel Draw - Number Art Coloring Book                   100000.0\n",
       "Name: Installs, dtype: float64"
      ]
     },
     "execution_count": 51,
     "metadata": {},
     "output_type": "execute_result"
    }
   ],
   "source": [
    "newapp['Installs'].head()"
   ]
  },
  {
   "cell_type": "code",
   "execution_count": 52,
   "id": "18931abc-9639-4cee-bd7b-b494f7a6a2c9",
   "metadata": {},
   "outputs": [],
   "source": [
    "\n",
    "# - Installs : Remove + and ,\n",
    "\n",
    "newapp['Installs'] = newapp['Installs'].apply(lambda x: x.replace('+', '') if '+' in str(x) else x)\n",
    "newapp['Installs'] = newapp['Installs'].apply(lambda x: x.replace(',', '') if ',' in str(x) else x)\n",
    "newapp['Installs'] = newapp['Installs'].apply(lambda x: int(x))\n",
    "#print(type(df['Installs'].values))\n"
   ]
  },
  {
   "cell_type": "code",
   "execution_count": 53,
   "id": "1850dbcb-8758-4ad1-98a4-e0f4e82a661e",
   "metadata": {},
   "outputs": [
    {
     "data": {
      "text/plain": [
       "App\n",
       "Photo Editor & Candy Camera & Grid & ScrapBook           10000\n",
       "Coloring book moana                                     500000\n",
       "U Launcher Lite – FREE Live Cool Themes, Hide Apps     5000000\n",
       "Sketch - Draw & Paint                                 50000000\n",
       "Pixel Draw - Number Art Coloring Book                   100000\n",
       "Name: Installs, dtype: int64"
      ]
     },
     "execution_count": 53,
     "metadata": {},
     "output_type": "execute_result"
    }
   ],
   "source": [
    "newapp['Installs'].head()"
   ]
  },
  {
   "cell_type": "code",
   "execution_count": 54,
   "id": "e588b912-6e4a-4e42-8b9a-559a0f103c47",
   "metadata": {},
   "outputs": [
    {
     "data": {
      "text/plain": [
       "dtype('int64')"
      ]
     },
     "execution_count": 54,
     "metadata": {},
     "output_type": "execute_result"
    }
   ],
   "source": [
    "newapp['Installs'].dtypes"
   ]
  },
  {
   "cell_type": "code",
   "execution_count": 55,
   "id": "69ea8fbb-d7fc-4757-afc0-14053cd3b58c",
   "metadata": {},
   "outputs": [
    {
     "data": {
      "text/plain": [
       "array([  0.  ,   3.99,   6.99,   1.49,   2.99,   7.99,   5.99,   4.99,\n",
       "         3.49,   1.99,   9.99,   7.49,   0.99,   1.  ,   2.49,  10.99,\n",
       "         1.5 ,  14.99,  15.99,  74.99,  39.99,   3.95,  29.99,   4.49,\n",
       "         1.7 ,   8.99,   2.  ,   3.88,  25.99, 399.99,  17.99, 400.  ,\n",
       "         3.02,   1.76,   4.84,   4.77,   1.61,   2.5 ,  19.99,   1.59,\n",
       "         6.49,   1.29,   5.  ,  13.99, 299.99, 379.99,  37.99,  18.99,\n",
       "       389.99,  19.9 ,   8.49,   1.75,  11.99,  14.  ,   4.85,  46.99,\n",
       "         5.49, 109.99, 154.99,   3.08,   2.59,   4.8 ,   1.96,  19.4 ,\n",
       "         3.9 ,   4.59,  15.46,  10.  ,   3.04,  12.99,   4.29,   2.6 ,\n",
       "         3.28,   4.6 ,  28.99,   2.95,   2.9 ,   1.97,  24.99, 200.  ,\n",
       "        89.99,   2.56,  30.99,   3.61, 394.99,   1.26,  16.99,   1.2 ,\n",
       "         1.04])"
      ]
     },
     "execution_count": 55,
     "metadata": {},
     "output_type": "execute_result"
    }
   ],
   "source": [
    "newapp['Price'].unique()"
   ]
  },
  {
   "cell_type": "code",
   "execution_count": 56,
   "id": "4fc46a3b-0f02-4d87-b88e-4334a4edd4d3",
   "metadata": {},
   "outputs": [
    {
     "data": {
      "text/plain": [
       "dtype('float64')"
      ]
     },
     "execution_count": 56,
     "metadata": {},
     "output_type": "execute_result"
    }
   ],
   "source": [
    "newapp['Price'].dtypes"
   ]
  },
  {
   "cell_type": "code",
   "execution_count": 57,
   "id": "be3819f6-811c-49af-a31a-3f27cb0234fa",
   "metadata": {},
   "outputs": [
    {
     "name": "stdout",
     "output_type": "stream",
     "text": [
      "<class 'pandas.core.frame.DataFrame'>\n",
      "Index: 9929 entries, Photo Editor & Candy Camera & Grid & ScrapBook to iHoroscope - 2018 Daily Horoscope & Astrology\n",
      "Data columns (total 12 columns):\n",
      " #   Column          Non-Null Count  Dtype  \n",
      "---  ------          --------------  -----  \n",
      " 0   Category        9929 non-null   object \n",
      " 1   Rating          8486 non-null   float64\n",
      " 2   Reviews         9929 non-null   float64\n",
      " 3   Size            8538 non-null   float64\n",
      " 4   Installs        9929 non-null   int64  \n",
      " 5   Type            9928 non-null   object \n",
      " 6   Price           9929 non-null   float64\n",
      " 7   Content Rating  9929 non-null   object \n",
      " 8   Genres          9929 non-null   object \n",
      " 9   Last Updated    9929 non-null   object \n",
      " 10  Current Ver     9921 non-null   object \n",
      " 11  Android Ver     9927 non-null   object \n",
      "dtypes: float64(4), int64(1), object(7)\n",
      "memory usage: 1008.4+ KB\n"
     ]
    }
   ],
   "source": [
    "newapp.info()"
   ]
  },
  {
   "cell_type": "code",
   "execution_count": null,
   "id": "d77449eb-b994-4863-9e66-a838cb249f44",
   "metadata": {},
   "outputs": [],
   "source": []
  },
  {
   "cell_type": "code",
   "execution_count": 58,
   "id": "c82d2f70-4e59-4a23-abce-8276ddef4191",
   "metadata": {},
   "outputs": [
    {
     "data": {
      "text/plain": [
       "Reviews    float64\n",
       "dtype: object"
      ]
     },
     "execution_count": 58,
     "metadata": {},
     "output_type": "execute_result"
    }
   ],
   "source": [
    "newapp[['Reviews']].dtypes"
   ]
  },
  {
   "cell_type": "markdown",
   "id": "8d79fc89-17f3-4f8b-a7b6-8843f553e882",
   "metadata": {},
   "source": [
    "- *finally droping missing remaining values especially for the apps without size*"
   ]
  },
  {
   "cell_type": "code",
   "execution_count": 59,
   "id": "2ed220e0-ea35-43d0-a4f2-11096c4bc737",
   "metadata": {},
   "outputs": [],
   "source": [
    "\n",
    "newapp.dropna(axis=0,inplace=True)"
   ]
  },
  {
   "cell_type": "code",
   "execution_count": 60,
   "id": "3e36d28a-eb79-4510-beeb-bdba58ede7a7",
   "metadata": {},
   "outputs": [
    {
     "name": "stdout",
     "output_type": "stream",
     "text": [
      "<class 'pandas.core.frame.DataFrame'>\n",
      "Index: 7147 entries, Photo Editor & Candy Camera & Grid & ScrapBook to iHoroscope - 2018 Daily Horoscope & Astrology\n",
      "Data columns (total 12 columns):\n",
      " #   Column          Non-Null Count  Dtype  \n",
      "---  ------          --------------  -----  \n",
      " 0   Category        7147 non-null   object \n",
      " 1   Rating          7147 non-null   float64\n",
      " 2   Reviews         7147 non-null   float64\n",
      " 3   Size            7147 non-null   float64\n",
      " 4   Installs        7147 non-null   int64  \n",
      " 5   Type            7147 non-null   object \n",
      " 6   Price           7147 non-null   float64\n",
      " 7   Content Rating  7147 non-null   object \n",
      " 8   Genres          7147 non-null   object \n",
      " 9   Last Updated    7147 non-null   object \n",
      " 10  Current Ver     7147 non-null   object \n",
      " 11  Android Ver     7147 non-null   object \n",
      "dtypes: float64(4), int64(1), object(7)\n",
      "memory usage: 725.9+ KB\n"
     ]
    }
   ],
   "source": [
    "newapp.info()"
   ]
  },
  {
   "cell_type": "markdown",
   "id": "382c166f-f134-4395-a317-91bf0c20bd1e",
   "metadata": {},
   "source": [
    "> **Reviewing Clean Dataset**"
   ]
  },
  {
   "cell_type": "code",
   "execution_count": 61,
   "id": "0631adeb-5090-4aa5-92ca-a8975538df50",
   "metadata": {},
   "outputs": [
    {
     "data": {
      "text/html": [
       "<div>\n",
       "<style scoped>\n",
       "    .dataframe tbody tr th:only-of-type {\n",
       "        vertical-align: middle;\n",
       "    }\n",
       "\n",
       "    .dataframe tbody tr th {\n",
       "        vertical-align: top;\n",
       "    }\n",
       "\n",
       "    .dataframe thead th {\n",
       "        text-align: right;\n",
       "    }\n",
       "</style>\n",
       "<table border=\"1\" class=\"dataframe\">\n",
       "  <thead>\n",
       "    <tr style=\"text-align: right;\">\n",
       "      <th></th>\n",
       "      <th>Category</th>\n",
       "      <th>Rating</th>\n",
       "      <th>Reviews</th>\n",
       "      <th>Size</th>\n",
       "      <th>Installs</th>\n",
       "      <th>Type</th>\n",
       "      <th>Price</th>\n",
       "      <th>Content Rating</th>\n",
       "      <th>Genres</th>\n",
       "      <th>Last Updated</th>\n",
       "      <th>Current Ver</th>\n",
       "      <th>Android Ver</th>\n",
       "    </tr>\n",
       "    <tr>\n",
       "      <th>App</th>\n",
       "      <th></th>\n",
       "      <th></th>\n",
       "      <th></th>\n",
       "      <th></th>\n",
       "      <th></th>\n",
       "      <th></th>\n",
       "      <th></th>\n",
       "      <th></th>\n",
       "      <th></th>\n",
       "      <th></th>\n",
       "      <th></th>\n",
       "      <th></th>\n",
       "    </tr>\n",
       "  </thead>\n",
       "  <tbody>\n",
       "    <tr>\n",
       "      <th>Photo Editor &amp; Candy Camera &amp; Grid &amp; ScrapBook</th>\n",
       "      <td>ART_AND_DESIGN</td>\n",
       "      <td>4.1</td>\n",
       "      <td>159.0</td>\n",
       "      <td>19.0</td>\n",
       "      <td>10000</td>\n",
       "      <td>Free</td>\n",
       "      <td>0.0</td>\n",
       "      <td>Everyone</td>\n",
       "      <td>Art &amp; Design</td>\n",
       "      <td>07-01-2018</td>\n",
       "      <td>1.0.0</td>\n",
       "      <td>4.0.3 and up</td>\n",
       "    </tr>\n",
       "    <tr>\n",
       "      <th>Coloring book moana</th>\n",
       "      <td>ART_AND_DESIGN</td>\n",
       "      <td>3.9</td>\n",
       "      <td>967.0</td>\n",
       "      <td>14.0</td>\n",
       "      <td>500000</td>\n",
       "      <td>Free</td>\n",
       "      <td>0.0</td>\n",
       "      <td>Everyone</td>\n",
       "      <td>Art &amp; Design;Pretend Play</td>\n",
       "      <td>15-01-2018</td>\n",
       "      <td>2.0.0</td>\n",
       "      <td>4.0.3 and up</td>\n",
       "    </tr>\n",
       "    <tr>\n",
       "      <th>U Launcher Lite – FREE Live Cool Themes, Hide Apps</th>\n",
       "      <td>ART_AND_DESIGN</td>\n",
       "      <td>4.7</td>\n",
       "      <td>87510.0</td>\n",
       "      <td>8.7</td>\n",
       "      <td>5000000</td>\n",
       "      <td>Free</td>\n",
       "      <td>0.0</td>\n",
       "      <td>Everyone</td>\n",
       "      <td>Art &amp; Design</td>\n",
       "      <td>01-08-2018</td>\n",
       "      <td>1.2.4</td>\n",
       "      <td>4.0.3 and up</td>\n",
       "    </tr>\n",
       "    <tr>\n",
       "      <th>Sketch - Draw &amp; Paint</th>\n",
       "      <td>ART_AND_DESIGN</td>\n",
       "      <td>4.5</td>\n",
       "      <td>215644.0</td>\n",
       "      <td>25.0</td>\n",
       "      <td>50000000</td>\n",
       "      <td>Free</td>\n",
       "      <td>0.0</td>\n",
       "      <td>Teen</td>\n",
       "      <td>Art &amp; Design</td>\n",
       "      <td>08-06-2018</td>\n",
       "      <td>Varies with device</td>\n",
       "      <td>4.2 and up</td>\n",
       "    </tr>\n",
       "    <tr>\n",
       "      <th>Pixel Draw - Number Art Coloring Book</th>\n",
       "      <td>ART_AND_DESIGN</td>\n",
       "      <td>4.3</td>\n",
       "      <td>967.0</td>\n",
       "      <td>2.8</td>\n",
       "      <td>100000</td>\n",
       "      <td>Free</td>\n",
       "      <td>0.0</td>\n",
       "      <td>Everyone</td>\n",
       "      <td>Art &amp; Design;Creativity</td>\n",
       "      <td>20-06-2018</td>\n",
       "      <td>1.1</td>\n",
       "      <td>4.4 and up</td>\n",
       "    </tr>\n",
       "  </tbody>\n",
       "</table>\n",
       "</div>"
      ],
      "text/plain": [
       "                                                          Category  Rating  \\\n",
       "App                                                                          \n",
       "Photo Editor & Candy Camera & Grid & ScrapBook      ART_AND_DESIGN     4.1   \n",
       "Coloring book moana                                 ART_AND_DESIGN     3.9   \n",
       "U Launcher Lite – FREE Live Cool Themes, Hide Apps  ART_AND_DESIGN     4.7   \n",
       "Sketch - Draw & Paint                               ART_AND_DESIGN     4.5   \n",
       "Pixel Draw - Number Art Coloring Book               ART_AND_DESIGN     4.3   \n",
       "\n",
       "                                                     Reviews  Size  Installs  \\\n",
       "App                                                                            \n",
       "Photo Editor & Candy Camera & Grid & ScrapBook         159.0  19.0     10000   \n",
       "Coloring book moana                                    967.0  14.0    500000   \n",
       "U Launcher Lite – FREE Live Cool Themes, Hide Apps   87510.0   8.7   5000000   \n",
       "Sketch - Draw & Paint                               215644.0  25.0  50000000   \n",
       "Pixel Draw - Number Art Coloring Book                  967.0   2.8    100000   \n",
       "\n",
       "                                                    Type  Price  \\\n",
       "App                                                               \n",
       "Photo Editor & Candy Camera & Grid & ScrapBook      Free    0.0   \n",
       "Coloring book moana                                 Free    0.0   \n",
       "U Launcher Lite – FREE Live Cool Themes, Hide Apps  Free    0.0   \n",
       "Sketch - Draw & Paint                               Free    0.0   \n",
       "Pixel Draw - Number Art Coloring Book               Free    0.0   \n",
       "\n",
       "                                                   Content Rating  \\\n",
       "App                                                                 \n",
       "Photo Editor & Candy Camera & Grid & ScrapBook           Everyone   \n",
       "Coloring book moana                                      Everyone   \n",
       "U Launcher Lite – FREE Live Cool Themes, Hide Apps       Everyone   \n",
       "Sketch - Draw & Paint                                        Teen   \n",
       "Pixel Draw - Number Art Coloring Book                    Everyone   \n",
       "\n",
       "                                                                       Genres  \\\n",
       "App                                                                             \n",
       "Photo Editor & Candy Camera & Grid & ScrapBook                   Art & Design   \n",
       "Coloring book moana                                 Art & Design;Pretend Play   \n",
       "U Launcher Lite – FREE Live Cool Themes, Hide Apps               Art & Design   \n",
       "Sketch - Draw & Paint                                            Art & Design   \n",
       "Pixel Draw - Number Art Coloring Book                 Art & Design;Creativity   \n",
       "\n",
       "                                                   Last Updated  \\\n",
       "App                                                               \n",
       "Photo Editor & Candy Camera & Grid & ScrapBook       07-01-2018   \n",
       "Coloring book moana                                  15-01-2018   \n",
       "U Launcher Lite – FREE Live Cool Themes, Hide Apps   01-08-2018   \n",
       "Sketch - Draw & Paint                                08-06-2018   \n",
       "Pixel Draw - Number Art Coloring Book                20-06-2018   \n",
       "\n",
       "                                                           Current Ver  \\\n",
       "App                                                                      \n",
       "Photo Editor & Candy Camera & Grid & ScrapBook                   1.0.0   \n",
       "Coloring book moana                                              2.0.0   \n",
       "U Launcher Lite – FREE Live Cool Themes, Hide Apps               1.2.4   \n",
       "Sketch - Draw & Paint                               Varies with device   \n",
       "Pixel Draw - Number Art Coloring Book                              1.1   \n",
       "\n",
       "                                                     Android Ver  \n",
       "App                                                               \n",
       "Photo Editor & Candy Camera & Grid & ScrapBook      4.0.3 and up  \n",
       "Coloring book moana                                 4.0.3 and up  \n",
       "U Launcher Lite – FREE Live Cool Themes, Hide Apps  4.0.3 and up  \n",
       "Sketch - Draw & Paint                                 4.2 and up  \n",
       "Pixel Draw - Number Art Coloring Book                 4.4 and up  "
      ]
     },
     "execution_count": 61,
     "metadata": {},
     "output_type": "execute_result"
    }
   ],
   "source": [
    "newapp.head()"
   ]
  },
  {
   "cell_type": "code",
   "execution_count": 62,
   "id": "ca74443c-800e-4052-808b-a3f07091299e",
   "metadata": {},
   "outputs": [
    {
     "name": "stdout",
     "output_type": "stream",
     "text": [
      "<class 'pandas.core.frame.DataFrame'>\n",
      "Index: 7147 entries, Photo Editor & Candy Camera & Grid & ScrapBook to iHoroscope - 2018 Daily Horoscope & Astrology\n",
      "Data columns (total 12 columns):\n",
      " #   Column          Non-Null Count  Dtype  \n",
      "---  ------          --------------  -----  \n",
      " 0   Category        7147 non-null   object \n",
      " 1   Rating          7147 non-null   float64\n",
      " 2   Reviews         7147 non-null   float64\n",
      " 3   Size            7147 non-null   float64\n",
      " 4   Installs        7147 non-null   int64  \n",
      " 5   Type            7147 non-null   object \n",
      " 6   Price           7147 non-null   float64\n",
      " 7   Content Rating  7147 non-null   object \n",
      " 8   Genres          7147 non-null   object \n",
      " 9   Last Updated    7147 non-null   object \n",
      " 10  Current Ver     7147 non-null   object \n",
      " 11  Android Ver     7147 non-null   object \n",
      "dtypes: float64(4), int64(1), object(7)\n",
      "memory usage: 725.9+ KB\n"
     ]
    }
   ],
   "source": [
    "newapp.info()"
   ]
  },
  {
   "cell_type": "code",
   "execution_count": 63,
   "id": "1374c53b-6ce0-481e-98d9-eec8c121aa71",
   "metadata": {},
   "outputs": [
    {
     "data": {
      "text/plain": [
       "(7147, 12)"
      ]
     },
     "execution_count": 63,
     "metadata": {},
     "output_type": "execute_result"
    }
   ],
   "source": [
    "newapp.shape"
   ]
  },
  {
   "cell_type": "code",
   "execution_count": 64,
   "id": "1635b0d1-52b4-4112-8235-f78aadbfa47e",
   "metadata": {},
   "outputs": [
    {
     "data": {
      "text/plain": [
       "Category            33\n",
       "Rating              39\n",
       "Reviews           4465\n",
       "Size               410\n",
       "Installs            19\n",
       "Type                 2\n",
       "Price               63\n",
       "Content Rating       6\n",
       "Genres             111\n",
       "Last Updated      1274\n",
       "Current Ver       2397\n",
       "Android Ver         31\n",
       "dtype: int64"
      ]
     },
     "execution_count": 64,
     "metadata": {},
     "output_type": "execute_result"
    }
   ],
   "source": [
    "newapp.nunique()"
   ]
  },
  {
   "cell_type": "code",
   "execution_count": 65,
   "id": "60298865-4606-48a5-a343-e862d0585a55",
   "metadata": {},
   "outputs": [
    {
     "data": {
      "text/plain": [
       "Index(['Category', 'Rating', 'Reviews', 'Size', 'Installs', 'Type', 'Price',\n",
       "       'Content Rating', 'Genres', 'Last Updated', 'Current Ver',\n",
       "       'Android Ver'],\n",
       "      dtype='object')"
      ]
     },
     "execution_count": 65,
     "metadata": {},
     "output_type": "execute_result"
    }
   ],
   "source": [
    "newapp.columns"
   ]
  },
  {
   "cell_type": "code",
   "execution_count": 66,
   "id": "0b925938-8779-435b-a79c-b0a347107b69",
   "metadata": {},
   "outputs": [
    {
     "data": {
      "text/html": [
       "<div>\n",
       "<style scoped>\n",
       "    .dataframe tbody tr th:only-of-type {\n",
       "        vertical-align: middle;\n",
       "    }\n",
       "\n",
       "    .dataframe tbody tr th {\n",
       "        vertical-align: top;\n",
       "    }\n",
       "\n",
       "    .dataframe thead th {\n",
       "        text-align: right;\n",
       "    }\n",
       "</style>\n",
       "<table border=\"1\" class=\"dataframe\">\n",
       "  <thead>\n",
       "    <tr style=\"text-align: right;\">\n",
       "      <th></th>\n",
       "      <th>Rating</th>\n",
       "      <th>Reviews</th>\n",
       "      <th>Size</th>\n",
       "      <th>Installs</th>\n",
       "      <th>Price</th>\n",
       "    </tr>\n",
       "  </thead>\n",
       "  <tbody>\n",
       "    <tr>\n",
       "      <th>count</th>\n",
       "      <td>7147.000000</td>\n",
       "      <td>7.147000e+03</td>\n",
       "      <td>7147.000000</td>\n",
       "      <td>7.147000e+03</td>\n",
       "      <td>7147.000000</td>\n",
       "    </tr>\n",
       "    <tr>\n",
       "      <th>mean</th>\n",
       "      <td>4.169036</td>\n",
       "      <td>2.613270e+05</td>\n",
       "      <td>22.568927</td>\n",
       "      <td>7.182988e+06</td>\n",
       "      <td>1.100803</td>\n",
       "    </tr>\n",
       "    <tr>\n",
       "      <th>std</th>\n",
       "      <td>0.554479</td>\n",
       "      <td>1.600456e+06</td>\n",
       "      <td>23.425820</td>\n",
       "      <td>4.165653e+07</td>\n",
       "      <td>18.001092</td>\n",
       "    </tr>\n",
       "    <tr>\n",
       "      <th>min</th>\n",
       "      <td>1.000000</td>\n",
       "      <td>1.000000e+00</td>\n",
       "      <td>0.008500</td>\n",
       "      <td>1.000000e+00</td>\n",
       "      <td>0.000000</td>\n",
       "    </tr>\n",
       "    <tr>\n",
       "      <th>25%</th>\n",
       "      <td>4.000000</td>\n",
       "      <td>9.100000e+01</td>\n",
       "      <td>5.000000</td>\n",
       "      <td>1.000000e+04</td>\n",
       "      <td>0.000000</td>\n",
       "    </tr>\n",
       "    <tr>\n",
       "      <th>50%</th>\n",
       "      <td>4.300000</td>\n",
       "      <td>1.904000e+03</td>\n",
       "      <td>14.000000</td>\n",
       "      <td>1.000000e+05</td>\n",
       "      <td>0.000000</td>\n",
       "    </tr>\n",
       "    <tr>\n",
       "      <th>75%</th>\n",
       "      <td>4.500000</td>\n",
       "      <td>3.420100e+04</td>\n",
       "      <td>33.000000</td>\n",
       "      <td>1.000000e+06</td>\n",
       "      <td>0.000000</td>\n",
       "    </tr>\n",
       "    <tr>\n",
       "      <th>max</th>\n",
       "      <td>5.000000</td>\n",
       "      <td>4.489389e+07</td>\n",
       "      <td>100.000000</td>\n",
       "      <td>1.000000e+09</td>\n",
       "      <td>400.000000</td>\n",
       "    </tr>\n",
       "  </tbody>\n",
       "</table>\n",
       "</div>"
      ],
      "text/plain": [
       "            Rating       Reviews         Size      Installs        Price\n",
       "count  7147.000000  7.147000e+03  7147.000000  7.147000e+03  7147.000000\n",
       "mean      4.169036  2.613270e+05    22.568927  7.182988e+06     1.100803\n",
       "std       0.554479  1.600456e+06    23.425820  4.165653e+07    18.001092\n",
       "min       1.000000  1.000000e+00     0.008500  1.000000e+00     0.000000\n",
       "25%       4.000000  9.100000e+01     5.000000  1.000000e+04     0.000000\n",
       "50%       4.300000  1.904000e+03    14.000000  1.000000e+05     0.000000\n",
       "75%       4.500000  3.420100e+04    33.000000  1.000000e+06     0.000000\n",
       "max       5.000000  4.489389e+07   100.000000  1.000000e+09   400.000000"
      ]
     },
     "execution_count": 66,
     "metadata": {},
     "output_type": "execute_result"
    }
   ],
   "source": [
    "newapp.describe()"
   ]
  },
  {
   "cell_type": "code",
   "execution_count": 67,
   "id": "8ffa8cbc-d3cd-4e1e-9db1-cc0f156b30e7",
   "metadata": {},
   "outputs": [
    {
     "data": {
      "text/html": [
       "<div>\n",
       "<style scoped>\n",
       "    .dataframe tbody tr th:only-of-type {\n",
       "        vertical-align: middle;\n",
       "    }\n",
       "\n",
       "    .dataframe tbody tr th {\n",
       "        vertical-align: top;\n",
       "    }\n",
       "\n",
       "    .dataframe thead th {\n",
       "        text-align: right;\n",
       "    }\n",
       "</style>\n",
       "<table border=\"1\" class=\"dataframe\">\n",
       "  <thead>\n",
       "    <tr style=\"text-align: right;\">\n",
       "      <th></th>\n",
       "      <th>Category</th>\n",
       "      <th>Type</th>\n",
       "      <th>Content Rating</th>\n",
       "      <th>Genres</th>\n",
       "      <th>Last Updated</th>\n",
       "      <th>Current Ver</th>\n",
       "      <th>Android Ver</th>\n",
       "    </tr>\n",
       "  </thead>\n",
       "  <tbody>\n",
       "    <tr>\n",
       "      <th>count</th>\n",
       "      <td>7147</td>\n",
       "      <td>7147</td>\n",
       "      <td>7147</td>\n",
       "      <td>7147</td>\n",
       "      <td>7147</td>\n",
       "      <td>7147</td>\n",
       "      <td>7147</td>\n",
       "    </tr>\n",
       "    <tr>\n",
       "      <th>unique</th>\n",
       "      <td>33</td>\n",
       "      <td>2</td>\n",
       "      <td>6</td>\n",
       "      <td>111</td>\n",
       "      <td>1274</td>\n",
       "      <td>2397</td>\n",
       "      <td>31</td>\n",
       "    </tr>\n",
       "    <tr>\n",
       "      <th>top</th>\n",
       "      <td>FAMILY</td>\n",
       "      <td>Free</td>\n",
       "      <td>Everyone</td>\n",
       "      <td>Tools</td>\n",
       "      <td>03-08-2018</td>\n",
       "      <td>1</td>\n",
       "      <td>4.1 and up</td>\n",
       "    </tr>\n",
       "    <tr>\n",
       "      <th>freq</th>\n",
       "      <td>1567</td>\n",
       "      <td>6633</td>\n",
       "      <td>5758</td>\n",
       "      <td>633</td>\n",
       "      <td>185</td>\n",
       "      <td>464</td>\n",
       "      <td>1801</td>\n",
       "    </tr>\n",
       "  </tbody>\n",
       "</table>\n",
       "</div>"
      ],
      "text/plain": [
       "       Category  Type Content Rating Genres Last Updated Current Ver  \\\n",
       "count      7147  7147           7147   7147         7147        7147   \n",
       "unique       33     2              6    111         1274        2397   \n",
       "top      FAMILY  Free       Everyone  Tools   03-08-2018           1   \n",
       "freq       1567  6633           5758    633          185         464   \n",
       "\n",
       "       Android Ver  \n",
       "count         7147  \n",
       "unique          31  \n",
       "top     4.1 and up  \n",
       "freq          1801  "
      ]
     },
     "execution_count": 67,
     "metadata": {},
     "output_type": "execute_result"
    }
   ],
   "source": [
    "newapp.describe(include=['O'])"
   ]
  },
  {
   "cell_type": "code",
   "execution_count": 68,
   "id": "24f22e94-1b7a-4ee9-9cc2-0eb8ae23064e",
   "metadata": {},
   "outputs": [
    {
     "name": "stdout",
     "output_type": "stream",
     "text": [
      "<class 'pandas.core.frame.DataFrame'>\n",
      "Index: 7147 entries, Photo Editor & Candy Camera & Grid & ScrapBook to iHoroscope - 2018 Daily Horoscope & Astrology\n",
      "Data columns (total 12 columns):\n",
      " #   Column          Non-Null Count  Dtype  \n",
      "---  ------          --------------  -----  \n",
      " 0   Category        7147 non-null   object \n",
      " 1   Rating          7147 non-null   float64\n",
      " 2   Reviews         7147 non-null   float64\n",
      " 3   Size            7147 non-null   float64\n",
      " 4   Installs        7147 non-null   int64  \n",
      " 5   Type            7147 non-null   object \n",
      " 6   Price           7147 non-null   float64\n",
      " 7   Content Rating  7147 non-null   object \n",
      " 8   Genres          7147 non-null   object \n",
      " 9   Last Updated    7147 non-null   object \n",
      " 10  Current Ver     7147 non-null   object \n",
      " 11  Android Ver     7147 non-null   object \n",
      "dtypes: float64(4), int64(1), object(7)\n",
      "memory usage: 725.9+ KB\n"
     ]
    }
   ],
   "source": [
    "newapp.info()"
   ]
  },
  {
   "cell_type": "code",
   "execution_count": 69,
   "id": "d41303fd-8e11-4780-9fad-53e43defcd14",
   "metadata": {},
   "outputs": [],
   "source": [
    "#save data for further preprocessing in excel\n",
    "newapp.to_csv('neatapp.csv')"
   ]
  },
  {
   "cell_type": "code",
   "execution_count": 70,
   "id": "c76e70d6-9132-4011-a94f-5ed800b5d388",
   "metadata": {},
   "outputs": [
    {
     "name": "stdout",
     "output_type": "stream",
     "text": [
      "<class 'pandas.core.frame.DataFrame'>\n",
      "Index: 7147 entries, Photo Editor & Candy Camera & Grid & ScrapBook to iHoroscope - 2018 Daily Horoscope & Astrology\n",
      "Data columns (total 12 columns):\n",
      " #   Column          Non-Null Count  Dtype  \n",
      "---  ------          --------------  -----  \n",
      " 0   Category        7147 non-null   object \n",
      " 1   Rating          7147 non-null   float64\n",
      " 2   Reviews         7147 non-null   float64\n",
      " 3   Size            7147 non-null   float64\n",
      " 4   Installs        7147 non-null   int64  \n",
      " 5   Type            7147 non-null   object \n",
      " 6   Price           7147 non-null   float64\n",
      " 7   Content Rating  7147 non-null   object \n",
      " 8   Genres          7147 non-null   object \n",
      " 9   Last Updated    7147 non-null   object \n",
      " 10  Current Ver     7147 non-null   object \n",
      " 11  Android Ver     7147 non-null   object \n",
      "dtypes: float64(4), int64(1), object(7)\n",
      "memory usage: 725.9+ KB\n"
     ]
    }
   ],
   "source": [
    "newapp.info()"
   ]
  },
  {
   "cell_type": "markdown",
   "id": "c28b4fde-36fb-49b7-a3d9-9de87bfd3de9",
   "metadata": {},
   "source": [
    "### Clean Reviews data"
   ]
  },
  {
   "cell_type": "code",
   "execution_count": 71,
   "id": "b62d48b3-933e-4891-a30f-355b62cae7c9",
   "metadata": {},
   "outputs": [
    {
     "data": {
      "text/html": [
       "<div>\n",
       "<style scoped>\n",
       "    .dataframe tbody tr th:only-of-type {\n",
       "        vertical-align: middle;\n",
       "    }\n",
       "\n",
       "    .dataframe tbody tr th {\n",
       "        vertical-align: top;\n",
       "    }\n",
       "\n",
       "    .dataframe thead th {\n",
       "        text-align: right;\n",
       "    }\n",
       "</style>\n",
       "<table border=\"1\" class=\"dataframe\">\n",
       "  <thead>\n",
       "    <tr style=\"text-align: right;\">\n",
       "      <th></th>\n",
       "      <th>Translated_Review</th>\n",
       "      <th>Sentiment</th>\n",
       "      <th>Sentiment_Polarity</th>\n",
       "      <th>Sentiment_Subjectivity</th>\n",
       "    </tr>\n",
       "    <tr>\n",
       "      <th>App</th>\n",
       "      <th></th>\n",
       "      <th></th>\n",
       "      <th></th>\n",
       "      <th></th>\n",
       "    </tr>\n",
       "  </thead>\n",
       "  <tbody>\n",
       "    <tr>\n",
       "      <th>104 找工作 - 找工作 找打工 找兼職 履歷健檢 履歷診療室</th>\n",
       "      <td>Almost mobile phone</td>\n",
       "      <td>Neutral</td>\n",
       "      <td>0.000000</td>\n",
       "      <td>0.000000</td>\n",
       "    </tr>\n",
       "    <tr>\n",
       "      <th>104 找工作 - 找工作 找打工 找兼職 履歷健檢 履歷診療室</th>\n",
       "      <td>Very effective, efficient convenient find avai...</td>\n",
       "      <td>Positive</td>\n",
       "      <td>0.626667</td>\n",
       "      <td>0.666667</td>\n",
       "    </tr>\n",
       "  </tbody>\n",
       "</table>\n",
       "</div>"
      ],
      "text/plain": [
       "                                                                  Translated_Review  \\\n",
       "App                                                                                   \n",
       "104 找工作 - 找工作 找打工 找兼職 履歷健檢 履歷診療室                                Almost mobile phone   \n",
       "104 找工作 - 找工作 找打工 找兼職 履歷健檢 履歷診療室  Very effective, efficient convenient find avai...   \n",
       "\n",
       "                                 Sentiment  Sentiment_Polarity  \\\n",
       "App                                                              \n",
       "104 找工作 - 找工作 找打工 找兼職 履歷健檢 履歷診療室   Neutral            0.000000   \n",
       "104 找工作 - 找工作 找打工 找兼職 履歷健檢 履歷診療室  Positive            0.626667   \n",
       "\n",
       "                                  Sentiment_Subjectivity  \n",
       "App                                                       \n",
       "104 找工作 - 找工作 找打工 找兼職 履歷健檢 履歷診療室                0.000000  \n",
       "104 找工作 - 找工作 找打工 找兼職 履歷健檢 履歷診療室                0.666667  "
      ]
     },
     "execution_count": 71,
     "metadata": {},
     "output_type": "execute_result"
    }
   ],
   "source": [
    "reviews.head(2)"
   ]
  },
  {
   "cell_type": "code",
   "execution_count": 72,
   "id": "ecdf4f31-be9b-45cd-acd3-dfd5d3e2e612",
   "metadata": {},
   "outputs": [
    {
     "data": {
      "text/plain": [
       "(22593, 4)"
      ]
     },
     "execution_count": 72,
     "metadata": {},
     "output_type": "execute_result"
    }
   ],
   "source": [
    "reviews.shape"
   ]
  },
  {
   "cell_type": "code",
   "execution_count": 73,
   "id": "e6f340f8-7d9e-47c5-8291-9b40de4e9f39",
   "metadata": {},
   "outputs": [],
   "source": [
    "reviews.drop_duplicates(inplace=True)"
   ]
  },
  {
   "cell_type": "code",
   "execution_count": 74,
   "id": "a25595d7-c479-47c2-ae2c-9955ce3d206e",
   "metadata": {},
   "outputs": [
    {
     "data": {
      "text/plain": [
       "(22593, 4)"
      ]
     },
     "execution_count": 74,
     "metadata": {},
     "output_type": "execute_result"
    }
   ],
   "source": [
    "reviews.shape"
   ]
  },
  {
   "cell_type": "code",
   "execution_count": 75,
   "id": "23e14c6d-44e9-44cd-a305-ad6650c0c374",
   "metadata": {},
   "outputs": [
    {
     "name": "stdout",
     "output_type": "stream",
     "text": [
      "<class 'pandas.core.frame.DataFrame'>\n",
      "Index: 22593 entries, 104 找工作 - 找工作 找打工 找兼職 履歷健檢 履歷診療室 to Housing-Real Estate & Property\n",
      "Data columns (total 4 columns):\n",
      " #   Column                  Non-Null Count  Dtype  \n",
      "---  ------                  --------------  -----  \n",
      " 0   Translated_Review       22593 non-null  object \n",
      " 1   Sentiment               22593 non-null  object \n",
      " 2   Sentiment_Polarity      22593 non-null  float64\n",
      " 3   Sentiment_Subjectivity  22593 non-null  float64\n",
      "dtypes: float64(2), object(2)\n",
      "memory usage: 1.4+ MB\n"
     ]
    }
   ],
   "source": [
    "reviews.info()"
   ]
  },
  {
   "cell_type": "code",
   "execution_count": 76,
   "id": "ba81b151-fbae-4d14-8b59-604b288dd78a",
   "metadata": {},
   "outputs": [
    {
     "name": "stdout",
     "output_type": "stream",
     "text": [
      "['Almost mobile phone'\n",
      " 'Very effective, efficient convenient find available jobs. Keep good work power 104 Job Search.'\n",
      " 'Easy intuitive' ...\n",
      " 'Dumb app, I wanted post property rent give option. Website work. Waste time space phone.'\n",
      " 'I property business got link SMS happy performance still guys need raise bar guys Cheers'\n",
      " 'Useless app, I searched flats kondapur, Hyderabad . None number reachable I know flats unavailable would keep posts active']\n",
      "\n",
      "\n",
      "['Neutral' 'Positive' 'Negative']\n",
      "\n",
      "\n",
      "[ 0.          0.62666667  0.43333333 ... -0.52857143 -0.37777778\n",
      "  0.17333333]\n",
      "\n",
      "\n",
      "[0.         0.66666667 0.83333333 ... 0.51145833 0.7172619  0.2594697 ]\n"
     ]
    }
   ],
   "source": [
    "print(reviews['Translated_Review'].unique())\n",
    "print('\\n')\n",
    "print(reviews['Sentiment'].unique())\n",
    "print('\\n')\n",
    "print(reviews['Sentiment_Polarity'].unique())\n",
    "print('\\n')\n",
    "print(reviews['Sentiment_Subjectivity'].unique())"
   ]
  },
  {
   "cell_type": "code",
   "execution_count": 77,
   "id": "f16dcef7-ef07-45d7-9290-14ce6c529746",
   "metadata": {},
   "outputs": [],
   "source": [
    "reviews.dropna(axis=0,inplace=True)"
   ]
  },
  {
   "cell_type": "code",
   "execution_count": 78,
   "id": "742c9ca4-04eb-43e1-a7e9-c448ff6792b2",
   "metadata": {},
   "outputs": [
    {
     "name": "stdout",
     "output_type": "stream",
     "text": [
      "<class 'pandas.core.frame.DataFrame'>\n",
      "Index: 22593 entries, 104 找工作 - 找工作 找打工 找兼職 履歷健檢 履歷診療室 to Housing-Real Estate & Property\n",
      "Data columns (total 4 columns):\n",
      " #   Column                  Non-Null Count  Dtype  \n",
      "---  ------                  --------------  -----  \n",
      " 0   Translated_Review       22593 non-null  object \n",
      " 1   Sentiment               22593 non-null  object \n",
      " 2   Sentiment_Polarity      22593 non-null  float64\n",
      " 3   Sentiment_Subjectivity  22593 non-null  float64\n",
      "dtypes: float64(2), object(2)\n",
      "memory usage: 1.4+ MB\n"
     ]
    }
   ],
   "source": [
    "reviews.info()"
   ]
  },
  {
   "cell_type": "code",
   "execution_count": 79,
   "id": "aa519ad7-be73-47b3-a1d1-8e2d71566c55",
   "metadata": {},
   "outputs": [],
   "source": [
    "#save data for further preprocessing in excel\n",
    "reviews.to_csv('neatreviews.csv')"
   ]
  },
  {
   "cell_type": "code",
   "execution_count": null,
   "id": "94e36f23-46b4-4a9c-b187-aab6ad6fc911",
   "metadata": {},
   "outputs": [],
   "source": []
  },
  {
   "cell_type": "code",
   "execution_count": null,
   "id": "2c4afb95-5e7d-4658-a661-12902ce407a0",
   "metadata": {},
   "outputs": [],
   "source": []
  },
  {
   "cell_type": "code",
   "execution_count": null,
   "id": "ukWp6U-jBmxQ",
   "metadata": {
    "id": "ukWp6U-jBmxQ"
   },
   "outputs": [],
   "source": []
  },
  {
   "cell_type": "markdown",
   "id": "7d23197d-6cbf-46f3-ad7b-3d505b587f6c",
   "metadata": {},
   "source": [
    "# Exploratory Data Analysis\n",
    "\n",
    "> This will be done on SQL"
   ]
  },
  {
   "cell_type": "code",
   "execution_count": 80,
   "id": "2972e1ba-c030-4efb-93b1-2ab58f58df44",
   "metadata": {},
   "outputs": [
    {
     "data": {
      "text/plain": [
       "Index(['Rating', 'Reviews', 'Size', 'Installs', 'Price'], dtype='object')"
      ]
     },
     "execution_count": 80,
     "metadata": {},
     "output_type": "execute_result"
    }
   ],
   "source": [
    "numerical_cols= newapp.select_dtypes(['int','float']).columns\n",
    "numerical_cols"
   ]
  },
  {
   "cell_type": "markdown",
   "id": "9bcebd73-fd85-4e74-9b8b-fd73f6613c77",
   "metadata": {},
   "source": [
    "## Size and Rating"
   ]
  },
  {
   "cell_type": "code",
   "execution_count": 81,
   "id": "38a7a2ef-a84b-40cb-bafc-ba9f14b23321",
   "metadata": {},
   "outputs": [
    {
     "data": {
      "text/plain": [
       "<Axes: xlabel='Size', ylabel='Rating'>"
      ]
     },
     "execution_count": 81,
     "metadata": {},
     "output_type": "execute_result"
    },
    {
     "data": {
      "image/png": "[encoded data removed]",
      "text/plain": [
       "<Figure size 800x500 with 1 Axes>"
      ]
     },
     "metadata": {},
     "output_type": "display_data"
    }
   ],
   "source": [
    "# Set width and height of figure\n",
    "plt.figure(figsize=(8,5))\n",
    "\n",
    "# Scatterplot showing relationship between Size and Rating\n",
    "sns.scatterplot(x='Size', y='Rating', data=newapp)"
   ]
  },
  {
   "cell_type": "code",
   "execution_count": 82,
   "id": "0cab3841-907a-4308-a97b-ead7d374f6e3",
   "metadata": {},
   "outputs": [
    {
     "data": {
      "text/plain": [
       "<Axes: xlabel='Installs', ylabel='Rating'>"
      ]
     },
     "execution_count": 82,
     "metadata": {},
     "output_type": "execute_result"
    },
    {
     "data": {
      "image/png": "[encoded data removed]",
      "text/plain": [
       "<Figure size 800x500 with 1 Axes>"
      ]
     },
     "metadata": {},
     "output_type": "display_data"
    }
   ],
   "source": [
    "# Set width and height of figure\n",
    "plt.figure(figsize=(8,5))\n",
    "\n",
    "# Scatterplot showing relationship between Installs and Rating\n",
    "sns.scatterplot(x='Installs', y='Rating', data=newapp)"
   ]
  },
  {
   "cell_type": "code",
   "execution_count": 102,
   "id": "31fe7de8-bec1-4c01-abd9-55b57309044f",
   "metadata": {},
   "outputs": [
    {
     "data": {
      "text/plain": [
       "<Axes: >"
      ]
     },
     "execution_count": 102,
     "metadata": {},
     "output_type": "execute_result"
    },
    {
     "data": {
      "image/png": "[encoded data removed]",
      "text/plain": [
       "<Figure size 700x500 with 2 Axes>"
      ]
     },
     "metadata": {},
     "output_type": "display_data"
    }
   ],
   "source": [
    "import seaborn as sns\n",
    "sns.set()\n",
    "plt.figure(figsize=(7,5))\n",
    "sns.heatmap(newapp[numerical_cols].corr(),annot=True)\n"
   ]
  },
  {
   "cell_type": "markdown",
   "id": "2563694a-90ee-410c-8482-c90ed6882601",
   "metadata": {},
   "source": [
    "# Conclusion"
   ]
  },
  {
   "cell_type": "markdown",
   "id": "04c21040-f6c3-4cf2-8e65-01256bcc1b64",
   "metadata": {},
   "source": [
    "In conclusion, the dataset from Google Play Store apps has been explored and analyzed using various data visualization techniques with the help of Matplotlib, Seaborn and Plotly libraries.\n",
    "\n",
    "The preliminary analysis, visualization methods and EDA provided insights into the data and helped in understanding the underlying patterns and relationships among the variables.\n",
    "\n",
    "The analysis of the Google Play Store dataset has shown that there is a weak correlation between the rating and other app attributes such as size, installs, reviews, and price. We found that there was a moderate positive correlation between the number of installs and the rating, suggesting that higher-rated apps tend to have more installs.\n",
    "\n",
    "We also observed that free apps have higher ratings than paid apps, and that app size does seem to have a significant impact on rating."
   ]
  },
  {
   "cell_type": "code",
   "execution_count": null,
   "id": "86a646d4-d59a-457b-a1bb-c3b7b763df59",
   "metadata": {},
   "outputs": [],
   "source": []
  },
  {
   "cell_type": "code",
   "execution_count": null,
   "id": "3f7e9e0a-2b02-4d06-82a5-aa5577ecb90c",
   "metadata": {},
   "outputs": [],
   "source": []
  },
  {
   "cell_type": "code",
   "execution_count": null,
   "id": "c7b7e249-0b3b-4a92-a068-aa4d33d6dd1a",
   "metadata": {},
   "outputs": [],
   "source": []
  },
  {
   "cell_type": "code",
   "execution_count": 84,
   "id": "456785f1-8d84-4425-a95c-5089d7ad0939",
   "metadata": {},
   "outputs": [
    {
     "data": {
      "text/html": [
       "<div>\n",
       "<style scoped>\n",
       "    .dataframe tbody tr th:only-of-type {\n",
       "        vertical-align: middle;\n",
       "    }\n",
       "\n",
       "    .dataframe tbody tr th {\n",
       "        vertical-align: top;\n",
       "    }\n",
       "\n",
       "    .dataframe thead th {\n",
       "        text-align: right;\n",
       "    }\n",
       "</style>\n",
       "<table border=\"1\" class=\"dataframe\">\n",
       "  <thead>\n",
       "    <tr style=\"text-align: right;\">\n",
       "      <th></th>\n",
       "      <th>Category</th>\n",
       "      <th>Rating</th>\n",
       "      <th>Reviews</th>\n",
       "      <th>Size</th>\n",
       "      <th>Installs</th>\n",
       "      <th>Type</th>\n",
       "      <th>Price</th>\n",
       "      <th>Content Rating</th>\n",
       "      <th>Genres</th>\n",
       "      <th>Last Updated</th>\n",
       "      <th>Current Ver</th>\n",
       "      <th>Android Ver</th>\n",
       "    </tr>\n",
       "    <tr>\n",
       "      <th>App</th>\n",
       "      <th></th>\n",
       "      <th></th>\n",
       "      <th></th>\n",
       "      <th></th>\n",
       "      <th></th>\n",
       "      <th></th>\n",
       "      <th></th>\n",
       "      <th></th>\n",
       "      <th></th>\n",
       "      <th></th>\n",
       "      <th></th>\n",
       "      <th></th>\n",
       "    </tr>\n",
       "  </thead>\n",
       "  <tbody>\n",
       "    <tr>\n",
       "      <th>Photo Editor &amp; Candy Camera &amp; Grid &amp; ScrapBook</th>\n",
       "      <td>ART_AND_DESIGN</td>\n",
       "      <td>4.1</td>\n",
       "      <td>159.0</td>\n",
       "      <td>19.0</td>\n",
       "      <td>10000</td>\n",
       "      <td>Free</td>\n",
       "      <td>0.0</td>\n",
       "      <td>Everyone</td>\n",
       "      <td>Art &amp; Design</td>\n",
       "      <td>07-01-2018</td>\n",
       "      <td>1.0.0</td>\n",
       "      <td>4.0.3 and up</td>\n",
       "    </tr>\n",
       "    <tr>\n",
       "      <th>Coloring book moana</th>\n",
       "      <td>ART_AND_DESIGN</td>\n",
       "      <td>3.9</td>\n",
       "      <td>967.0</td>\n",
       "      <td>14.0</td>\n",
       "      <td>500000</td>\n",
       "      <td>Free</td>\n",
       "      <td>0.0</td>\n",
       "      <td>Everyone</td>\n",
       "      <td>Art &amp; Design;Pretend Play</td>\n",
       "      <td>15-01-2018</td>\n",
       "      <td>2.0.0</td>\n",
       "      <td>4.0.3 and up</td>\n",
       "    </tr>\n",
       "    <tr>\n",
       "      <th>U Launcher Lite – FREE Live Cool Themes, Hide Apps</th>\n",
       "      <td>ART_AND_DESIGN</td>\n",
       "      <td>4.7</td>\n",
       "      <td>87510.0</td>\n",
       "      <td>8.7</td>\n",
       "      <td>5000000</td>\n",
       "      <td>Free</td>\n",
       "      <td>0.0</td>\n",
       "      <td>Everyone</td>\n",
       "      <td>Art &amp; Design</td>\n",
       "      <td>01-08-2018</td>\n",
       "      <td>1.2.4</td>\n",
       "      <td>4.0.3 and up</td>\n",
       "    </tr>\n",
       "    <tr>\n",
       "      <th>Sketch - Draw &amp; Paint</th>\n",
       "      <td>ART_AND_DESIGN</td>\n",
       "      <td>4.5</td>\n",
       "      <td>215644.0</td>\n",
       "      <td>25.0</td>\n",
       "      <td>50000000</td>\n",
       "      <td>Free</td>\n",
       "      <td>0.0</td>\n",
       "      <td>Teen</td>\n",
       "      <td>Art &amp; Design</td>\n",
       "      <td>08-06-2018</td>\n",
       "      <td>Varies with device</td>\n",
       "      <td>4.2 and up</td>\n",
       "    </tr>\n",
       "    <tr>\n",
       "      <th>Pixel Draw - Number Art Coloring Book</th>\n",
       "      <td>ART_AND_DESIGN</td>\n",
       "      <td>4.3</td>\n",
       "      <td>967.0</td>\n",
       "      <td>2.8</td>\n",
       "      <td>100000</td>\n",
       "      <td>Free</td>\n",
       "      <td>0.0</td>\n",
       "      <td>Everyone</td>\n",
       "      <td>Art &amp; Design;Creativity</td>\n",
       "      <td>20-06-2018</td>\n",
       "      <td>1.1</td>\n",
       "      <td>4.4 and up</td>\n",
       "    </tr>\n",
       "  </tbody>\n",
       "</table>\n",
       "</div>"
      ],
      "text/plain": [
       "                                                          Category  Rating  \\\n",
       "App                                                                          \n",
       "Photo Editor & Candy Camera & Grid & ScrapBook      ART_AND_DESIGN     4.1   \n",
       "Coloring book moana                                 ART_AND_DESIGN     3.9   \n",
       "U Launcher Lite – FREE Live Cool Themes, Hide Apps  ART_AND_DESIGN     4.7   \n",
       "Sketch - Draw & Paint                               ART_AND_DESIGN     4.5   \n",
       "Pixel Draw - Number Art Coloring Book               ART_AND_DESIGN     4.3   \n",
       "\n",
       "                                                     Reviews  Size  Installs  \\\n",
       "App                                                                            \n",
       "Photo Editor & Candy Camera & Grid & ScrapBook         159.0  19.0     10000   \n",
       "Coloring book moana                                    967.0  14.0    500000   \n",
       "U Launcher Lite – FREE Live Cool Themes, Hide Apps   87510.0   8.7   5000000   \n",
       "Sketch - Draw & Paint                               215644.0  25.0  50000000   \n",
       "Pixel Draw - Number Art Coloring Book                  967.0   2.8    100000   \n",
       "\n",
       "                                                    Type  Price  \\\n",
       "App                                                               \n",
       "Photo Editor & Candy Camera & Grid & ScrapBook      Free    0.0   \n",
       "Coloring book moana                                 Free    0.0   \n",
       "U Launcher Lite – FREE Live Cool Themes, Hide Apps  Free    0.0   \n",
       "Sketch - Draw & Paint                               Free    0.0   \n",
       "Pixel Draw - Number Art Coloring Book               Free    0.0   \n",
       "\n",
       "                                                   Content Rating  \\\n",
       "App                                                                 \n",
       "Photo Editor & Candy Camera & Grid & ScrapBook           Everyone   \n",
       "Coloring book moana                                      Everyone   \n",
       "U Launcher Lite – FREE Live Cool Themes, Hide Apps       Everyone   \n",
       "Sketch - Draw & Paint                                        Teen   \n",
       "Pixel Draw - Number Art Coloring Book                    Everyone   \n",
       "\n",
       "                                                                       Genres  \\\n",
       "App                                                                             \n",
       "Photo Editor & Candy Camera & Grid & ScrapBook                   Art & Design   \n",
       "Coloring book moana                                 Art & Design;Pretend Play   \n",
       "U Launcher Lite – FREE Live Cool Themes, Hide Apps               Art & Design   \n",
       "Sketch - Draw & Paint                                            Art & Design   \n",
       "Pixel Draw - Number Art Coloring Book                 Art & Design;Creativity   \n",
       "\n",
       "                                                   Last Updated  \\\n",
       "App                                                               \n",
       "Photo Editor & Candy Camera & Grid & ScrapBook       07-01-2018   \n",
       "Coloring book moana                                  15-01-2018   \n",
       "U Launcher Lite – FREE Live Cool Themes, Hide Apps   01-08-2018   \n",
       "Sketch - Draw & Paint                                08-06-2018   \n",
       "Pixel Draw - Number Art Coloring Book                20-06-2018   \n",
       "\n",
       "                                                           Current Ver  \\\n",
       "App                                                                      \n",
       "Photo Editor & Candy Camera & Grid & ScrapBook                   1.0.0   \n",
       "Coloring book moana                                              2.0.0   \n",
       "U Launcher Lite – FREE Live Cool Themes, Hide Apps               1.2.4   \n",
       "Sketch - Draw & Paint                               Varies with device   \n",
       "Pixel Draw - Number Art Coloring Book                              1.1   \n",
       "\n",
       "                                                     Android Ver  \n",
       "App                                                               \n",
       "Photo Editor & Candy Camera & Grid & ScrapBook      4.0.3 and up  \n",
       "Coloring book moana                                 4.0.3 and up  \n",
       "U Launcher Lite – FREE Live Cool Themes, Hide Apps  4.0.3 and up  \n",
       "Sketch - Draw & Paint                                 4.2 and up  \n",
       "Pixel Draw - Number Art Coloring Book                 4.4 and up  "
      ]
     },
     "execution_count": 84,
     "metadata": {},
     "output_type": "execute_result"
    }
   ],
   "source": [
    "newapp.head()"
   ]
  },
  {
   "cell_type": "code",
   "execution_count": 155,
   "id": "5f4ca0c5-82f0-448b-a1e3-dfb9f9ac4bb0",
   "metadata": {},
   "outputs": [
    {
     "name": "stdout",
     "output_type": "stream",
     "text": [
      "<class 'pandas.core.frame.DataFrame'>\n",
      "Index: 8528 entries, Photo Editor & Candy Camera & Grid & ScrapBook to iHoroscope - 2018 Daily Horoscope & Astrology\n",
      "Data columns (total 12 columns):\n",
      " #   Column          Non-Null Count  Dtype  \n",
      "---  ------          --------------  -----  \n",
      " 0   Category        8528 non-null   object \n",
      " 1   Rating          8528 non-null   float64\n",
      " 2   Reviews         8528 non-null   float64\n",
      " 3   Size            8528 non-null   float64\n",
      " 4   Installs        8528 non-null   int64  \n",
      " 5   Type            8528 non-null   object \n",
      " 6   Price           8528 non-null   float64\n",
      " 7   Content Rating  8528 non-null   object \n",
      " 8   Genres          8528 non-null   object \n",
      " 9   Last Updated    8528 non-null   object \n",
      " 10  Current Ver     8528 non-null   object \n",
      " 11  Android Ver     8528 non-null   object \n",
      "dtypes: float64(4), int64(1), object(7)\n",
      "memory usage: 866.1+ KB\n"
     ]
    }
   ],
   "source": [
    "newapp.info()"
   ]
  },
  {
   "cell_type": "code",
   "execution_count": 156,
   "id": "b58c6ecc-9a8d-4686-b5c0-a1bebb4aa54a",
   "metadata": {},
   "outputs": [
    {
     "data": {
      "text/plain": [
       "(8528, 12)"
      ]
     },
     "execution_count": 156,
     "metadata": {},
     "output_type": "execute_result"
    }
   ],
   "source": [
    "newapp.shape"
   ]
  },
  {
   "cell_type": "code",
   "execution_count": 157,
   "id": "a9a4f2f4-74d1-4c3b-ab9a-7f73cbd263ca",
   "metadata": {},
   "outputs": [
    {
     "name": "stdout",
     "output_type": "stream",
     "text": [
      "<class 'pandas.core.frame.DataFrame'>\n",
      "Index: 8528 entries, Photo Editor & Candy Camera & Grid & ScrapBook to iHoroscope - 2018 Daily Horoscope & Astrology\n",
      "Data columns (total 12 columns):\n",
      " #   Column          Non-Null Count  Dtype  \n",
      "---  ------          --------------  -----  \n",
      " 0   Category        8528 non-null   object \n",
      " 1   Rating          8528 non-null   float64\n",
      " 2   Reviews         8528 non-null   float64\n",
      " 3   Size            8528 non-null   float64\n",
      " 4   Installs        8528 non-null   int64  \n",
      " 5   Type            8528 non-null   object \n",
      " 6   Price           8528 non-null   float64\n",
      " 7   Content Rating  8528 non-null   object \n",
      " 8   Genres          8528 non-null   object \n",
      " 9   Last Updated    8528 non-null   object \n",
      " 10  Current Ver     8528 non-null   object \n",
      " 11  Android Ver     8528 non-null   object \n",
      "dtypes: float64(4), int64(1), object(7)\n",
      "memory usage: 866.1+ KB\n"
     ]
    }
   ],
   "source": [
    "newapp.info()"
   ]
  },
  {
   "cell_type": "code",
   "execution_count": 158,
   "id": "294296c6-49e0-4b60-a861-bb1355aad34e",
   "metadata": {},
   "outputs": [
    {
     "data": {
      "text/html": [
       "<div>\n",
       "<style scoped>\n",
       "    .dataframe tbody tr th:only-of-type {\n",
       "        vertical-align: middle;\n",
       "    }\n",
       "\n",
       "    .dataframe tbody tr th {\n",
       "        vertical-align: top;\n",
       "    }\n",
       "\n",
       "    .dataframe thead th {\n",
       "        text-align: right;\n",
       "    }\n",
       "</style>\n",
       "<table border=\"1\" class=\"dataframe\">\n",
       "  <thead>\n",
       "    <tr style=\"text-align: right;\">\n",
       "      <th></th>\n",
       "      <th>Rating</th>\n",
       "      <th>Reviews</th>\n",
       "      <th>Size</th>\n",
       "      <th>Installs</th>\n",
       "      <th>Price</th>\n",
       "    </tr>\n",
       "  </thead>\n",
       "  <tbody>\n",
       "    <tr>\n",
       "      <th>count</th>\n",
       "      <td>8528.000000</td>\n",
       "      <td>8.528000e+03</td>\n",
       "      <td>8528.000000</td>\n",
       "      <td>8.528000e+03</td>\n",
       "      <td>8528.000000</td>\n",
       "    </tr>\n",
       "    <tr>\n",
       "      <th>mean</th>\n",
       "      <td>3.493914</td>\n",
       "      <td>2.190115e+05</td>\n",
       "      <td>21.089168</td>\n",
       "      <td>6.020316e+06</td>\n",
       "      <td>1.164654</td>\n",
       "    </tr>\n",
       "    <tr>\n",
       "      <th>std</th>\n",
       "      <td>1.617637</td>\n",
       "      <td>1.468293e+06</td>\n",
       "      <td>22.511049</td>\n",
       "      <td>3.822599e+07</td>\n",
       "      <td>17.888826</td>\n",
       "    </tr>\n",
       "    <tr>\n",
       "      <th>min</th>\n",
       "      <td>0.000000</td>\n",
       "      <td>0.000000e+00</td>\n",
       "      <td>0.008500</td>\n",
       "      <td>0.000000e+00</td>\n",
       "      <td>0.000000</td>\n",
       "    </tr>\n",
       "    <tr>\n",
       "      <th>25%</th>\n",
       "      <td>3.500000</td>\n",
       "      <td>1.900000e+01</td>\n",
       "      <td>4.600000</td>\n",
       "      <td>1.000000e+03</td>\n",
       "      <td>0.000000</td>\n",
       "    </tr>\n",
       "    <tr>\n",
       "      <th>50%</th>\n",
       "      <td>4.200000</td>\n",
       "      <td>5.855000e+02</td>\n",
       "      <td>12.000000</td>\n",
       "      <td>5.000000e+04</td>\n",
       "      <td>0.000000</td>\n",
       "    </tr>\n",
       "    <tr>\n",
       "      <th>75%</th>\n",
       "      <td>4.500000</td>\n",
       "      <td>2.081250e+04</td>\n",
       "      <td>29.000000</td>\n",
       "      <td>1.000000e+06</td>\n",
       "      <td>0.000000</td>\n",
       "    </tr>\n",
       "    <tr>\n",
       "      <th>max</th>\n",
       "      <td>5.000000</td>\n",
       "      <td>4.489389e+07</td>\n",
       "      <td>100.000000</td>\n",
       "      <td>1.000000e+09</td>\n",
       "      <td>400.000000</td>\n",
       "    </tr>\n",
       "  </tbody>\n",
       "</table>\n",
       "</div>"
      ],
      "text/plain": [
       "            Rating       Reviews         Size      Installs        Price\n",
       "count  8528.000000  8.528000e+03  8528.000000  8.528000e+03  8528.000000\n",
       "mean      3.493914  2.190115e+05    21.089168  6.020316e+06     1.164654\n",
       "std       1.617637  1.468293e+06    22.511049  3.822599e+07    17.888826\n",
       "min       0.000000  0.000000e+00     0.008500  0.000000e+00     0.000000\n",
       "25%       3.500000  1.900000e+01     4.600000  1.000000e+03     0.000000\n",
       "50%       4.200000  5.855000e+02    12.000000  5.000000e+04     0.000000\n",
       "75%       4.500000  2.081250e+04    29.000000  1.000000e+06     0.000000\n",
       "max       5.000000  4.489389e+07   100.000000  1.000000e+09   400.000000"
      ]
     },
     "execution_count": 158,
     "metadata": {},
     "output_type": "execute_result"
    }
   ],
   "source": [
    "newapp.describe()"
   ]
  },
  {
   "cell_type": "code",
   "execution_count": 159,
   "id": "9a265f2d-8e2e-448c-aaca-e0b3f6673275",
   "metadata": {},
   "outputs": [
    {
     "data": {
      "text/html": [
       "<div>\n",
       "<style scoped>\n",
       "    .dataframe tbody tr th:only-of-type {\n",
       "        vertical-align: middle;\n",
       "    }\n",
       "\n",
       "    .dataframe tbody tr th {\n",
       "        vertical-align: top;\n",
       "    }\n",
       "\n",
       "    .dataframe thead th {\n",
       "        text-align: right;\n",
       "    }\n",
       "</style>\n",
       "<table border=\"1\" class=\"dataframe\">\n",
       "  <thead>\n",
       "    <tr style=\"text-align: right;\">\n",
       "      <th></th>\n",
       "      <th>Category</th>\n",
       "      <th>Type</th>\n",
       "      <th>Content Rating</th>\n",
       "      <th>Genres</th>\n",
       "      <th>Last Updated</th>\n",
       "      <th>Current Ver</th>\n",
       "      <th>Android Ver</th>\n",
       "    </tr>\n",
       "  </thead>\n",
       "  <tbody>\n",
       "    <tr>\n",
       "      <th>count</th>\n",
       "      <td>8528</td>\n",
       "      <td>8528</td>\n",
       "      <td>8528</td>\n",
       "      <td>8528</td>\n",
       "      <td>8528</td>\n",
       "      <td>8528</td>\n",
       "      <td>8528</td>\n",
       "    </tr>\n",
       "    <tr>\n",
       "      <th>unique</th>\n",
       "      <td>33</td>\n",
       "      <td>2</td>\n",
       "      <td>6</td>\n",
       "      <td>115</td>\n",
       "      <td>1353</td>\n",
       "      <td>2584</td>\n",
       "      <td>33</td>\n",
       "    </tr>\n",
       "    <tr>\n",
       "      <th>top</th>\n",
       "      <td>FAMILY</td>\n",
       "      <td>Free</td>\n",
       "      <td>Everyone</td>\n",
       "      <td>Tools</td>\n",
       "      <td>03-08-2018</td>\n",
       "      <td>1</td>\n",
       "      <td>4.1 and up</td>\n",
       "    </tr>\n",
       "    <tr>\n",
       "      <th>freq</th>\n",
       "      <td>1778</td>\n",
       "      <td>7872</td>\n",
       "      <td>6971</td>\n",
       "      <td>737</td>\n",
       "      <td>192</td>\n",
       "      <td>820</td>\n",
       "      <td>2178</td>\n",
       "    </tr>\n",
       "  </tbody>\n",
       "</table>\n",
       "</div>"
      ],
      "text/plain": [
       "       Category  Type Content Rating Genres Last Updated Current Ver  \\\n",
       "count      8528  8528           8528   8528         8528        8528   \n",
       "unique       33     2              6    115         1353        2584   \n",
       "top      FAMILY  Free       Everyone  Tools   03-08-2018           1   \n",
       "freq       1778  7872           6971    737          192         820   \n",
       "\n",
       "       Android Ver  \n",
       "count         8528  \n",
       "unique          33  \n",
       "top     4.1 and up  \n",
       "freq          2178  "
      ]
     },
     "execution_count": 159,
     "metadata": {},
     "output_type": "execute_result"
    }
   ],
   "source": [
    "newapp.describe(include='O')"
   ]
  },
  {
   "cell_type": "code",
   "execution_count": 160,
   "id": "28ba9777-8d99-402a-b23f-42d346809074",
   "metadata": {},
   "outputs": [],
   "source": [
    "app.to_csv('newer_Appdata.csv')"
   ]
  },
  {
   "cell_type": "code",
   "execution_count": 161,
   "id": "f79f3b01-bce4-4064-a14d-1ee77ff7858e",
   "metadata": {},
   "outputs": [],
   "source": [
    "reviews.to_csv('newer_Reviewsdata.csv')"
   ]
  },
  {
   "cell_type": "code",
   "execution_count": 41,
   "id": "febaf035-0483-4dd3-8634-ffcfb099dede",
   "metadata": {},
   "outputs": [
    {
     "ename": "NameError",
     "evalue": "name 'newapp' is not defined",
     "output_type": "error",
     "traceback": [
      "\u001b[1;31m---------------------------------------------------------------------------\u001b[0m",
      "\u001b[1;31mNameError\u001b[0m                                 Traceback (most recent call last)",
      "Cell \u001b[1;32mIn[41], line 1\u001b[0m\n\u001b[1;32m----> 1\u001b[0m newapp\u001b[38;5;241m.\u001b[39mcolumns\n",
      "\u001b[1;31mNameError\u001b[0m: name 'newapp' is not defined"
     ]
    }
   ],
   "source": [
    "newapp.columns"
   ]
  },
  {
   "cell_type": "code",
   "execution_count": 163,
   "id": "890b65a5-0b37-4af3-891d-84fc2dbe623b",
   "metadata": {},
   "outputs": [
    {
     "data": {
      "text/plain": [
       "Category           object\n",
       "Rating            float64\n",
       "Reviews           float64\n",
       "Size              float64\n",
       "Installs            int64\n",
       "Type               object\n",
       "Price             float64\n",
       "Content Rating     object\n",
       "Genres             object\n",
       "Last Updated       object\n",
       "Current Ver        object\n",
       "Android Ver        object\n",
       "dtype: object"
      ]
     },
     "execution_count": 163,
     "metadata": {},
     "output_type": "execute_result"
    }
   ],
   "source": [
    "newapp.dtypes"
   ]
  },
  {
   "cell_type": "code",
   "execution_count": 164,
   "id": "1a3116da-28f4-44eb-a14a-ad9d9764818d",
   "metadata": {},
   "outputs": [
    {
     "data": {
      "text/plain": [
       "Category            33\n",
       "Rating              40\n",
       "Reviews           4474\n",
       "Size               454\n",
       "Installs            20\n",
       "Type                 2\n",
       "Price               83\n",
       "Content Rating       6\n",
       "Genres             115\n",
       "Last Updated      1353\n",
       "Current Ver       2584\n",
       "Android Ver         33\n",
       "dtype: int64"
      ]
     },
     "execution_count": 164,
     "metadata": {},
     "output_type": "execute_result"
    }
   ],
   "source": [
    "newapp.nunique()"
   ]
  },
  {
   "cell_type": "code",
   "execution_count": 165,
   "id": "17d6c811-8385-4356-9cb6-426ee83833cf",
   "metadata": {},
   "outputs": [
    {
     "data": {
      "text/plain": [
       "Index(['Category', 'Type', 'Content Rating', 'Genres', 'Last Updated',\n",
       "       'Current Ver', 'Android Ver'],\n",
       "      dtype='object')"
      ]
     },
     "execution_count": 165,
     "metadata": {},
     "output_type": "execute_result"
    }
   ],
   "source": [
    "categorical_col=newapp.select_dtypes(['O']).columns\n",
    "categorical_col"
   ]
  },
  {
   "cell_type": "code",
   "execution_count": 166,
   "id": "87b97007-7e15-412c-94e9-f53090b94758",
   "metadata": {},
   "outputs": [
    {
     "data": {
      "text/plain": [
       "Index(['Rating', 'Reviews', 'Size', 'Installs', 'Price'], dtype='object')"
      ]
     },
     "execution_count": 166,
     "metadata": {},
     "output_type": "execute_result"
    }
   ],
   "source": [
    "numerical_cols= newapp.select_dtypes(['int','float']).columns\n",
    "numerical_cols"
   ]
  },
  {
   "cell_type": "markdown",
   "id": "b6c35ec0-c6c0-41f5-a8c3-b719154e82b0",
   "metadata": {},
   "source": [
    "# Exploratory Data Analysis\n",
    "\n",
    "> This will be done on SQL"
   ]
  },
  {
   "cell_type": "markdown",
   "id": "8af9845b-ca96-49fe-93e4-80061fd4b167",
   "metadata": {},
   "source": [
    "#### Installs\t"
   ]
  },
  {
   "cell_type": "code",
   "execution_count": 176,
   "id": "8d48b344-5482-4076-a1f4-02fd5e3e261f",
   "metadata": {},
   "outputs": [
    {
     "data": {
      "text/plain": [
       "count    8.528000e+03\n",
       "mean     6.020316e+06\n",
       "std      3.822599e+07\n",
       "min      0.000000e+00\n",
       "25%      1.000000e+03\n",
       "50%      5.000000e+04\n",
       "75%      1.000000e+06\n",
       "max      1.000000e+09\n",
       "Name: Installs, dtype: float64"
      ]
     },
     "execution_count": 176,
     "metadata": {},
     "output_type": "execute_result"
    }
   ],
   "source": [
    "newapp['Installs'].describe()"
   ]
  },
  {
   "cell_type": "code",
   "execution_count": 177,
   "id": "162b942f-ed8a-4a34-b1c0-c0172f8fc029",
   "metadata": {},
   "outputs": [
    {
     "data": {
      "text/plain": [
       "[Text(0.5, 1.0, 'Distibution for Reviews')]"
      ]
     },
     "execution_count": 177,
     "metadata": {},
     "output_type": "execute_result"
    },
    {
     "data": {
      "image/png": "[encoded data removed]",
      "text/plain": [
       "<Figure size 640x480 with 1 Axes>"
      ]
     },
     "metadata": {},
     "output_type": "display_data"
    }
   ],
   "source": [
    "# Reviews distribution\n",
    "sns.set_style(\"darkgrid\")\n",
    "sns.boxplot(data= newapp, x='Installs').set(title='Distibution for Reviews')"
   ]
  },
  {
   "cell_type": "markdown",
   "id": "19c97eff-0427-4500-bf7d-96a7ddac4af0",
   "metadata": {},
   "source": [
    "### Price"
   ]
  },
  {
   "cell_type": "code",
   "execution_count": 178,
   "id": "06857162-4b62-435f-b307-776dc2edc04a",
   "metadata": {},
   "outputs": [
    {
     "data": {
      "text/plain": [
       "count    8528.000000\n",
       "mean        1.164654\n",
       "std        17.888826\n",
       "min         0.000000\n",
       "25%         0.000000\n",
       "50%         0.000000\n",
       "75%         0.000000\n",
       "max       400.000000\n",
       "Name: Price, dtype: float64"
      ]
     },
     "execution_count": 178,
     "metadata": {},
     "output_type": "execute_result"
    }
   ],
   "source": [
    "newapp['Price'].describe()"
   ]
  },
  {
   "cell_type": "code",
   "execution_count": 179,
   "id": "f549c331-798b-4356-8129-6082b59e62fb",
   "metadata": {},
   "outputs": [
    {
     "data": {
      "text/plain": [
       "array([  0.  ,   6.99,   1.49,   2.99,   3.99,   7.99,   5.99,   4.99,\n",
       "         1.99,   9.99,   0.99,   1.  ,   3.49,  10.99,   7.49,   1.5 ,\n",
       "        14.99,  15.99,  74.99,  39.99,  29.99,   4.49,   1.7 ,   2.  ,\n",
       "         3.88,  25.99, 399.99,  17.99, 400.  ,   2.49,   3.02,   1.76,\n",
       "         4.84,   4.77,   1.61,  19.99,   1.59,   6.49,   1.29,   5.  ,\n",
       "        13.99, 299.99, 379.99,  37.99,  18.99, 389.99,  19.9 ,   8.49,\n",
       "         1.75,  14.  ,   4.85,  46.99, 109.99, 154.99,   3.08,   2.59,\n",
       "         4.8 ,   8.99,   1.96,  19.4 ,  15.46,  10.  ,   5.49,   3.04,\n",
       "        12.99,   4.29,   2.6 ,   3.28,   4.6 ,  28.99,   2.9 ,   1.97,\n",
       "        24.99, 200.  ,  89.99,   2.56,  30.99,   3.61, 394.99,   1.26,\n",
       "        16.99,   1.2 ,   1.04])"
      ]
     },
     "execution_count": 179,
     "metadata": {},
     "output_type": "execute_result"
    }
   ],
   "source": [
    "newapp['Price'].unique()"
   ]
  },
  {
   "cell_type": "code",
   "execution_count": 180,
   "id": "490a6fe9-ca18-4ae9-83f4-4c73eb6a0eed",
   "metadata": {},
   "outputs": [
    {
     "data": {
      "text/plain": [
       "[Text(0.5, 1.0, 'Google Price  distribution')]"
      ]
     },
     "execution_count": 180,
     "metadata": {},
     "output_type": "execute_result"
    },
    {
     "data": {
      "image/png": "[encoded data removed]",
      "text/plain": [
       "<Figure size 640x480 with 1 Axes>"
      ]
     },
     "metadata": {},
     "output_type": "display_data"
    }
   ],
   "source": [
    "# Ratings distribution\n",
    "sns.set_style(\"darkgrid\")\n",
    "sns.histplot(data= newapp, x='Price',kde=True,bins=10).set(title='Google Price  distribution')"
   ]
  },
  {
   "cell_type": "code",
   "execution_count": null,
   "id": "294519b4-857d-4a26-8d14-204544a4b624",
   "metadata": {},
   "outputs": [],
   "source": []
  },
  {
   "cell_type": "markdown",
   "id": "8741b0c7-9457-4131-8ce5-eff58abdc941",
   "metadata": {},
   "source": [
    "### Bivariate Analysis"
   ]
  },
  {
   "cell_type": "markdown",
   "id": "85a2ae06-bb3c-4ce6-a679-48e6a3be1ddb",
   "metadata": {},
   "source": [
    "#### Size and Rating"
   ]
  },
  {
   "cell_type": "code",
   "execution_count": 181,
   "id": "f795bc04-58c2-4c9c-8e14-b390e6af791c",
   "metadata": {},
   "outputs": [
    {
     "data": {
      "text/plain": [
       "<Axes: xlabel='Size', ylabel='Rating'>"
      ]
     },
     "execution_count": 181,
     "metadata": {},
     "output_type": "execute_result"
    },
    {
     "data": {
      "image/png": "[encoded data removed]",
      "text/plain": [
       "<Figure size 800x500 with 1 Axes>"
      ]
     },
     "metadata": {},
     "output_type": "display_data"
    }
   ],
   "source": [
    "# Set width and height of figure\n",
    "plt.figure(figsize=(8,5))\n",
    "\n",
    "# Scatterplot showing relationship between Age and Maximum Heart Rate\n",
    "sns.scatterplot(x='Size', y='Rating', data=newapp)\n"
   ]
  },
  {
   "cell_type": "code",
   "execution_count": 182,
   "id": "de0c91ed-a46e-4d9f-a5ea-9f815ac2dcfe",
   "metadata": {},
   "outputs": [],
   "source": [
    "# Check for outliers"
   ]
  },
  {
   "cell_type": "code",
   "execution_count": null,
   "id": "59eddfb2-d291-4ebb-8f41-8f81ccc9d280",
   "metadata": {},
   "outputs": [],
   "source": []
  },
  {
   "cell_type": "markdown",
   "id": "601d40c3-ae09-4532-be91-8a3098cfee34",
   "metadata": {},
   "source": []
  },
  {
   "cell_type": "code",
   "execution_count": null,
   "id": "35399d99-1ee2-4d7a-87ee-d9ad3f780478",
   "metadata": {},
   "outputs": [],
   "source": []
  },
  {
   "cell_type": "code",
   "execution_count": 183,
   "id": "d79335f2-a73a-4bc4-94e5-f0e99447c41f",
   "metadata": {},
   "outputs": [
    {
     "data": {
      "text/plain": [
       "<Axes: >"
      ]
     },
     "execution_count": 183,
     "metadata": {},
     "output_type": "execute_result"
    },
    {
     "data": {
      "image/png": "[encoded data removed]",
      "text/plain": [
       "<Figure size 700x500 with 2 Axes>"
      ]
     },
     "metadata": {},
     "output_type": "display_data"
    }
   ],
   "source": [
    "import seaborn as sns\n",
    "sns.set()\n",
    "plt.figure(figsize=(7,5))\n",
    "sns.heatmap(newapp[numerical_cols].corr(),annot=True)\n"
   ]
  },
  {
   "cell_type": "code",
   "execution_count": null,
   "id": "25b9acde-6992-47cd-9b08-bc7e0579e4a6",
   "metadata": {},
   "outputs": [],
   "source": []
  },
  {
   "cell_type": "code",
   "execution_count": null,
   "id": "ea9b740a-b4d3-4c34-bcb5-1c1db834de4f",
   "metadata": {},
   "outputs": [],
   "source": []
  },
  {
   "cell_type": "code",
   "execution_count": 186,
   "id": "8d72433b-a571-49e3-8b44-fa33b63e0998",
   "metadata": {},
   "outputs": [
    {
     "data": {
      "text/plain": [
       "<seaborn.axisgrid.PairGrid at 0x1cd5b16df90>"
      ]
     },
     "execution_count": 186,
     "metadata": {},
     "output_type": "execute_result"
    },
    {
     "data": {
      "image/png": "[encoded data removed]",
      "text/plain": [
       "<Figure size 1250x1250 with 30 Axes>"
      ]
     },
     "metadata": {},
     "output_type": "display_data"
    }
   ],
   "source": [
    "sns.pairplot(newapp[numerical_cols])"
   ]
  },
  {
   "cell_type": "code",
   "execution_count": null,
   "id": "281ab0d1-3bd5-4708-8c9f-0efe5125aa36",
   "metadata": {},
   "outputs": [],
   "source": []
  },
  {
   "cell_type": "markdown",
   "id": "cf17f97b-8884-472e-a7be-0db8811742fc",
   "metadata": {},
   "source": [
    "## Research Question and  Analysis"
   ]
  },
  {
   "cell_type": "code",
   "execution_count": 187,
   "id": "61874d78-1150-4235-a3f2-d44ed6d695fc",
   "metadata": {},
   "outputs": [
    {
     "data": {
      "text/html": [
       "<div>\n",
       "<style scoped>\n",
       "    .dataframe tbody tr th:only-of-type {\n",
       "        vertical-align: middle;\n",
       "    }\n",
       "\n",
       "    .dataframe tbody tr th {\n",
       "        vertical-align: top;\n",
       "    }\n",
       "\n",
       "    .dataframe thead th {\n",
       "        text-align: right;\n",
       "    }\n",
       "</style>\n",
       "<table border=\"1\" class=\"dataframe\">\n",
       "  <thead>\n",
       "    <tr style=\"text-align: right;\">\n",
       "      <th></th>\n",
       "      <th>Category</th>\n",
       "      <th>Rating</th>\n",
       "      <th>Reviews</th>\n",
       "      <th>Size</th>\n",
       "      <th>Installs</th>\n",
       "      <th>Type</th>\n",
       "      <th>Price</th>\n",
       "      <th>Content Rating</th>\n",
       "      <th>Genres</th>\n",
       "      <th>Last Updated</th>\n",
       "      <th>Current Ver</th>\n",
       "      <th>Android Ver</th>\n",
       "    </tr>\n",
       "    <tr>\n",
       "      <th>App</th>\n",
       "      <th></th>\n",
       "      <th></th>\n",
       "      <th></th>\n",
       "      <th></th>\n",
       "      <th></th>\n",
       "      <th></th>\n",
       "      <th></th>\n",
       "      <th></th>\n",
       "      <th></th>\n",
       "      <th></th>\n",
       "      <th></th>\n",
       "      <th></th>\n",
       "    </tr>\n",
       "  </thead>\n",
       "  <tbody>\n",
       "    <tr>\n",
       "      <th>Photo Editor &amp; Candy Camera &amp; Grid &amp; ScrapBook</th>\n",
       "      <td>ART_AND_DESIGN</td>\n",
       "      <td>4.1</td>\n",
       "      <td>159.0</td>\n",
       "      <td>19.0</td>\n",
       "      <td>10000</td>\n",
       "      <td>Free</td>\n",
       "      <td>0.0</td>\n",
       "      <td>Everyone</td>\n",
       "      <td>Art &amp; Design</td>\n",
       "      <td>07-01-2018</td>\n",
       "      <td>1.0.0</td>\n",
       "      <td>4.0.3 and up</td>\n",
       "    </tr>\n",
       "    <tr>\n",
       "      <th>Coloring book moana</th>\n",
       "      <td>ART_AND_DESIGN</td>\n",
       "      <td>3.9</td>\n",
       "      <td>967.0</td>\n",
       "      <td>14.0</td>\n",
       "      <td>500000</td>\n",
       "      <td>Free</td>\n",
       "      <td>0.0</td>\n",
       "      <td>Everyone</td>\n",
       "      <td>Art &amp; Design;Pretend Play</td>\n",
       "      <td>15-01-2018</td>\n",
       "      <td>2.0.0</td>\n",
       "      <td>4.0.3 and up</td>\n",
       "    </tr>\n",
       "    <tr>\n",
       "      <th>U Launcher Lite – FREE Live Cool Themes, Hide Apps</th>\n",
       "      <td>ART_AND_DESIGN</td>\n",
       "      <td>4.7</td>\n",
       "      <td>87510.0</td>\n",
       "      <td>8.7</td>\n",
       "      <td>5000000</td>\n",
       "      <td>Free</td>\n",
       "      <td>0.0</td>\n",
       "      <td>Everyone</td>\n",
       "      <td>Art &amp; Design</td>\n",
       "      <td>01-08-2018</td>\n",
       "      <td>1.2.4</td>\n",
       "      <td>4.0.3 and up</td>\n",
       "    </tr>\n",
       "    <tr>\n",
       "      <th>Sketch - Draw &amp; Paint</th>\n",
       "      <td>ART_AND_DESIGN</td>\n",
       "      <td>4.5</td>\n",
       "      <td>215644.0</td>\n",
       "      <td>25.0</td>\n",
       "      <td>50000000</td>\n",
       "      <td>Free</td>\n",
       "      <td>0.0</td>\n",
       "      <td>Teen</td>\n",
       "      <td>Art &amp; Design</td>\n",
       "      <td>08-06-2018</td>\n",
       "      <td>Varies with device</td>\n",
       "      <td>4.2 and up</td>\n",
       "    </tr>\n",
       "    <tr>\n",
       "      <th>Pixel Draw - Number Art Coloring Book</th>\n",
       "      <td>ART_AND_DESIGN</td>\n",
       "      <td>4.3</td>\n",
       "      <td>967.0</td>\n",
       "      <td>2.8</td>\n",
       "      <td>100000</td>\n",
       "      <td>Free</td>\n",
       "      <td>0.0</td>\n",
       "      <td>Everyone</td>\n",
       "      <td>Art &amp; Design;Creativity</td>\n",
       "      <td>20-06-2018</td>\n",
       "      <td>1.1</td>\n",
       "      <td>4.4 and up</td>\n",
       "    </tr>\n",
       "    <tr>\n",
       "      <th>Paper flowers instructions</th>\n",
       "      <td>ART_AND_DESIGN</td>\n",
       "      <td>4.4</td>\n",
       "      <td>167.0</td>\n",
       "      <td>5.6</td>\n",
       "      <td>50000</td>\n",
       "      <td>Free</td>\n",
       "      <td>0.0</td>\n",
       "      <td>Everyone</td>\n",
       "      <td>Art &amp; Design</td>\n",
       "      <td>26-03-2017</td>\n",
       "      <td>1</td>\n",
       "      <td>2.3 and up</td>\n",
       "    </tr>\n",
       "    <tr>\n",
       "      <th>Smoke Effect Photo Maker - Smoke Editor</th>\n",
       "      <td>ART_AND_DESIGN</td>\n",
       "      <td>3.8</td>\n",
       "      <td>178.0</td>\n",
       "      <td>19.0</td>\n",
       "      <td>50000</td>\n",
       "      <td>Free</td>\n",
       "      <td>0.0</td>\n",
       "      <td>Everyone</td>\n",
       "      <td>Art &amp; Design</td>\n",
       "      <td>26-04-2018</td>\n",
       "      <td>1.1</td>\n",
       "      <td>4.0.3 and up</td>\n",
       "    </tr>\n",
       "    <tr>\n",
       "      <th>Infinite Painter</th>\n",
       "      <td>ART_AND_DESIGN</td>\n",
       "      <td>4.1</td>\n",
       "      <td>36815.0</td>\n",
       "      <td>29.0</td>\n",
       "      <td>1000000</td>\n",
       "      <td>Free</td>\n",
       "      <td>0.0</td>\n",
       "      <td>Everyone</td>\n",
       "      <td>Art &amp; Design</td>\n",
       "      <td>14-06-2018</td>\n",
       "      <td>6.1.61.1</td>\n",
       "      <td>4.2 and up</td>\n",
       "    </tr>\n",
       "    <tr>\n",
       "      <th>Garden Coloring Book</th>\n",
       "      <td>ART_AND_DESIGN</td>\n",
       "      <td>4.4</td>\n",
       "      <td>13791.0</td>\n",
       "      <td>33.0</td>\n",
       "      <td>1000000</td>\n",
       "      <td>Free</td>\n",
       "      <td>0.0</td>\n",
       "      <td>Everyone</td>\n",
       "      <td>Art &amp; Design</td>\n",
       "      <td>20-09-2017</td>\n",
       "      <td>2.9.2</td>\n",
       "      <td>3.0 and up</td>\n",
       "    </tr>\n",
       "    <tr>\n",
       "      <th>Kids Paint Free - Drawing Fun</th>\n",
       "      <td>ART_AND_DESIGN</td>\n",
       "      <td>4.7</td>\n",
       "      <td>121.0</td>\n",
       "      <td>3.1</td>\n",
       "      <td>10000</td>\n",
       "      <td>Free</td>\n",
       "      <td>0.0</td>\n",
       "      <td>Everyone</td>\n",
       "      <td>Art &amp; Design;Creativity</td>\n",
       "      <td>03-07-2018</td>\n",
       "      <td>2.8</td>\n",
       "      <td>4.0.3 and up</td>\n",
       "    </tr>\n",
       "  </tbody>\n",
       "</table>\n",
       "</div>"
      ],
      "text/plain": [
       "                                                          Category  Rating  \\\n",
       "App                                                                          \n",
       "Photo Editor & Candy Camera & Grid & ScrapBook      ART_AND_DESIGN     4.1   \n",
       "Coloring book moana                                 ART_AND_DESIGN     3.9   \n",
       "U Launcher Lite – FREE Live Cool Themes, Hide Apps  ART_AND_DESIGN     4.7   \n",
       "Sketch - Draw & Paint                               ART_AND_DESIGN     4.5   \n",
       "Pixel Draw - Number Art Coloring Book               ART_AND_DESIGN     4.3   \n",
       "Paper flowers instructions                          ART_AND_DESIGN     4.4   \n",
       "Smoke Effect Photo Maker - Smoke Editor             ART_AND_DESIGN     3.8   \n",
       "Infinite Painter                                    ART_AND_DESIGN     4.1   \n",
       "Garden Coloring Book                                ART_AND_DESIGN     4.4   \n",
       "Kids Paint Free - Drawing Fun                       ART_AND_DESIGN     4.7   \n",
       "\n",
       "                                                     Reviews  Size  Installs  \\\n",
       "App                                                                            \n",
       "Photo Editor & Candy Camera & Grid & ScrapBook         159.0  19.0     10000   \n",
       "Coloring book moana                                    967.0  14.0    500000   \n",
       "U Launcher Lite – FREE Live Cool Themes, Hide Apps   87510.0   8.7   5000000   \n",
       "Sketch - Draw & Paint                               215644.0  25.0  50000000   \n",
       "Pixel Draw - Number Art Coloring Book                  967.0   2.8    100000   \n",
       "Paper flowers instructions                             167.0   5.6     50000   \n",
       "Smoke Effect Photo Maker - Smoke Editor                178.0  19.0     50000   \n",
       "Infinite Painter                                     36815.0  29.0   1000000   \n",
       "Garden Coloring Book                                 13791.0  33.0   1000000   \n",
       "Kids Paint Free - Drawing Fun                          121.0   3.1     10000   \n",
       "\n",
       "                                                    Type  Price  \\\n",
       "App                                                               \n",
       "Photo Editor & Candy Camera & Grid & ScrapBook      Free    0.0   \n",
       "Coloring book moana                                 Free    0.0   \n",
       "U Launcher Lite – FREE Live Cool Themes, Hide Apps  Free    0.0   \n",
       "Sketch - Draw & Paint                               Free    0.0   \n",
       "Pixel Draw - Number Art Coloring Book               Free    0.0   \n",
       "Paper flowers instructions                          Free    0.0   \n",
       "Smoke Effect Photo Maker - Smoke Editor             Free    0.0   \n",
       "Infinite Painter                                    Free    0.0   \n",
       "Garden Coloring Book                                Free    0.0   \n",
       "Kids Paint Free - Drawing Fun                       Free    0.0   \n",
       "\n",
       "                                                   Content Rating  \\\n",
       "App                                                                 \n",
       "Photo Editor & Candy Camera & Grid & ScrapBook           Everyone   \n",
       "Coloring book moana                                      Everyone   \n",
       "U Launcher Lite – FREE Live Cool Themes, Hide Apps       Everyone   \n",
       "Sketch - Draw & Paint                                        Teen   \n",
       "Pixel Draw - Number Art Coloring Book                    Everyone   \n",
       "Paper flowers instructions                               Everyone   \n",
       "Smoke Effect Photo Maker - Smoke Editor                  Everyone   \n",
       "Infinite Painter                                         Everyone   \n",
       "Garden Coloring Book                                     Everyone   \n",
       "Kids Paint Free - Drawing Fun                            Everyone   \n",
       "\n",
       "                                                                       Genres  \\\n",
       "App                                                                             \n",
       "Photo Editor & Candy Camera & Grid & ScrapBook                   Art & Design   \n",
       "Coloring book moana                                 Art & Design;Pretend Play   \n",
       "U Launcher Lite – FREE Live Cool Themes, Hide Apps               Art & Design   \n",
       "Sketch - Draw & Paint                                            Art & Design   \n",
       "Pixel Draw - Number Art Coloring Book                 Art & Design;Creativity   \n",
       "Paper flowers instructions                                       Art & Design   \n",
       "Smoke Effect Photo Maker - Smoke Editor                          Art & Design   \n",
       "Infinite Painter                                                 Art & Design   \n",
       "Garden Coloring Book                                             Art & Design   \n",
       "Kids Paint Free - Drawing Fun                         Art & Design;Creativity   \n",
       "\n",
       "                                                   Last Updated  \\\n",
       "App                                                               \n",
       "Photo Editor & Candy Camera & Grid & ScrapBook       07-01-2018   \n",
       "Coloring book moana                                  15-01-2018   \n",
       "U Launcher Lite – FREE Live Cool Themes, Hide Apps   01-08-2018   \n",
       "Sketch - Draw & Paint                                08-06-2018   \n",
       "Pixel Draw - Number Art Coloring Book                20-06-2018   \n",
       "Paper flowers instructions                           26-03-2017   \n",
       "Smoke Effect Photo Maker - Smoke Editor              26-04-2018   \n",
       "Infinite Painter                                     14-06-2018   \n",
       "Garden Coloring Book                                 20-09-2017   \n",
       "Kids Paint Free - Drawing Fun                        03-07-2018   \n",
       "\n",
       "                                                           Current Ver  \\\n",
       "App                                                                      \n",
       "Photo Editor & Candy Camera & Grid & ScrapBook                   1.0.0   \n",
       "Coloring book moana                                              2.0.0   \n",
       "U Launcher Lite – FREE Live Cool Themes, Hide Apps               1.2.4   \n",
       "Sketch - Draw & Paint                               Varies with device   \n",
       "Pixel Draw - Number Art Coloring Book                              1.1   \n",
       "Paper flowers instructions                                           1   \n",
       "Smoke Effect Photo Maker - Smoke Editor                            1.1   \n",
       "Infinite Painter                                              6.1.61.1   \n",
       "Garden Coloring Book                                             2.9.2   \n",
       "Kids Paint Free - Drawing Fun                                      2.8   \n",
       "\n",
       "                                                     Android Ver  \n",
       "App                                                               \n",
       "Photo Editor & Candy Camera & Grid & ScrapBook      4.0.3 and up  \n",
       "Coloring book moana                                 4.0.3 and up  \n",
       "U Launcher Lite – FREE Live Cool Themes, Hide Apps  4.0.3 and up  \n",
       "Sketch - Draw & Paint                                 4.2 and up  \n",
       "Pixel Draw - Number Art Coloring Book                 4.4 and up  \n",
       "Paper flowers instructions                            2.3 and up  \n",
       "Smoke Effect Photo Maker - Smoke Editor             4.0.3 and up  \n",
       "Infinite Painter                                      4.2 and up  \n",
       "Garden Coloring Book                                  3.0 and up  \n",
       "Kids Paint Free - Drawing Fun                       4.0.3 and up  "
      ]
     },
     "execution_count": 187,
     "metadata": {},
     "output_type": "execute_result"
    }
   ],
   "source": [
    "newapp.head(10)"
   ]
  },
  {
   "cell_type": "markdown",
   "id": "9c375fff-0b2b-4a81-8fa0-ac03762403bb",
   "metadata": {},
   "source": [
    "### 1.\tWhich apps have the highest rating in the given available dataset?"
   ]
  },
  {
   "cell_type": "code",
   "execution_count": 188,
   "id": "71ae1713-6a1a-44bb-b102-54053cde6e35",
   "metadata": {},
   "outputs": [
    {
     "data": {
      "text/html": [
       "<div>\n",
       "<style scoped>\n",
       "    .dataframe tbody tr th:only-of-type {\n",
       "        vertical-align: middle;\n",
       "    }\n",
       "\n",
       "    .dataframe tbody tr th {\n",
       "        vertical-align: top;\n",
       "    }\n",
       "\n",
       "    .dataframe thead th {\n",
       "        text-align: right;\n",
       "    }\n",
       "</style>\n",
       "<table border=\"1\" class=\"dataframe\">\n",
       "  <thead>\n",
       "    <tr style=\"text-align: right;\">\n",
       "      <th></th>\n",
       "      <th>Rating</th>\n",
       "    </tr>\n",
       "    <tr>\n",
       "      <th>App</th>\n",
       "      <th></th>\n",
       "    </tr>\n",
       "  </thead>\n",
       "  <tbody>\n",
       "    <tr>\n",
       "      <th>Trovami se ci riesci</th>\n",
       "      <td>5.0</td>\n",
       "    </tr>\n",
       "    <tr>\n",
       "      <th>BI News</th>\n",
       "      <td>5.0</td>\n",
       "    </tr>\n",
       "    <tr>\n",
       "      <th>BU Study</th>\n",
       "      <td>5.0</td>\n",
       "    </tr>\n",
       "    <tr>\n",
       "      <th>AJ Rafael Music Lessons</th>\n",
       "      <td>5.0</td>\n",
       "    </tr>\n",
       "    <tr>\n",
       "      <th>Cy-Fair Christian Church</th>\n",
       "      <td>5.0</td>\n",
       "    </tr>\n",
       "    <tr>\n",
       "      <th>CricQuick</th>\n",
       "      <td>5.0</td>\n",
       "    </tr>\n",
       "    <tr>\n",
       "      <th>CB News</th>\n",
       "      <td>5.0</td>\n",
       "    </tr>\n",
       "    <tr>\n",
       "      <th>CB Register</th>\n",
       "      <td>5.0</td>\n",
       "    </tr>\n",
       "    <tr>\n",
       "      <th>AJ Blue Icon Pack</th>\n",
       "      <td>5.0</td>\n",
       "    </tr>\n",
       "    <tr>\n",
       "      <th>Cb browser</th>\n",
       "      <td>5.0</td>\n",
       "    </tr>\n",
       "  </tbody>\n",
       "</table>\n",
       "</div>"
      ],
      "text/plain": [
       "                          Rating\n",
       "App                             \n",
       "Trovami se ci riesci         5.0\n",
       "BI News                      5.0\n",
       "BU Study                     5.0\n",
       "AJ Rafael Music Lessons      5.0\n",
       "Cy-Fair Christian Church     5.0\n",
       "CricQuick                    5.0\n",
       "CB News                      5.0\n",
       "CB Register                  5.0\n",
       "AJ Blue Icon Pack            5.0\n",
       "Cb browser                   5.0"
      ]
     },
     "execution_count": 188,
     "metadata": {},
     "output_type": "execute_result"
    }
   ],
   "source": [
    "top_rated=newapp[['Rating']].sort_values(by='Rating',ascending=False)\n",
    "top_rated[:10]"
   ]
  },
  {
   "cell_type": "markdown",
   "id": "7c963999-6c39-4a06-a4ac-21538333ec6a",
   "metadata": {},
   "source": [
    "**NOTE:** This are the top 10 rated apps in the above dataset"
   ]
  },
  {
   "cell_type": "markdown",
   "id": "56550228-6e17-43c3-8711-845e460ec380",
   "metadata": {},
   "source": [
    "### 2.\tWhat are the number of installs and reviews for the above apps? Return the apps with the highest reviews to the top."
   ]
  },
  {
   "cell_type": "code",
   "execution_count": 190,
   "id": "e5644e2c-f288-4218-b65e-fc93a75cc84c",
   "metadata": {
    "scrolled": true
   },
   "outputs": [],
   "source": [
    "top_apps_data=newapp.loc[top_rated.index]"
   ]
  },
  {
   "cell_type": "code",
   "execution_count": 191,
   "id": "c11c6c28-9df7-4294-85db-1b99cbd90dd0",
   "metadata": {},
   "outputs": [
    {
     "data": {
      "text/html": [
       "<div>\n",
       "<style scoped>\n",
       "    .dataframe tbody tr th:only-of-type {\n",
       "        vertical-align: middle;\n",
       "    }\n",
       "\n",
       "    .dataframe tbody tr th {\n",
       "        vertical-align: top;\n",
       "    }\n",
       "\n",
       "    .dataframe thead th {\n",
       "        text-align: right;\n",
       "    }\n",
       "</style>\n",
       "<table border=\"1\" class=\"dataframe\">\n",
       "  <thead>\n",
       "    <tr style=\"text-align: right;\">\n",
       "      <th></th>\n",
       "      <th>Rating</th>\n",
       "      <th>Installs</th>\n",
       "      <th>Reviews</th>\n",
       "    </tr>\n",
       "    <tr>\n",
       "      <th>App</th>\n",
       "      <th></th>\n",
       "      <th></th>\n",
       "      <th></th>\n",
       "    </tr>\n",
       "  </thead>\n",
       "  <tbody>\n",
       "    <tr>\n",
       "      <th>Clash of Clans</th>\n",
       "      <td>4.6</td>\n",
       "      <td>100000000</td>\n",
       "      <td>44893888.0</td>\n",
       "    </tr>\n",
       "    <tr>\n",
       "      <th>Clash of Clans</th>\n",
       "      <td>4.6</td>\n",
       "      <td>100000000</td>\n",
       "      <td>44893888.0</td>\n",
       "    </tr>\n",
       "    <tr>\n",
       "      <th>Clash of Clans</th>\n",
       "      <td>4.6</td>\n",
       "      <td>100000000</td>\n",
       "      <td>44881447.0</td>\n",
       "    </tr>\n",
       "    <tr>\n",
       "      <th>Clash of Clans</th>\n",
       "      <td>4.6</td>\n",
       "      <td>100000000</td>\n",
       "      <td>44881447.0</td>\n",
       "    </tr>\n",
       "    <tr>\n",
       "      <th>Subway Surfers</th>\n",
       "      <td>4.5</td>\n",
       "      <td>1000000000</td>\n",
       "      <td>27724094.0</td>\n",
       "    </tr>\n",
       "    <tr>\n",
       "      <th>Subway Surfers</th>\n",
       "      <td>4.5</td>\n",
       "      <td>1000000000</td>\n",
       "      <td>27724094.0</td>\n",
       "    </tr>\n",
       "    <tr>\n",
       "      <th>Subway Surfers</th>\n",
       "      <td>4.5</td>\n",
       "      <td>1000000000</td>\n",
       "      <td>27724094.0</td>\n",
       "    </tr>\n",
       "    <tr>\n",
       "      <th>Subway Surfers</th>\n",
       "      <td>4.5</td>\n",
       "      <td>1000000000</td>\n",
       "      <td>27724094.0</td>\n",
       "    </tr>\n",
       "    <tr>\n",
       "      <th>Subway Surfers</th>\n",
       "      <td>4.5</td>\n",
       "      <td>1000000000</td>\n",
       "      <td>27723193.0</td>\n",
       "    </tr>\n",
       "    <tr>\n",
       "      <th>Subway Surfers</th>\n",
       "      <td>4.5</td>\n",
       "      <td>1000000000</td>\n",
       "      <td>27723193.0</td>\n",
       "    </tr>\n",
       "  </tbody>\n",
       "</table>\n",
       "</div>"
      ],
      "text/plain": [
       "                Rating    Installs     Reviews\n",
       "App                                           \n",
       "Clash of Clans     4.6   100000000  44893888.0\n",
       "Clash of Clans     4.6   100000000  44893888.0\n",
       "Clash of Clans     4.6   100000000  44881447.0\n",
       "Clash of Clans     4.6   100000000  44881447.0\n",
       "Subway Surfers     4.5  1000000000  27724094.0\n",
       "Subway Surfers     4.5  1000000000  27724094.0\n",
       "Subway Surfers     4.5  1000000000  27724094.0\n",
       "Subway Surfers     4.5  1000000000  27724094.0\n",
       "Subway Surfers     4.5  1000000000  27723193.0\n",
       "Subway Surfers     4.5  1000000000  27723193.0"
      ]
     },
     "execution_count": 191,
     "metadata": {},
     "output_type": "execute_result"
    }
   ],
   "source": [
    "top_apps_data[['Rating','Installs','Reviews']].nlargest(n=10,columns=['Reviews'])"
   ]
  },
  {
   "cell_type": "code",
   "execution_count": null,
   "id": "81a341cc-3967-4abc-862a-da6a9a7bdecc",
   "metadata": {},
   "outputs": [],
   "source": []
  },
  {
   "cell_type": "markdown",
   "id": "f32f4125-d205-4651-9fec-373ef27a0621",
   "metadata": {},
   "source": [
    "### 3.\tWhich app has the highest number of reviews? Also, mention the number of reviews and category of the app"
   ]
  },
  {
   "cell_type": "code",
   "execution_count": 226,
   "id": "e4fcd013-2f05-445a-a609-b4b35c3654f8",
   "metadata": {},
   "outputs": [
    {
     "data": {
      "text/html": [
       "<div>\n",
       "<style scoped>\n",
       "    .dataframe tbody tr th:only-of-type {\n",
       "        vertical-align: middle;\n",
       "    }\n",
       "\n",
       "    .dataframe tbody tr th {\n",
       "        vertical-align: top;\n",
       "    }\n",
       "\n",
       "    .dataframe thead th {\n",
       "        text-align: right;\n",
       "    }\n",
       "</style>\n",
       "<table border=\"1\" class=\"dataframe\">\n",
       "  <thead>\n",
       "    <tr style=\"text-align: right;\">\n",
       "      <th></th>\n",
       "      <th>Reviews</th>\n",
       "      <th>Category</th>\n",
       "    </tr>\n",
       "    <tr>\n",
       "      <th>App</th>\n",
       "      <th></th>\n",
       "      <th></th>\n",
       "    </tr>\n",
       "  </thead>\n",
       "  <tbody>\n",
       "    <tr>\n",
       "      <th>Facebook</th>\n",
       "      <td>78158306.0</td>\n",
       "      <td>SOCIAL</td>\n",
       "    </tr>\n",
       "    <tr>\n",
       "      <th>Facebook</th>\n",
       "      <td>78128208.0</td>\n",
       "      <td>SOCIAL</td>\n",
       "    </tr>\n",
       "    <tr>\n",
       "      <th>WhatsApp Messenger</th>\n",
       "      <td>69109672.0</td>\n",
       "      <td>COMMUNICATION</td>\n",
       "    </tr>\n",
       "    <tr>\n",
       "      <th>Instagram</th>\n",
       "      <td>66577446.0</td>\n",
       "      <td>SOCIAL</td>\n",
       "    </tr>\n",
       "    <tr>\n",
       "      <th>Instagram</th>\n",
       "      <td>66509917.0</td>\n",
       "      <td>SOCIAL</td>\n",
       "    </tr>\n",
       "    <tr>\n",
       "      <th>Messenger – Text and Video Chat for Free</th>\n",
       "      <td>56646578.0</td>\n",
       "      <td>COMMUNICATION</td>\n",
       "    </tr>\n",
       "    <tr>\n",
       "      <th>Clash of Clans</th>\n",
       "      <td>44893888.0</td>\n",
       "      <td>GAME</td>\n",
       "    </tr>\n",
       "    <tr>\n",
       "      <th>Clash of Clans</th>\n",
       "      <td>44881447.0</td>\n",
       "      <td>FAMILY</td>\n",
       "    </tr>\n",
       "    <tr>\n",
       "      <th>Clean Master- Space Cleaner &amp; Antivirus</th>\n",
       "      <td>42916526.0</td>\n",
       "      <td>TOOLS</td>\n",
       "    </tr>\n",
       "    <tr>\n",
       "      <th>Subway Surfers</th>\n",
       "      <td>27724094.0</td>\n",
       "      <td>GAME</td>\n",
       "    </tr>\n",
       "  </tbody>\n",
       "</table>\n",
       "</div>"
      ],
      "text/plain": [
       "                                             Reviews       Category\n",
       "App                                                                \n",
       "Facebook                                  78158306.0         SOCIAL\n",
       "Facebook                                  78128208.0         SOCIAL\n",
       "WhatsApp Messenger                        69109672.0  COMMUNICATION\n",
       "Instagram                                 66577446.0         SOCIAL\n",
       "Instagram                                 66509917.0         SOCIAL\n",
       "Messenger – Text and Video Chat for Free  56646578.0  COMMUNICATION\n",
       "Clash of Clans                            44893888.0           GAME\n",
       "Clash of Clans                            44881447.0         FAMILY\n",
       "Clean Master- Space Cleaner & Antivirus   42916526.0          TOOLS\n",
       "Subway Surfers                            27724094.0           GAME"
      ]
     },
     "execution_count": 226,
     "metadata": {},
     "output_type": "execute_result"
    }
   ],
   "source": [
    "app[['Reviews','Category']].nlargest(n=10,columns=['Reviews'])"
   ]
  },
  {
   "cell_type": "markdown",
   "id": "44254c15-9903-42ca-8fb2-c26fea59afc9",
   "metadata": {},
   "source": []
  },
  {
   "cell_type": "markdown",
   "id": "c810dcf1-b8a2-425c-9b78-b78371d15947",
   "metadata": {},
   "source": [
    "**ANSWER :** Above is the apps with the highest number of reviews"
   ]
  },
  {
   "cell_type": "markdown",
   "id": "bb0e294b-9958-499a-b929-20a38da96e4e",
   "metadata": {},
   "source": [
    "### 4.\tWhat is the total amount of revenue generated by the google play store by hosting apps? (Whenever a user buys apps  from the google play store, the amount is considered in the revenue)"
   ]
  },
  {
   "cell_type": "code",
   "execution_count": 195,
   "id": "109b6040-dd8d-4f38-a831-dad2b73774f0",
   "metadata": {},
   "outputs": [
    {
     "data": {
      "text/plain": [
       "192010816.51"
      ]
     },
     "execution_count": 195,
     "metadata": {},
     "output_type": "execute_result"
    }
   ],
   "source": [
    "total_revenue= (newapp['Price']* newapp['Installs']).sum()\n",
    "total_revenue"
   ]
  },
  {
   "cell_type": "markdown",
   "id": "14c40708-c2a5-480c-b372-326b0fe6e254",
   "metadata": {},
   "source": [
    "**ANSWER :** The total Amount of revenue generated by google playstore is **$192010816.51**"
   ]
  },
  {
   "cell_type": "code",
   "execution_count": null,
   "id": "58e08db6-553f-413e-98de-8240fae8cd5d",
   "metadata": {},
   "outputs": [],
   "source": []
  },
  {
   "cell_type": "markdown",
   "id": "10e888f7-c9e0-4724-a76f-34ba793bd508",
   "metadata": {},
   "source": [
    "### 5.\tWhich Category of google play store apps has the highest number of installs? also, find out the total number of installs for that particular category."
   ]
  },
  {
   "cell_type": "code",
   "execution_count": 191,
   "id": "c751f992-b27e-43de-a7f8-519685f5cfbd",
   "metadata": {},
   "outputs": [
    {
     "data": {
      "text/plain": [
       "array([1.e+04, 5.e+05, 5.e+06, 5.e+07, 1.e+05, 5.e+04, 1.e+06, 1.e+07,\n",
       "       5.e+03, 1.e+08, 1.e+09, 1.e+03, 5.e+08, 5.e+01, 1.e+02, 5.e+02,\n",
       "       1.e+01, 1.e+00, 5.e+00, 0.e+00])"
      ]
     },
     "execution_count": 191,
     "metadata": {},
     "output_type": "execute_result"
    }
   ],
   "source": [
    "app['Installs'].unique()"
   ]
  },
  {
   "cell_type": "code",
   "execution_count": 193,
   "id": "882e1cb3-ae6e-42a0-ac73-983389230168",
   "metadata": {},
   "outputs": [],
   "source": [
    "app['Installs']=app['Installs'].astype('int32')"
   ]
  },
  {
   "cell_type": "code",
   "execution_count": 194,
   "id": "efb1579e-b89e-4727-be9e-f585e542ffa1",
   "metadata": {},
   "outputs": [
    {
     "data": {
      "text/plain": [
       "Category\n",
       "ART_AND_DESIGN           124333100\n",
       "AUTO_AND_VEHICLES         53130211\n",
       "BEAUTY                    27197050\n",
       "BOOKS_AND_REFERENCE     1911468576\n",
       "BUSINESS                 742414865\n",
       "COMICS                    56086150\n",
       "COMMUNICATION          16657276251\n",
       "DATING                   148776407\n",
       "EDUCATION                337452000\n",
       "ENTERTAINMENT           2116160000\n",
       "EVENTS                    15973161\n",
       "FAMILY                  9827161385\n",
       "FINANCE                  664048734\n",
       "FOOD_AND_DRINK           241798751\n",
       "GAME                   28002024415\n",
       "HEALTH_AND_FITNESS      1153972512\n",
       "HOUSE_AND_HOME            81712461\n",
       "LIBRARIES_AND_DEMO        61995910\n",
       "LIFESTYLE                532103539\n",
       "MAPS_AND_NAVIGATION      724281890\n",
       "MEDICAL                   30954717\n",
       "NEWS_AND_MAGAZINES      3325117760\n",
       "PARENTING                 31521110\n",
       "PERSONALIZATION         1923483782\n",
       "PHOTOGRAPHY             9370247655\n",
       "PRODUCTIVITY           10950091369\n",
       "SHOPPING                2191348785\n",
       "SOCIAL                 11107867902\n",
       "SPORTS                  1374974438\n",
       "TOOLS                  11452271905\n",
       "TRAVEL_AND_LOCAL        6049887146\n",
       "VIDEO_PLAYERS           6222002720\n",
       "WEATHER                  426100520\n",
       "Name: Installs, dtype: int64"
      ]
     },
     "execution_count": 194,
     "metadata": {},
     "output_type": "execute_result"
    }
   ],
   "source": [
    "app.groupby('Category')['Installs'].sum()"
   ]
  },
  {
   "cell_type": "code",
   "execution_count": null,
   "id": "cc87cef9-7d7f-4f05-bb7e-82035e3fe4a9",
   "metadata": {},
   "outputs": [],
   "source": []
  },
  {
   "cell_type": "code",
   "execution_count": 195,
   "id": "08b58d53-ef2b-4c9d-8257-ddc239b018e3",
   "metadata": {},
   "outputs": [],
   "source": [
    "no_cat_Installs=app.groupby('Category')['Installs'].sum()"
   ]
  },
  {
   "cell_type": "code",
   "execution_count": 196,
   "id": "40a1c45d-af70-452f-adb3-5a128dbcadaf",
   "metadata": {},
   "outputs": [
    {
     "data": {
      "text/plain": [
       "Category\n",
       "GAME    28002024415\n",
       "Name: Installs, dtype: int64"
      ]
     },
     "execution_count": 196,
     "metadata": {},
     "output_type": "execute_result"
    }
   ],
   "source": [
    "no_cat_Installs.nlargest(1)"
   ]
  },
  {
   "cell_type": "markdown",
   "id": "e8927b4a-2d12-4e5f-86c8-86f3473dad5b",
   "metadata": {},
   "source": [
    "**ANSWER:**  GAME Category total  sum of 28 billon installs has the highest number of installations"
   ]
  },
  {
   "cell_type": "markdown",
   "id": "9a1637a0-ddd7-4d66-bd6c-b34f973144ef",
   "metadata": {},
   "source": [
    "### 6.\tWhich Genre has the most number of published apps?"
   ]
  },
  {
   "cell_type": "code",
   "execution_count": 197,
   "id": "09478eed-1cf2-4da1-be72-1d69802b4a97",
   "metadata": {},
   "outputs": [
    {
     "data": {
      "text/plain": [
       "array(['Art & Design', 'Art & Design;Pretend Play',\n",
       "       'Art & Design;Creativity', 'Art & Design;Action & Adventure',\n",
       "       'Auto & Vehicles', 'Beauty', 'Books & Reference', 'Business',\n",
       "       'Comics', 'Comics;Creativity', 'Communication', 'Dating',\n",
       "       'Education;Education', 'Education', 'Education;Creativity',\n",
       "       'Education;Music & Video', 'Education;Action & Adventure',\n",
       "       'Education;Pretend Play', 'Education;Brain Games', 'Entertainment',\n",
       "       'Entertainment;Music & Video', 'Entertainment;Brain Games',\n",
       "       'Entertainment;Creativity', 'Events', 'Finance', 'Food & Drink',\n",
       "       'Health & Fitness', 'House & Home', 'Libraries & Demo',\n",
       "       'Lifestyle', 'Lifestyle;Pretend Play',\n",
       "       'Adventure;Action & Adventure', 'Arcade', 'Casual', 'Card',\n",
       "       'Casual;Pretend Play', 'Action', 'Strategy', 'Puzzle', 'Sports',\n",
       "       'Music', 'Word', 'Racing', 'Casual;Creativity',\n",
       "       'Casual;Action & Adventure', 'Adventure', 'Board', 'Trivia',\n",
       "       'Simulation', 'Role Playing', 'Simulation;Education',\n",
       "       'Action;Action & Adventure', 'Casual;Brain Games',\n",
       "       'Simulation;Action & Adventure', 'Educational;Creativity',\n",
       "       'Puzzle;Brain Games', 'Educational;Education', 'Card;Brain Games',\n",
       "       'Educational;Brain Games', 'Educational;Pretend Play',\n",
       "       'Entertainment;Education', 'Casual;Education',\n",
       "       'Music;Music & Video', 'Racing;Action & Adventure',\n",
       "       'Arcade;Pretend Play', 'Simulation;Pretend Play',\n",
       "       'Puzzle;Creativity', 'Sports;Action & Adventure',\n",
       "       'Educational;Action & Adventure', 'Arcade;Action & Adventure',\n",
       "       'Entertainment;Action & Adventure', 'Puzzle;Action & Adventure',\n",
       "       'Strategy;Action & Adventure', 'Music & Audio;Music & Video',\n",
       "       'Health & Fitness;Education', 'Adventure;Education',\n",
       "       'Board;Brain Games', 'Board;Action & Adventure',\n",
       "       'Board;Pretend Play', 'Entertainment;Pretend Play',\n",
       "       'Video Players & Editors;Creativity', 'Card;Action & Adventure',\n",
       "       'Medical', 'Social', 'Shopping', 'Photography', 'Travel & Local',\n",
       "       'Travel & Local;Action & Adventure', 'Tools', 'Tools;Education',\n",
       "       'Personalization', 'Productivity', 'Parenting',\n",
       "       'Parenting;Music & Video', 'Parenting;Education',\n",
       "       'Parenting;Brain Games', 'Weather', 'Video Players & Editors',\n",
       "       'Video Players & Editors;Music & Video', 'News & Magazines',\n",
       "       'Maps & Navigation', 'Health & Fitness;Action & Adventure',\n",
       "       'Role Playing;Pretend Play', 'Educational', 'Casino',\n",
       "       'Adventure;Brain Games', 'Role Playing;Action & Adventure',\n",
       "       'Trivia;Education', 'Lifestyle;Education',\n",
       "       'Books & Reference;Creativity', 'Books & Reference;Education',\n",
       "       'Puzzle;Education', 'Role Playing;Education',\n",
       "       'Role Playing;Brain Games', 'Strategy;Education',\n",
       "       'Racing;Pretend Play', 'Communication;Creativity',\n",
       "       'Strategy;Creativity'], dtype=object)"
      ]
     },
     "execution_count": 197,
     "metadata": {},
     "output_type": "execute_result"
    }
   ],
   "source": [
    "app.Genres.unique()"
   ]
  },
  {
   "cell_type": "code",
   "execution_count": 198,
   "id": "d85264d5-8315-4e8f-814e-bb23de291678",
   "metadata": {},
   "outputs": [],
   "source": [
    "genres=[]\n",
    "\n",
    "\n",
    "for genre in app['Genres']:\n",
    "    genred=genre.split(\";\")\n",
    "    genres.extend(genred)\n",
    "    "
   ]
  },
  {
   "cell_type": "code",
   "execution_count": 199,
   "id": "b5bcc503-9340-476d-8d52-fbcbd29676da",
   "metadata": {},
   "outputs": [],
   "source": [
    "genres=pd.DataFrame({'Genres':genres})"
   ]
  },
  {
   "cell_type": "code",
   "execution_count": 200,
   "id": "1fbf2f98-2910-4ee3-a3ea-b3768bc19055",
   "metadata": {},
   "outputs": [
    {
     "data": {
      "text/html": [
       "<div>\n",
       "<style scoped>\n",
       "    .dataframe tbody tr th:only-of-type {\n",
       "        vertical-align: middle;\n",
       "    }\n",
       "\n",
       "    .dataframe tbody tr th {\n",
       "        vertical-align: top;\n",
       "    }\n",
       "\n",
       "    .dataframe thead th {\n",
       "        text-align: right;\n",
       "    }\n",
       "</style>\n",
       "<table border=\"1\" class=\"dataframe\">\n",
       "  <thead>\n",
       "    <tr style=\"text-align: right;\">\n",
       "      <th></th>\n",
       "      <th>Genres</th>\n",
       "    </tr>\n",
       "  </thead>\n",
       "  <tbody>\n",
       "    <tr>\n",
       "      <th>0</th>\n",
       "      <td>Art &amp; Design</td>\n",
       "    </tr>\n",
       "    <tr>\n",
       "      <th>1</th>\n",
       "      <td>Art &amp; Design</td>\n",
       "    </tr>\n",
       "    <tr>\n",
       "      <th>2</th>\n",
       "      <td>Pretend Play</td>\n",
       "    </tr>\n",
       "    <tr>\n",
       "      <th>3</th>\n",
       "      <td>Art &amp; Design</td>\n",
       "    </tr>\n",
       "    <tr>\n",
       "      <th>4</th>\n",
       "      <td>Art &amp; Design</td>\n",
       "    </tr>\n",
       "    <tr>\n",
       "      <th>...</th>\n",
       "      <td>...</td>\n",
       "    </tr>\n",
       "    <tr>\n",
       "      <th>10346</th>\n",
       "      <td>Education</td>\n",
       "    </tr>\n",
       "    <tr>\n",
       "      <th>10347</th>\n",
       "      <td>Education</td>\n",
       "    </tr>\n",
       "    <tr>\n",
       "      <th>10348</th>\n",
       "      <td>Medical</td>\n",
       "    </tr>\n",
       "    <tr>\n",
       "      <th>10349</th>\n",
       "      <td>Books &amp; Reference</td>\n",
       "    </tr>\n",
       "    <tr>\n",
       "      <th>10350</th>\n",
       "      <td>Lifestyle</td>\n",
       "    </tr>\n",
       "  </tbody>\n",
       "</table>\n",
       "<p>10351 rows × 1 columns</p>\n",
       "</div>"
      ],
      "text/plain": [
       "                  Genres\n",
       "0           Art & Design\n",
       "1           Art & Design\n",
       "2           Pretend Play\n",
       "3           Art & Design\n",
       "4           Art & Design\n",
       "...                  ...\n",
       "10346          Education\n",
       "10347          Education\n",
       "10348            Medical\n",
       "10349  Books & Reference\n",
       "10350          Lifestyle\n",
       "\n",
       "[10351 rows x 1 columns]"
      ]
     },
     "execution_count": 200,
     "metadata": {},
     "output_type": "execute_result"
    }
   ],
   "source": [
    "genres"
   ]
  },
  {
   "cell_type": "code",
   "execution_count": 201,
   "id": "d668e39b-ff73-42fb-b17d-580a71787ecd",
   "metadata": {},
   "outputs": [
    {
     "data": {
      "text/plain": [
       "Genres\n",
       "Tools                      841\n",
       "Education                  682\n",
       "Entertainment              600\n",
       "Business                   398\n",
       "Productivity               392\n",
       "Personalization            383\n",
       "Lifestyle                  366\n",
       "Action                     360\n",
       "Finance                    354\n",
       "Medical                    348\n",
       "Communication              347\n",
       "Sports                     336\n",
       "Photography                312\n",
       "Health & Fitness           275\n",
       "Social                     267\n",
       "Casual                     256\n",
       "News & Magazines           249\n",
       "Books & Reference          231\n",
       "Arcade                     231\n",
       "Travel & Local             223\n",
       "Simulation                 214\n",
       "Shopping                   199\n",
       "Video Players & Editors    178\n",
       "Dating                     160\n",
       "Puzzle                     156\n",
       "Maps & Navigation          137\n",
       "Food & Drink               119\n",
       "Racing                     119\n",
       "Action & Adventure         118\n",
       "Role Playing               117\n",
       "Strategy                   106\n",
       "Educational                101\n",
       "Adventure                   91\n",
       "Auto & Vehicles             85\n",
       "Libraries & Demo            84\n",
       "Weather                     82\n",
       "Pretend Play                72\n",
       "House & Home                72\n",
       "Art & Design                68\n",
       "Brain Games                 68\n",
       "Events                      64\n",
       "Board                       63\n",
       "Parenting                   60\n",
       "Comics                      60\n",
       "Beauty                      53\n",
       "Card                        51\n",
       "Trivia                      39\n",
       "Casino                      39\n",
       "Music & Video               37\n",
       "Creativity                  37\n",
       "Word                        27\n",
       "Music                       23\n",
       "Music & Audio                1\n",
       "Name: count, dtype: int64"
      ]
     },
     "execution_count": 201,
     "metadata": {},
     "output_type": "execute_result"
    }
   ],
   "source": [
    "genres['Genres'].value_counts(ascending=False)"
   ]
  },
  {
   "cell_type": "markdown",
   "id": "359ccf4d-13ae-4140-a4c5-b89bafc1b76f",
   "metadata": {},
   "source": [
    "**NOTE:** The app with most number of published apps  is the Tools Genre with total  of 843 apps published"
   ]
  },
  {
   "cell_type": "code",
   "execution_count": null,
   "id": "f95e82f3-e5f5-4f8c-8f88-ee390fd5ac3c",
   "metadata": {},
   "outputs": [],
   "source": []
  },
  {
   "cell_type": "markdown",
   "id": "20c2d922-6c34-4800-a92c-a76f5385b1b8",
   "metadata": {},
   "source": [
    "### 7.\tProvide the list of all games ordered in such a way that the game that has the highest number of installs is displayed on the top\n",
    "(to avoid duplicate results use distinct)\n"
   ]
  },
  {
   "cell_type": "code",
   "execution_count": 202,
   "id": "52d847f4-95b2-4e1b-9392-de13cfe688b8",
   "metadata": {},
   "outputs": [
    {
     "data": {
      "text/plain": [
       "array(['ART_AND_DESIGN', 'AUTO_AND_VEHICLES', 'BEAUTY',\n",
       "       'BOOKS_AND_REFERENCE', 'BUSINESS', 'COMICS', 'COMMUNICATION',\n",
       "       'DATING', 'EDUCATION', 'ENTERTAINMENT', 'EVENTS', 'FINANCE',\n",
       "       'FOOD_AND_DRINK', 'HEALTH_AND_FITNESS', 'HOUSE_AND_HOME',\n",
       "       'LIBRARIES_AND_DEMO', 'LIFESTYLE', 'GAME', 'FAMILY', 'MEDICAL',\n",
       "       'SOCIAL', 'SHOPPING', 'PHOTOGRAPHY', 'SPORTS', 'TRAVEL_AND_LOCAL',\n",
       "       'TOOLS', 'PERSONALIZATION', 'PRODUCTIVITY', 'PARENTING', 'WEATHER',\n",
       "       'VIDEO_PLAYERS', 'NEWS_AND_MAGAZINES', 'MAPS_AND_NAVIGATION'],\n",
       "      dtype=object)"
      ]
     },
     "execution_count": 202,
     "metadata": {},
     "output_type": "execute_result"
    }
   ],
   "source": [
    "app['Category'].unique()"
   ]
  },
  {
   "cell_type": "code",
   "execution_count": 203,
   "id": "63a1a8e4-e941-4f6f-a5c6-534f7208b432",
   "metadata": {},
   "outputs": [],
   "source": [
    "allgames= app[app['Category']=='GAME']\n",
    "allgames.drop_duplicates(keep='first')\n",
    "games=allgames[['Category','Installs']].nlargest(n=10,columns=['Installs']).drop_duplicates()"
   ]
  },
  {
   "cell_type": "code",
   "execution_count": 204,
   "id": "1d0c80b3-4cb8-45df-81b2-3e711bef7e48",
   "metadata": {},
   "outputs": [
    {
     "data": {
      "text/html": [
       "<div>\n",
       "<style scoped>\n",
       "    .dataframe tbody tr th:only-of-type {\n",
       "        vertical-align: middle;\n",
       "    }\n",
       "\n",
       "    .dataframe tbody tr th {\n",
       "        vertical-align: top;\n",
       "    }\n",
       "\n",
       "    .dataframe thead th {\n",
       "        text-align: right;\n",
       "    }\n",
       "</style>\n",
       "<table border=\"1\" class=\"dataframe\">\n",
       "  <thead>\n",
       "    <tr style=\"text-align: right;\">\n",
       "      <th></th>\n",
       "      <th>Category</th>\n",
       "      <th>Installs</th>\n",
       "    </tr>\n",
       "    <tr>\n",
       "      <th>App</th>\n",
       "      <th></th>\n",
       "      <th></th>\n",
       "    </tr>\n",
       "  </thead>\n",
       "  <tbody>\n",
       "    <tr>\n",
       "      <th>Subway Surfers</th>\n",
       "      <td>GAME</td>\n",
       "      <td>1000000000</td>\n",
       "    </tr>\n",
       "    <tr>\n",
       "      <th>Candy Crush Saga</th>\n",
       "      <td>GAME</td>\n",
       "      <td>500000000</td>\n",
       "    </tr>\n",
       "  </tbody>\n",
       "</table>\n",
       "</div>"
      ],
      "text/plain": [
       "                 Category    Installs\n",
       "App                                  \n",
       "Subway Surfers       GAME  1000000000\n",
       "Candy Crush Saga     GAME   500000000"
      ]
     },
     "execution_count": 204,
     "metadata": {},
     "output_type": "execute_result"
    }
   ],
   "source": [
    "games"
   ]
  },
  {
   "cell_type": "code",
   "execution_count": null,
   "id": "913d8d3e-ce76-44e9-9380-61fbd9a38c20",
   "metadata": {},
   "outputs": [],
   "source": []
  },
  {
   "cell_type": "markdown",
   "id": "f03eefb9-04a7-4a56-bc64-615474c9aced",
   "metadata": {},
   "source": [
    "### 8.\tProvide the list of apps that can work on android version 4.0.3 and UP.\r\n",
    "\r\n"
   ]
  },
  {
   "cell_type": "code",
   "execution_count": 205,
   "id": "f06f0b29-b881-499c-a665-3933d60d0cbf",
   "metadata": {},
   "outputs": [
    {
     "data": {
      "text/html": [
       "<div>\n",
       "<style scoped>\n",
       "    .dataframe tbody tr th:only-of-type {\n",
       "        vertical-align: middle;\n",
       "    }\n",
       "\n",
       "    .dataframe tbody tr th {\n",
       "        vertical-align: top;\n",
       "    }\n",
       "\n",
       "    .dataframe thead th {\n",
       "        text-align: right;\n",
       "    }\n",
       "</style>\n",
       "<table border=\"1\" class=\"dataframe\">\n",
       "  <thead>\n",
       "    <tr style=\"text-align: right;\">\n",
       "      <th></th>\n",
       "      <th>Category</th>\n",
       "      <th>Rating</th>\n",
       "      <th>Reviews</th>\n",
       "      <th>Size</th>\n",
       "      <th>Installs</th>\n",
       "      <th>Type</th>\n",
       "      <th>Price</th>\n",
       "      <th>Content Rating</th>\n",
       "      <th>Genres</th>\n",
       "      <th>Last Updated</th>\n",
       "      <th>Current Ver</th>\n",
       "      <th>Android Ver</th>\n",
       "    </tr>\n",
       "    <tr>\n",
       "      <th>App</th>\n",
       "      <th></th>\n",
       "      <th></th>\n",
       "      <th></th>\n",
       "      <th></th>\n",
       "      <th></th>\n",
       "      <th></th>\n",
       "      <th></th>\n",
       "      <th></th>\n",
       "      <th></th>\n",
       "      <th></th>\n",
       "      <th></th>\n",
       "      <th></th>\n",
       "    </tr>\n",
       "  </thead>\n",
       "  <tbody>\n",
       "    <tr>\n",
       "      <th>Photo Editor &amp; Candy Camera &amp; Grid &amp; ScrapBook</th>\n",
       "      <td>ART_AND_DESIGN</td>\n",
       "      <td>4.1</td>\n",
       "      <td>159.0</td>\n",
       "      <td>19M</td>\n",
       "      <td>10000</td>\n",
       "      <td>Free</td>\n",
       "      <td>0.0</td>\n",
       "      <td>Everyone</td>\n",
       "      <td>Art &amp; Design</td>\n",
       "      <td>07-01-2018</td>\n",
       "      <td>1.0.0</td>\n",
       "      <td>4.0.3 and up</td>\n",
       "    </tr>\n",
       "    <tr>\n",
       "      <th>Coloring book moana</th>\n",
       "      <td>ART_AND_DESIGN</td>\n",
       "      <td>3.9</td>\n",
       "      <td>967.0</td>\n",
       "      <td>14M</td>\n",
       "      <td>500000</td>\n",
       "      <td>Free</td>\n",
       "      <td>0.0</td>\n",
       "      <td>Everyone</td>\n",
       "      <td>Art &amp; Design;Pretend Play</td>\n",
       "      <td>15-01-2018</td>\n",
       "      <td>2.0.0</td>\n",
       "      <td>4.0.3 and up</td>\n",
       "    </tr>\n",
       "    <tr>\n",
       "      <th>U Launcher Lite – FREE Live Cool Themes, Hide Apps</th>\n",
       "      <td>ART_AND_DESIGN</td>\n",
       "      <td>4.7</td>\n",
       "      <td>87510.0</td>\n",
       "      <td>8.7M</td>\n",
       "      <td>5000000</td>\n",
       "      <td>Free</td>\n",
       "      <td>0.0</td>\n",
       "      <td>Everyone</td>\n",
       "      <td>Art &amp; Design</td>\n",
       "      <td>01-08-2018</td>\n",
       "      <td>1.2.4</td>\n",
       "      <td>4.0.3 and up</td>\n",
       "    </tr>\n",
       "    <tr>\n",
       "      <th>Smoke Effect Photo Maker - Smoke Editor</th>\n",
       "      <td>ART_AND_DESIGN</td>\n",
       "      <td>3.8</td>\n",
       "      <td>178.0</td>\n",
       "      <td>19M</td>\n",
       "      <td>50000</td>\n",
       "      <td>Free</td>\n",
       "      <td>0.0</td>\n",
       "      <td>Everyone</td>\n",
       "      <td>Art &amp; Design</td>\n",
       "      <td>26-04-2018</td>\n",
       "      <td>1.1</td>\n",
       "      <td>4.0.3 and up</td>\n",
       "    </tr>\n",
       "    <tr>\n",
       "      <th>Kids Paint Free - Drawing Fun</th>\n",
       "      <td>ART_AND_DESIGN</td>\n",
       "      <td>4.7</td>\n",
       "      <td>121.0</td>\n",
       "      <td>3.1M</td>\n",
       "      <td>10000</td>\n",
       "      <td>Free</td>\n",
       "      <td>0.0</td>\n",
       "      <td>Everyone</td>\n",
       "      <td>Art &amp; Design;Creativity</td>\n",
       "      <td>03-07-2018</td>\n",
       "      <td>2.8</td>\n",
       "      <td>4.0.3 and up</td>\n",
       "    </tr>\n",
       "    <tr>\n",
       "      <th>...</th>\n",
       "      <td>...</td>\n",
       "      <td>...</td>\n",
       "      <td>...</td>\n",
       "      <td>...</td>\n",
       "      <td>...</td>\n",
       "      <td>...</td>\n",
       "      <td>...</td>\n",
       "      <td>...</td>\n",
       "      <td>...</td>\n",
       "      <td>...</td>\n",
       "      <td>...</td>\n",
       "      <td>...</td>\n",
       "    </tr>\n",
       "    <tr>\n",
       "      <th>Fr Daoud Lamei</th>\n",
       "      <td>SOCIAL</td>\n",
       "      <td>4.7</td>\n",
       "      <td>2036.0</td>\n",
       "      <td>6.8M</td>\n",
       "      <td>100000</td>\n",
       "      <td>Free</td>\n",
       "      <td>0.0</td>\n",
       "      <td>Everyone</td>\n",
       "      <td>Social</td>\n",
       "      <td>20-05-2018</td>\n",
       "      <td>1.72</td>\n",
       "      <td>4.0.3 and up</td>\n",
       "    </tr>\n",
       "    <tr>\n",
       "      <th>Fr Agnel Pune</th>\n",
       "      <td>FAMILY</td>\n",
       "      <td>4.1</td>\n",
       "      <td>80.0</td>\n",
       "      <td>13M</td>\n",
       "      <td>1000</td>\n",
       "      <td>Free</td>\n",
       "      <td>0.0</td>\n",
       "      <td>Everyone</td>\n",
       "      <td>Education</td>\n",
       "      <td>13-06-2018</td>\n",
       "      <td>2.0.20</td>\n",
       "      <td>4.0.3 and up</td>\n",
       "    </tr>\n",
       "    <tr>\n",
       "      <th>Poop FR</th>\n",
       "      <td>FAMILY</td>\n",
       "      <td>0.0</td>\n",
       "      <td>6.0</td>\n",
       "      <td>2.5M</td>\n",
       "      <td>50</td>\n",
       "      <td>Free</td>\n",
       "      <td>0.0</td>\n",
       "      <td>Everyone</td>\n",
       "      <td>Entertainment</td>\n",
       "      <td>29-05-2018</td>\n",
       "      <td>1</td>\n",
       "      <td>4.0.3 and up</td>\n",
       "    </tr>\n",
       "    <tr>\n",
       "      <th>List iptv FR</th>\n",
       "      <td>VIDEO_PLAYERS</td>\n",
       "      <td>0.0</td>\n",
       "      <td>1.0</td>\n",
       "      <td>2.9M</td>\n",
       "      <td>100</td>\n",
       "      <td>Free</td>\n",
       "      <td>0.0</td>\n",
       "      <td>Everyone</td>\n",
       "      <td>Video Players &amp; Editors</td>\n",
       "      <td>22-04-2018</td>\n",
       "      <td>1</td>\n",
       "      <td>4.0.3 and up</td>\n",
       "    </tr>\n",
       "    <tr>\n",
       "      <th>Fr Agnel Ambarnath</th>\n",
       "      <td>FAMILY</td>\n",
       "      <td>4.2</td>\n",
       "      <td>117.0</td>\n",
       "      <td>13M</td>\n",
       "      <td>5000</td>\n",
       "      <td>Free</td>\n",
       "      <td>0.0</td>\n",
       "      <td>Everyone</td>\n",
       "      <td>Education</td>\n",
       "      <td>13-06-2018</td>\n",
       "      <td>2.0.20</td>\n",
       "      <td>4.0.3 and up</td>\n",
       "    </tr>\n",
       "  </tbody>\n",
       "</table>\n",
       "<p>1401 rows × 12 columns</p>\n",
       "</div>"
      ],
      "text/plain": [
       "                                                          Category  Rating  \\\n",
       "App                                                                          \n",
       "Photo Editor & Candy Camera & Grid & ScrapBook      ART_AND_DESIGN     4.1   \n",
       "Coloring book moana                                 ART_AND_DESIGN     3.9   \n",
       "U Launcher Lite – FREE Live Cool Themes, Hide Apps  ART_AND_DESIGN     4.7   \n",
       "Smoke Effect Photo Maker - Smoke Editor             ART_AND_DESIGN     3.8   \n",
       "Kids Paint Free - Drawing Fun                       ART_AND_DESIGN     4.7   \n",
       "...                                                            ...     ...   \n",
       "Fr Daoud Lamei                                              SOCIAL     4.7   \n",
       "Fr Agnel Pune                                               FAMILY     4.1   \n",
       "Poop FR                                                     FAMILY     0.0   \n",
       "List iptv FR                                         VIDEO_PLAYERS     0.0   \n",
       "Fr Agnel Ambarnath                                          FAMILY     4.2   \n",
       "\n",
       "                                                    Reviews  Size  Installs  \\\n",
       "App                                                                           \n",
       "Photo Editor & Candy Camera & Grid & ScrapBook        159.0   19M     10000   \n",
       "Coloring book moana                                   967.0   14M    500000   \n",
       "U Launcher Lite – FREE Live Cool Themes, Hide Apps  87510.0  8.7M   5000000   \n",
       "Smoke Effect Photo Maker - Smoke Editor               178.0   19M     50000   \n",
       "Kids Paint Free - Drawing Fun                         121.0  3.1M     10000   \n",
       "...                                                     ...   ...       ...   \n",
       "Fr Daoud Lamei                                       2036.0  6.8M    100000   \n",
       "Fr Agnel Pune                                          80.0   13M      1000   \n",
       "Poop FR                                                 6.0  2.5M        50   \n",
       "List iptv FR                                            1.0  2.9M       100   \n",
       "Fr Agnel Ambarnath                                    117.0   13M      5000   \n",
       "\n",
       "                                                    Type  Price  \\\n",
       "App                                                               \n",
       "Photo Editor & Candy Camera & Grid & ScrapBook      Free    0.0   \n",
       "Coloring book moana                                 Free    0.0   \n",
       "U Launcher Lite – FREE Live Cool Themes, Hide Apps  Free    0.0   \n",
       "Smoke Effect Photo Maker - Smoke Editor             Free    0.0   \n",
       "Kids Paint Free - Drawing Fun                       Free    0.0   \n",
       "...                                                  ...    ...   \n",
       "Fr Daoud Lamei                                      Free    0.0   \n",
       "Fr Agnel Pune                                       Free    0.0   \n",
       "Poop FR                                             Free    0.0   \n",
       "List iptv FR                                        Free    0.0   \n",
       "Fr Agnel Ambarnath                                  Free    0.0   \n",
       "\n",
       "                                                   Content Rating  \\\n",
       "App                                                                 \n",
       "Photo Editor & Candy Camera & Grid & ScrapBook           Everyone   \n",
       "Coloring book moana                                      Everyone   \n",
       "U Launcher Lite – FREE Live Cool Themes, Hide Apps       Everyone   \n",
       "Smoke Effect Photo Maker - Smoke Editor                  Everyone   \n",
       "Kids Paint Free - Drawing Fun                            Everyone   \n",
       "...                                                           ...   \n",
       "Fr Daoud Lamei                                           Everyone   \n",
       "Fr Agnel Pune                                            Everyone   \n",
       "Poop FR                                                  Everyone   \n",
       "List iptv FR                                             Everyone   \n",
       "Fr Agnel Ambarnath                                       Everyone   \n",
       "\n",
       "                                                                       Genres  \\\n",
       "App                                                                             \n",
       "Photo Editor & Candy Camera & Grid & ScrapBook                   Art & Design   \n",
       "Coloring book moana                                 Art & Design;Pretend Play   \n",
       "U Launcher Lite – FREE Live Cool Themes, Hide Apps               Art & Design   \n",
       "Smoke Effect Photo Maker - Smoke Editor                          Art & Design   \n",
       "Kids Paint Free - Drawing Fun                         Art & Design;Creativity   \n",
       "...                                                                       ...   \n",
       "Fr Daoud Lamei                                                         Social   \n",
       "Fr Agnel Pune                                                       Education   \n",
       "Poop FR                                                         Entertainment   \n",
       "List iptv FR                                          Video Players & Editors   \n",
       "Fr Agnel Ambarnath                                                  Education   \n",
       "\n",
       "                                                   Last Updated Current Ver  \\\n",
       "App                                                                           \n",
       "Photo Editor & Candy Camera & Grid & ScrapBook       07-01-2018       1.0.0   \n",
       "Coloring book moana                                  15-01-2018       2.0.0   \n",
       "U Launcher Lite – FREE Live Cool Themes, Hide Apps   01-08-2018       1.2.4   \n",
       "Smoke Effect Photo Maker - Smoke Editor              26-04-2018         1.1   \n",
       "Kids Paint Free - Drawing Fun                        03-07-2018         2.8   \n",
       "...                                                         ...         ...   \n",
       "Fr Daoud Lamei                                       20-05-2018        1.72   \n",
       "Fr Agnel Pune                                        13-06-2018      2.0.20   \n",
       "Poop FR                                              29-05-2018           1   \n",
       "List iptv FR                                         22-04-2018           1   \n",
       "Fr Agnel Ambarnath                                   13-06-2018      2.0.20   \n",
       "\n",
       "                                                     Android Ver  \n",
       "App                                                               \n",
       "Photo Editor & Candy Camera & Grid & ScrapBook      4.0.3 and up  \n",
       "Coloring book moana                                 4.0.3 and up  \n",
       "U Launcher Lite – FREE Live Cool Themes, Hide Apps  4.0.3 and up  \n",
       "Smoke Effect Photo Maker - Smoke Editor             4.0.3 and up  \n",
       "Kids Paint Free - Drawing Fun                       4.0.3 and up  \n",
       "...                                                          ...  \n",
       "Fr Daoud Lamei                                      4.0.3 and up  \n",
       "Fr Agnel Pune                                       4.0.3 and up  \n",
       "Poop FR                                             4.0.3 and up  \n",
       "List iptv FR                                        4.0.3 and up  \n",
       "Fr Agnel Ambarnath                                  4.0.3 and up  \n",
       "\n",
       "[1401 rows x 12 columns]"
      ]
     },
     "execution_count": 205,
     "metadata": {},
     "output_type": "execute_result"
    }
   ],
   "source": [
    "app[app['Android Ver']=='4.0.3 and up']"
   ]
  },
  {
   "cell_type": "code",
   "execution_count": null,
   "id": "567b1675-2c79-4fed-8156-29036274970b",
   "metadata": {},
   "outputs": [],
   "source": []
  },
  {
   "cell_type": "markdown",
   "id": "69408445-599a-4427-bda3-e4ad747bea78",
   "metadata": {},
   "source": [
    "### 9.\tHow many apps from the given data set are free? Also, provide the number of paid apps."
   ]
  },
  {
   "cell_type": "code",
   "execution_count": 206,
   "id": "c754724a-c64a-40e5-bbce-3087550b1f60",
   "metadata": {},
   "outputs": [
    {
     "data": {
      "text/plain": [
       "(9190, 12)"
      ]
     },
     "execution_count": 206,
     "metadata": {},
     "output_type": "execute_result"
    }
   ],
   "source": [
    "app[app['Type']=='Free'].shape"
   ]
  },
  {
   "cell_type": "markdown",
   "id": "77beb521-2661-4a65-9ed0-571977e9e877",
   "metadata": {},
   "source": [
    "**ANSWER** Number Of free apps are:9196"
   ]
  },
  {
   "cell_type": "code",
   "execution_count": 207,
   "id": "4f77f442-565a-42f8-8f8e-2712da622695",
   "metadata": {},
   "outputs": [
    {
     "data": {
      "text/plain": [
       "(728, 12)"
      ]
     },
     "execution_count": 207,
     "metadata": {},
     "output_type": "execute_result"
    }
   ],
   "source": [
    "app[app['Type']=='Paid'].shape"
   ]
  },
  {
   "cell_type": "markdown",
   "id": "953209ed-9eb1-4ea6-a3fc-ae590531cad6",
   "metadata": {},
   "source": [
    "**ANSWER** Number Of Paid apps are:730"
   ]
  },
  {
   "cell_type": "code",
   "execution_count": null,
   "id": "f396b0e7-d316-4740-a352-92ae3600a028",
   "metadata": {},
   "outputs": [],
   "source": []
  },
  {
   "cell_type": "markdown",
   "id": "4fc10db6-93e9-4849-83d6-8ff382a219fd",
   "metadata": {},
   "source": [
    "\n",
    "### 10.\tWhich is the best dating app? (Best dating app is the one having the highest number of Reviews)\n"
   ]
  },
  {
   "cell_type": "code",
   "execution_count": 208,
   "id": "b9505389-dab5-41bb-9e53-9e2a044d891c",
   "metadata": {},
   "outputs": [
    {
     "data": {
      "text/html": [
       "<div>\n",
       "<style scoped>\n",
       "    .dataframe tbody tr th:only-of-type {\n",
       "        vertical-align: middle;\n",
       "    }\n",
       "\n",
       "    .dataframe tbody tr th {\n",
       "        vertical-align: top;\n",
       "    }\n",
       "\n",
       "    .dataframe thead th {\n",
       "        text-align: right;\n",
       "    }\n",
       "</style>\n",
       "<table border=\"1\" class=\"dataframe\">\n",
       "  <thead>\n",
       "    <tr style=\"text-align: right;\">\n",
       "      <th></th>\n",
       "      <th>Category</th>\n",
       "      <th>Rating</th>\n",
       "      <th>Reviews</th>\n",
       "      <th>Size</th>\n",
       "      <th>Installs</th>\n",
       "      <th>Type</th>\n",
       "      <th>Price</th>\n",
       "      <th>Content Rating</th>\n",
       "      <th>Genres</th>\n",
       "      <th>Last Updated</th>\n",
       "      <th>Current Ver</th>\n",
       "      <th>Android Ver</th>\n",
       "    </tr>\n",
       "    <tr>\n",
       "      <th>App</th>\n",
       "      <th></th>\n",
       "      <th></th>\n",
       "      <th></th>\n",
       "      <th></th>\n",
       "      <th></th>\n",
       "      <th></th>\n",
       "      <th></th>\n",
       "      <th></th>\n",
       "      <th></th>\n",
       "      <th></th>\n",
       "      <th></th>\n",
       "      <th></th>\n",
       "    </tr>\n",
       "  </thead>\n",
       "  <tbody>\n",
       "    <tr>\n",
       "      <th>Photo Editor &amp; Candy Camera &amp; Grid &amp; ScrapBook</th>\n",
       "      <td>ART_AND_DESIGN</td>\n",
       "      <td>4.1</td>\n",
       "      <td>159.0</td>\n",
       "      <td>19M</td>\n",
       "      <td>10000</td>\n",
       "      <td>Free</td>\n",
       "      <td>0.0</td>\n",
       "      <td>Everyone</td>\n",
       "      <td>Art &amp; Design</td>\n",
       "      <td>07-01-2018</td>\n",
       "      <td>1.0.0</td>\n",
       "      <td>4.0.3 and up</td>\n",
       "    </tr>\n",
       "    <tr>\n",
       "      <th>Coloring book moana</th>\n",
       "      <td>ART_AND_DESIGN</td>\n",
       "      <td>3.9</td>\n",
       "      <td>967.0</td>\n",
       "      <td>14M</td>\n",
       "      <td>500000</td>\n",
       "      <td>Free</td>\n",
       "      <td>0.0</td>\n",
       "      <td>Everyone</td>\n",
       "      <td>Art &amp; Design;Pretend Play</td>\n",
       "      <td>15-01-2018</td>\n",
       "      <td>2.0.0</td>\n",
       "      <td>4.0.3 and up</td>\n",
       "    </tr>\n",
       "    <tr>\n",
       "      <th>U Launcher Lite – FREE Live Cool Themes, Hide Apps</th>\n",
       "      <td>ART_AND_DESIGN</td>\n",
       "      <td>4.7</td>\n",
       "      <td>87510.0</td>\n",
       "      <td>8.7M</td>\n",
       "      <td>5000000</td>\n",
       "      <td>Free</td>\n",
       "      <td>0.0</td>\n",
       "      <td>Everyone</td>\n",
       "      <td>Art &amp; Design</td>\n",
       "      <td>01-08-2018</td>\n",
       "      <td>1.2.4</td>\n",
       "      <td>4.0.3 and up</td>\n",
       "    </tr>\n",
       "    <tr>\n",
       "      <th>Sketch - Draw &amp; Paint</th>\n",
       "      <td>ART_AND_DESIGN</td>\n",
       "      <td>4.5</td>\n",
       "      <td>215644.0</td>\n",
       "      <td>25M</td>\n",
       "      <td>50000000</td>\n",
       "      <td>Free</td>\n",
       "      <td>0.0</td>\n",
       "      <td>Teen</td>\n",
       "      <td>Art &amp; Design</td>\n",
       "      <td>08-06-2018</td>\n",
       "      <td>Varies with device</td>\n",
       "      <td>4.2 and up</td>\n",
       "    </tr>\n",
       "    <tr>\n",
       "      <th>Pixel Draw - Number Art Coloring Book</th>\n",
       "      <td>ART_AND_DESIGN</td>\n",
       "      <td>4.3</td>\n",
       "      <td>967.0</td>\n",
       "      <td>2.8M</td>\n",
       "      <td>100000</td>\n",
       "      <td>Free</td>\n",
       "      <td>0.0</td>\n",
       "      <td>Everyone</td>\n",
       "      <td>Art &amp; Design;Creativity</td>\n",
       "      <td>20-06-2018</td>\n",
       "      <td>1.1</td>\n",
       "      <td>4.4 and up</td>\n",
       "    </tr>\n",
       "  </tbody>\n",
       "</table>\n",
       "</div>"
      ],
      "text/plain": [
       "                                                          Category  Rating  \\\n",
       "App                                                                          \n",
       "Photo Editor & Candy Camera & Grid & ScrapBook      ART_AND_DESIGN     4.1   \n",
       "Coloring book moana                                 ART_AND_DESIGN     3.9   \n",
       "U Launcher Lite – FREE Live Cool Themes, Hide Apps  ART_AND_DESIGN     4.7   \n",
       "Sketch - Draw & Paint                               ART_AND_DESIGN     4.5   \n",
       "Pixel Draw - Number Art Coloring Book               ART_AND_DESIGN     4.3   \n",
       "\n",
       "                                                     Reviews  Size  Installs  \\\n",
       "App                                                                            \n",
       "Photo Editor & Candy Camera & Grid & ScrapBook         159.0   19M     10000   \n",
       "Coloring book moana                                    967.0   14M    500000   \n",
       "U Launcher Lite – FREE Live Cool Themes, Hide Apps   87510.0  8.7M   5000000   \n",
       "Sketch - Draw & Paint                               215644.0   25M  50000000   \n",
       "Pixel Draw - Number Art Coloring Book                  967.0  2.8M    100000   \n",
       "\n",
       "                                                    Type  Price  \\\n",
       "App                                                               \n",
       "Photo Editor & Candy Camera & Grid & ScrapBook      Free    0.0   \n",
       "Coloring book moana                                 Free    0.0   \n",
       "U Launcher Lite – FREE Live Cool Themes, Hide Apps  Free    0.0   \n",
       "Sketch - Draw & Paint                               Free    0.0   \n",
       "Pixel Draw - Number Art Coloring Book               Free    0.0   \n",
       "\n",
       "                                                   Content Rating  \\\n",
       "App                                                                 \n",
       "Photo Editor & Candy Camera & Grid & ScrapBook           Everyone   \n",
       "Coloring book moana                                      Everyone   \n",
       "U Launcher Lite – FREE Live Cool Themes, Hide Apps       Everyone   \n",
       "Sketch - Draw & Paint                                        Teen   \n",
       "Pixel Draw - Number Art Coloring Book                    Everyone   \n",
       "\n",
       "                                                                       Genres  \\\n",
       "App                                                                             \n",
       "Photo Editor & Candy Camera & Grid & ScrapBook                   Art & Design   \n",
       "Coloring book moana                                 Art & Design;Pretend Play   \n",
       "U Launcher Lite – FREE Live Cool Themes, Hide Apps               Art & Design   \n",
       "Sketch - Draw & Paint                                            Art & Design   \n",
       "Pixel Draw - Number Art Coloring Book                 Art & Design;Creativity   \n",
       "\n",
       "                                                   Last Updated  \\\n",
       "App                                                               \n",
       "Photo Editor & Candy Camera & Grid & ScrapBook       07-01-2018   \n",
       "Coloring book moana                                  15-01-2018   \n",
       "U Launcher Lite – FREE Live Cool Themes, Hide Apps   01-08-2018   \n",
       "Sketch - Draw & Paint                                08-06-2018   \n",
       "Pixel Draw - Number Art Coloring Book                20-06-2018   \n",
       "\n",
       "                                                           Current Ver  \\\n",
       "App                                                                      \n",
       "Photo Editor & Candy Camera & Grid & ScrapBook                   1.0.0   \n",
       "Coloring book moana                                              2.0.0   \n",
       "U Launcher Lite – FREE Live Cool Themes, Hide Apps               1.2.4   \n",
       "Sketch - Draw & Paint                               Varies with device   \n",
       "Pixel Draw - Number Art Coloring Book                              1.1   \n",
       "\n",
       "                                                     Android Ver  \n",
       "App                                                               \n",
       "Photo Editor & Candy Camera & Grid & ScrapBook      4.0.3 and up  \n",
       "Coloring book moana                                 4.0.3 and up  \n",
       "U Launcher Lite – FREE Live Cool Themes, Hide Apps  4.0.3 and up  \n",
       "Sketch - Draw & Paint                                 4.2 and up  \n",
       "Pixel Draw - Number Art Coloring Book                 4.4 and up  "
      ]
     },
     "execution_count": 208,
     "metadata": {},
     "output_type": "execute_result"
    }
   ],
   "source": [
    "app.head()"
   ]
  },
  {
   "cell_type": "code",
   "execution_count": 209,
   "id": "f7c92dab-ed14-4687-91ef-5b11d9eae387",
   "metadata": {},
   "outputs": [],
   "source": [
    "dateapps=app[app['Category']=='DATING']"
   ]
  },
  {
   "cell_type": "code",
   "execution_count": 210,
   "id": "0a7559dc-dfee-4c3c-8376-9abe68cfac45",
   "metadata": {},
   "outputs": [
    {
     "data": {
      "text/html": [
       "<div>\n",
       "<style scoped>\n",
       "    .dataframe tbody tr th:only-of-type {\n",
       "        vertical-align: middle;\n",
       "    }\n",
       "\n",
       "    .dataframe tbody tr th {\n",
       "        vertical-align: top;\n",
       "    }\n",
       "\n",
       "    .dataframe thead th {\n",
       "        text-align: right;\n",
       "    }\n",
       "</style>\n",
       "<table border=\"1\" class=\"dataframe\">\n",
       "  <thead>\n",
       "    <tr style=\"text-align: right;\">\n",
       "      <th></th>\n",
       "      <th>Reviews</th>\n",
       "      <th>Category</th>\n",
       "    </tr>\n",
       "    <tr>\n",
       "      <th>App</th>\n",
       "      <th></th>\n",
       "      <th></th>\n",
       "    </tr>\n",
       "  </thead>\n",
       "  <tbody>\n",
       "    <tr>\n",
       "      <th>Zoosk Dating App: Meet Singles</th>\n",
       "      <td>516917.0</td>\n",
       "      <td>DATING</td>\n",
       "    </tr>\n",
       "  </tbody>\n",
       "</table>\n",
       "</div>"
      ],
      "text/plain": [
       "                                 Reviews Category\n",
       "App                                              \n",
       "Zoosk Dating App: Meet Singles  516917.0   DATING"
      ]
     },
     "execution_count": 210,
     "metadata": {},
     "output_type": "execute_result"
    }
   ],
   "source": [
    "dateapps[['Reviews','Category']].nlargest(n=1,columns=['Reviews'])"
   ]
  },
  {
   "cell_type": "markdown",
   "id": "ce57c3df-5840-4c01-9de8-4cf6d3738bfb",
   "metadata": {},
   "source": [
    "**ANSWER:** The Best  Dating site with the highest review of 516917 is  Zoosk Dating App"
   ]
  },
  {
   "cell_type": "code",
   "execution_count": null,
   "id": "d9517e1b-f7e6-4196-a701-10b85c6700f2",
   "metadata": {},
   "outputs": [],
   "source": []
  },
  {
   "cell_type": "markdown",
   "id": "07f1cc10-8025-4e9b-9afe-f2ee3a7855e0",
   "metadata": {},
   "source": [
    "### 11.\tGet the number of reviews having positive sentiment and number of reviews having negative sentiment for the app **English with Lingualeo** and compare them."
   ]
  },
  {
   "cell_type": "code",
   "execution_count": 211,
   "id": "9b2eedae-abfb-4787-8eb6-1f2ef62234da",
   "metadata": {},
   "outputs": [],
   "source": [
    "nr=reviews.reset_index()"
   ]
  },
  {
   "cell_type": "code",
   "execution_count": 214,
   "id": "a2115083-4df9-4e4f-8b1e-f6edfe6ea6ab",
   "metadata": {},
   "outputs": [
    {
     "data": {
      "text/html": [
       "<div>\n",
       "<style scoped>\n",
       "    .dataframe tbody tr th:only-of-type {\n",
       "        vertical-align: middle;\n",
       "    }\n",
       "\n",
       "    .dataframe tbody tr th {\n",
       "        vertical-align: top;\n",
       "    }\n",
       "\n",
       "    .dataframe thead th {\n",
       "        text-align: right;\n",
       "    }\n",
       "</style>\n",
       "<table border=\"1\" class=\"dataframe\">\n",
       "  <thead>\n",
       "    <tr style=\"text-align: right;\">\n",
       "      <th></th>\n",
       "      <th>App</th>\n",
       "      <th>Translated_Review</th>\n",
       "      <th>Sentiment</th>\n",
       "      <th>Sentiment_Polarity</th>\n",
       "      <th>Sentiment_Subjectivity</th>\n",
       "    </tr>\n",
       "  </thead>\n",
       "  <tbody>\n",
       "    <tr>\n",
       "      <th>0</th>\n",
       "      <td>104 找工作 - 找工作 找打工 找兼職 履歷健檢 履歷診療室</td>\n",
       "      <td>Almost mobile phone</td>\n",
       "      <td>Neutral</td>\n",
       "      <td>0.000000</td>\n",
       "      <td>0.000000</td>\n",
       "    </tr>\n",
       "    <tr>\n",
       "      <th>1</th>\n",
       "      <td>104 找工作 - 找工作 找打工 找兼職 履歷健檢 履歷診療室</td>\n",
       "      <td>Very effective, efficient convenient find avai...</td>\n",
       "      <td>Positive</td>\n",
       "      <td>0.626667</td>\n",
       "      <td>0.666667</td>\n",
       "    </tr>\n",
       "    <tr>\n",
       "      <th>2</th>\n",
       "      <td>104 找工作 - 找工作 找打工 找兼職 履歷健檢 履歷診療室</td>\n",
       "      <td>Easy intuitive</td>\n",
       "      <td>Positive</td>\n",
       "      <td>0.433333</td>\n",
       "      <td>0.833333</td>\n",
       "    </tr>\n",
       "    <tr>\n",
       "      <th>3</th>\n",
       "      <td>104 找工作 - 找工作 找打工 找兼職 履歷健檢 履歷診療室</td>\n",
       "      <td>good searching job internship</td>\n",
       "      <td>Positive</td>\n",
       "      <td>0.700000</td>\n",
       "      <td>0.600000</td>\n",
       "    </tr>\n",
       "    <tr>\n",
       "      <th>4</th>\n",
       "      <td>104 找工作 - 找工作 找打工 找兼職 履歷健檢 履歷診療室</td>\n",
       "      <td>Not bad, price little bit expensive</td>\n",
       "      <td>Negative</td>\n",
       "      <td>-0.112500</td>\n",
       "      <td>0.622222</td>\n",
       "    </tr>\n",
       "  </tbody>\n",
       "</table>\n",
       "</div>"
      ],
      "text/plain": [
       "                                App  \\\n",
       "0  104 找工作 - 找工作 找打工 找兼職 履歷健檢 履歷診療室   \n",
       "1  104 找工作 - 找工作 找打工 找兼職 履歷健檢 履歷診療室   \n",
       "2  104 找工作 - 找工作 找打工 找兼職 履歷健檢 履歷診療室   \n",
       "3  104 找工作 - 找工作 找打工 找兼職 履歷健檢 履歷診療室   \n",
       "4  104 找工作 - 找工作 找打工 找兼職 履歷健檢 履歷診療室   \n",
       "\n",
       "                                   Translated_Review Sentiment  \\\n",
       "0                                Almost mobile phone   Neutral   \n",
       "1  Very effective, efficient convenient find avai...  Positive   \n",
       "2                                     Easy intuitive  Positive   \n",
       "3                      good searching job internship  Positive   \n",
       "4                Not bad, price little bit expensive  Negative   \n",
       "\n",
       "   Sentiment_Polarity  Sentiment_Subjectivity  \n",
       "0            0.000000                0.000000  \n",
       "1            0.626667                0.666667  \n",
       "2            0.433333                0.833333  \n",
       "3            0.700000                0.600000  \n",
       "4           -0.112500                0.622222  "
      ]
     },
     "execution_count": 214,
     "metadata": {},
     "output_type": "execute_result"
    }
   ],
   "source": [
    "(nr.head())"
   ]
  },
  {
   "cell_type": "code",
   "execution_count": 215,
   "id": "2e99d7d0-2337-46ff-ab7f-790ea2588ec3",
   "metadata": {},
   "outputs": [],
   "source": [
    "ewl_positive=nr.loc[(nr['App']==\"English with Lingualeo\") &\n",
    "      (nr['Sentiment']=='Positive')]\n",
    "\n",
    "\n",
    "ewl_negative=nr.loc[(nr['App']==\"English with Lingualeo\") &\n",
    "      (nr['Sentiment']=='Negative')]"
   ]
  },
  {
   "cell_type": "code",
   "execution_count": 216,
   "id": "4f46b5bc-0d68-47ed-8e9e-eb145df2fd97",
   "metadata": {},
   "outputs": [
    {
     "data": {
      "text/plain": [
       "4"
      ]
     },
     "execution_count": 216,
     "metadata": {},
     "output_type": "execute_result"
    }
   ],
   "source": [
    "ewl_positive.shape[0]"
   ]
  },
  {
   "cell_type": "code",
   "execution_count": 217,
   "id": "f9ece599-8b31-49f2-8dd5-6d1256f51c8c",
   "metadata": {},
   "outputs": [
    {
     "data": {
      "text/plain": [
       "1"
      ]
     },
     "execution_count": 217,
     "metadata": {},
     "output_type": "execute_result"
    }
   ],
   "source": [
    "ewl_negative.shape[0]"
   ]
  },
  {
   "cell_type": "markdown",
   "id": "44990e11-5533-42ed-8009-2c46c99f5690",
   "metadata": {},
   "source": [
    "**ANSWER :** The apps negative reviews = 1 while it positive reviews = 4"
   ]
  },
  {
   "cell_type": "code",
   "execution_count": null,
   "id": "59ac3b66-8d45-402a-915c-3458ce9821ff",
   "metadata": {},
   "outputs": [],
   "source": []
  },
  {
   "cell_type": "markdown",
   "id": "8a907879-8b1d-41a8-a085-bd3365858da4",
   "metadata": {},
   "source": [
    "### 12.\tWhich comments of ASUS SuperNote have sentiment polarity and sentiment subjectivity both as 1?"
   ]
  },
  {
   "cell_type": "code",
   "execution_count": 218,
   "id": "4385a123-c917-40a5-89a7-4bb79e951496",
   "metadata": {},
   "outputs": [
    {
     "data": {
      "text/plain": [
       "1120    Awesome!!!!\n",
       "Name: Translated_Review, dtype: object"
      ]
     },
     "execution_count": 218,
     "metadata": {},
     "output_type": "execute_result"
    }
   ],
   "source": [
    "nr.loc[(nr['App']=='ASUS SuperNote')&\n",
    "     (nr['Sentiment_Polarity']==1)&\n",
    "    (nr['Sentiment_Subjectivity']==1),'Translated_Review'\n",
    "]"
   ]
  },
  {
   "cell_type": "markdown",
   "id": "753b73ac-4042-4c51-9889-72177d84a5d3",
   "metadata": {},
   "source": [
    "**ANSWER:**  Awsesome!!!"
   ]
  },
  {
   "cell_type": "code",
   "execution_count": null,
   "id": "1ca4764e-ac4b-4eb4-b028-1a5943b79824",
   "metadata": {},
   "outputs": [],
   "source": []
  },
  {
   "cell_type": "markdown",
   "id": "affeeb93-eb49-4b47-b973-1450c46977c8",
   "metadata": {},
   "source": [
    "### 13. Get all the neutral sentiment reviews for the app Abs Training-Burn belly fat \r\n"
   ]
  },
  {
   "cell_type": "code",
   "execution_count": 219,
   "id": "009dff5c-055a-4874-b472-ac5ee2dcd198",
   "metadata": {},
   "outputs": [],
   "source": [
    "neutral=nr.loc[(nr['App']=='Abs Training-Burn belly fat')&\n",
    "     (nr['Sentiment']=='Neutral'),'App':\n",
    "]"
   ]
  },
  {
   "cell_type": "code",
   "execution_count": 220,
   "id": "10278bfc-ef5e-431b-9fdb-d81f4e992b62",
   "metadata": {},
   "outputs": [
    {
     "data": {
      "text/html": [
       "<div>\n",
       "<style scoped>\n",
       "    .dataframe tbody tr th:only-of-type {\n",
       "        vertical-align: middle;\n",
       "    }\n",
       "\n",
       "    .dataframe tbody tr th {\n",
       "        vertical-align: top;\n",
       "    }\n",
       "\n",
       "    .dataframe thead th {\n",
       "        text-align: right;\n",
       "    }\n",
       "</style>\n",
       "<table border=\"1\" class=\"dataframe\">\n",
       "  <thead>\n",
       "    <tr style=\"text-align: right;\">\n",
       "      <th></th>\n",
       "      <th>App</th>\n",
       "      <th>Translated_Review</th>\n",
       "      <th>Sentiment</th>\n",
       "      <th>Sentiment_Polarity</th>\n",
       "      <th>Sentiment_Subjectivity</th>\n",
       "    </tr>\n",
       "  </thead>\n",
       "  <tbody>\n",
       "    <tr>\n",
       "      <th>1262</th>\n",
       "      <td>Abs Training-Burn belly fat</td>\n",
       "      <td>I would recommend anyone struggling exercise a...</td>\n",
       "      <td>Neutral</td>\n",
       "      <td>0.0</td>\n",
       "      <td>0.0</td>\n",
       "    </tr>\n",
       "    <tr>\n",
       "      <th>1264</th>\n",
       "      <td>Abs Training-Burn belly fat</td>\n",
       "      <td>I'm sticking literally kicked booty pain gain</td>\n",
       "      <td>Neutral</td>\n",
       "      <td>0.0</td>\n",
       "      <td>0.0</td>\n",
       "    </tr>\n",
       "    <tr>\n",
       "      <th>1267</th>\n",
       "      <td>Abs Training-Burn belly fat</td>\n",
       "      <td>Needs work voice tells take break voice keeps ...</td>\n",
       "      <td>Neutral</td>\n",
       "      <td>0.0</td>\n",
       "      <td>0.0</td>\n",
       "    </tr>\n",
       "    <tr>\n",
       "      <th>1274</th>\n",
       "      <td>Abs Training-Burn belly fat</td>\n",
       "      <td>Pop ads middle night!!! Taking phone? F*** app!</td>\n",
       "      <td>Neutral</td>\n",
       "      <td>0.0</td>\n",
       "      <td>0.0</td>\n",
       "    </tr>\n",
       "    <tr>\n",
       "      <th>1276</th>\n",
       "      <td>Abs Training-Burn belly fat</td>\n",
       "      <td>I day day I saw difference I went XL medium size</td>\n",
       "      <td>Neutral</td>\n",
       "      <td>0.0</td>\n",
       "      <td>0.0</td>\n",
       "    </tr>\n",
       "  </tbody>\n",
       "</table>\n",
       "</div>"
      ],
      "text/plain": [
       "                              App  \\\n",
       "1262  Abs Training-Burn belly fat   \n",
       "1264  Abs Training-Burn belly fat   \n",
       "1267  Abs Training-Burn belly fat   \n",
       "1274  Abs Training-Burn belly fat   \n",
       "1276  Abs Training-Burn belly fat   \n",
       "\n",
       "                                      Translated_Review Sentiment  \\\n",
       "1262  I would recommend anyone struggling exercise a...   Neutral   \n",
       "1264      I'm sticking literally kicked booty pain gain   Neutral   \n",
       "1267  Needs work voice tells take break voice keeps ...   Neutral   \n",
       "1274    Pop ads middle night!!! Taking phone? F*** app!   Neutral   \n",
       "1276   I day day I saw difference I went XL medium size   Neutral   \n",
       "\n",
       "      Sentiment_Polarity  Sentiment_Subjectivity  \n",
       "1262                 0.0                     0.0  \n",
       "1264                 0.0                     0.0  \n",
       "1267                 0.0                     0.0  \n",
       "1274                 0.0                     0.0  \n",
       "1276                 0.0                     0.0  "
      ]
     },
     "execution_count": 220,
     "metadata": {},
     "output_type": "execute_result"
    }
   ],
   "source": [
    "neutral"
   ]
  },
  {
   "cell_type": "code",
   "execution_count": null,
   "id": "80a18590-30e3-498b-a653-023e61f628bd",
   "metadata": {},
   "outputs": [],
   "source": []
  },
  {
   "cell_type": "markdown",
   "id": "ea758712-dc55-4d6a-a2ef-03300e5d22db",
   "metadata": {},
   "source": [
    "### 14.\tExtract all negative sentiment reviews for Adobe Acrobat Reader with their sentiment polarity and sentiment subjectivity"
   ]
  },
  {
   "cell_type": "code",
   "execution_count": 221,
   "id": "1f2724f4-ad46-46f8-8ed6-beceffc33b38",
   "metadata": {},
   "outputs": [],
   "source": [
    "negative_revs=nr.loc[(nr['App']=='Adobe Acrobat Reader')&\n",
    "     (nr['Sentiment']=='Negative'),'App':\n",
    "]"
   ]
  },
  {
   "cell_type": "code",
   "execution_count": 222,
   "id": "62890f0b-5d9d-4060-8289-ba401e9c4861",
   "metadata": {},
   "outputs": [
    {
     "data": {
      "text/html": [
       "<div>\n",
       "<style scoped>\n",
       "    .dataframe tbody tr th:only-of-type {\n",
       "        vertical-align: middle;\n",
       "    }\n",
       "\n",
       "    .dataframe tbody tr th {\n",
       "        vertical-align: top;\n",
       "    }\n",
       "\n",
       "    .dataframe thead th {\n",
       "        text-align: right;\n",
       "    }\n",
       "</style>\n",
       "<table border=\"1\" class=\"dataframe\">\n",
       "  <thead>\n",
       "    <tr style=\"text-align: right;\">\n",
       "      <th></th>\n",
       "      <th>App</th>\n",
       "      <th>Translated_Review</th>\n",
       "      <th>Sentiment</th>\n",
       "      <th>Sentiment_Polarity</th>\n",
       "      <th>Sentiment_Subjectivity</th>\n",
       "    </tr>\n",
       "  </thead>\n",
       "  <tbody>\n",
       "    <tr>\n",
       "      <th>1435</th>\n",
       "      <td>Adobe Acrobat Reader</td>\n",
       "      <td>Too boring. I'm trying scan document give opti...</td>\n",
       "      <td>Negative</td>\n",
       "      <td>-0.300000</td>\n",
       "      <td>0.488889</td>\n",
       "    </tr>\n",
       "    <tr>\n",
       "      <th>1440</th>\n",
       "      <td>Adobe Acrobat Reader</td>\n",
       "      <td>After using adobe iphone, version annoying. Do...</td>\n",
       "      <td>Negative</td>\n",
       "      <td>-0.200000</td>\n",
       "      <td>0.552381</td>\n",
       "    </tr>\n",
       "    <tr>\n",
       "      <th>1442</th>\n",
       "      <td>Adobe Acrobat Reader</td>\n",
       "      <td>Love app. Hate file manager. Open file saved d...</td>\n",
       "      <td>Negative</td>\n",
       "      <td>-0.075000</td>\n",
       "      <td>0.593750</td>\n",
       "    </tr>\n",
       "    <tr>\n",
       "      <th>1444</th>\n",
       "      <td>Adobe Acrobat Reader</td>\n",
       "      <td>It's difficult select text stupid pg # functio...</td>\n",
       "      <td>Negative</td>\n",
       "      <td>-0.575000</td>\n",
       "      <td>0.900000</td>\n",
       "    </tr>\n",
       "    <tr>\n",
       "      <th>1446</th>\n",
       "      <td>Adobe Acrobat Reader</td>\n",
       "      <td>It's actually terrible. The biggest flaw retur...</td>\n",
       "      <td>Negative</td>\n",
       "      <td>-0.275000</td>\n",
       "      <td>0.525000</td>\n",
       "    </tr>\n",
       "    <tr>\n",
       "      <th>1451</th>\n",
       "      <td>Adobe Acrobat Reader</td>\n",
       "      <td>Its like I using ghost...it keeps scrolling pa...</td>\n",
       "      <td>Negative</td>\n",
       "      <td>-0.275000</td>\n",
       "      <td>0.950000</td>\n",
       "    </tr>\n",
       "    <tr>\n",
       "      <th>1459</th>\n",
       "      <td>Adobe Acrobat Reader</td>\n",
       "      <td>Adobe removed option saving changes pdfs local...</td>\n",
       "      <td>Negative</td>\n",
       "      <td>-0.087500</td>\n",
       "      <td>0.520833</td>\n",
       "    </tr>\n",
       "    <tr>\n",
       "      <th>1463</th>\n",
       "      <td>Adobe Acrobat Reader</td>\n",
       "      <td>If wish EXPORT, give birthdate!!!! What? A mob...</td>\n",
       "      <td>Negative</td>\n",
       "      <td>-0.125000</td>\n",
       "      <td>0.500000</td>\n",
       "    </tr>\n",
       "    <tr>\n",
       "      <th>1464</th>\n",
       "      <td>Adobe Acrobat Reader</td>\n",
       "      <td>Does exactly PC based version.Brilliant! At la...</td>\n",
       "      <td>Negative</td>\n",
       "      <td>-0.229167</td>\n",
       "      <td>0.438889</td>\n",
       "    </tr>\n",
       "    <tr>\n",
       "      <th>1467</th>\n",
       "      <td>Adobe Acrobat Reader</td>\n",
       "      <td>This sux saves cloud. Unless im missing someth...</td>\n",
       "      <td>Negative</td>\n",
       "      <td>-0.200000</td>\n",
       "      <td>0.050000</td>\n",
       "    </tr>\n",
       "    <tr>\n",
       "      <th>1470</th>\n",
       "      <td>Adobe Acrobat Reader</td>\n",
       "      <td>Stupid app. Whenever I open pdf file making co...</td>\n",
       "      <td>Negative</td>\n",
       "      <td>-0.106250</td>\n",
       "      <td>0.718750</td>\n",
       "    </tr>\n",
       "    <tr>\n",
       "      <th>1472</th>\n",
       "      <td>Adobe Acrobat Reader</td>\n",
       "      <td>This almost everything I need pdfs unfortunate...</td>\n",
       "      <td>Negative</td>\n",
       "      <td>-0.062500</td>\n",
       "      <td>0.558333</td>\n",
       "    </tr>\n",
       "    <tr>\n",
       "      <th>1473</th>\n",
       "      <td>Adobe Acrobat Reader</td>\n",
       "      <td>It good app. But problem unable share photos i...</td>\n",
       "      <td>Negative</td>\n",
       "      <td>-0.100000</td>\n",
       "      <td>0.533333</td>\n",
       "    </tr>\n",
       "    <tr>\n",
       "      <th>1482</th>\n",
       "      <td>Adobe Acrobat Reader</td>\n",
       "      <td>Apparently I log view pdf... Idiotic</td>\n",
       "      <td>Negative</td>\n",
       "      <td>-0.308333</td>\n",
       "      <td>0.591667</td>\n",
       "    </tr>\n",
       "    <tr>\n",
       "      <th>1485</th>\n",
       "      <td>Adobe Acrobat Reader</td>\n",
       "      <td>Very little usefulness keep getting messages r...</td>\n",
       "      <td>Negative</td>\n",
       "      <td>-0.464844</td>\n",
       "      <td>0.425000</td>\n",
       "    </tr>\n",
       "    <tr>\n",
       "      <th>1491</th>\n",
       "      <td>Adobe Acrobat Reader</td>\n",
       "      <td>Can't rename documents latest update. Using An...</td>\n",
       "      <td>Negative</td>\n",
       "      <td>-0.250000</td>\n",
       "      <td>0.933333</td>\n",
       "    </tr>\n",
       "  </tbody>\n",
       "</table>\n",
       "</div>"
      ],
      "text/plain": [
       "                       App                                  Translated_Review  \\\n",
       "1435  Adobe Acrobat Reader  Too boring. I'm trying scan document give opti...   \n",
       "1440  Adobe Acrobat Reader  After using adobe iphone, version annoying. Do...   \n",
       "1442  Adobe Acrobat Reader  Love app. Hate file manager. Open file saved d...   \n",
       "1444  Adobe Acrobat Reader  It's difficult select text stupid pg # functio...   \n",
       "1446  Adobe Acrobat Reader  It's actually terrible. The biggest flaw retur...   \n",
       "1451  Adobe Acrobat Reader  Its like I using ghost...it keeps scrolling pa...   \n",
       "1459  Adobe Acrobat Reader  Adobe removed option saving changes pdfs local...   \n",
       "1463  Adobe Acrobat Reader  If wish EXPORT, give birthdate!!!! What? A mob...   \n",
       "1464  Adobe Acrobat Reader  Does exactly PC based version.Brilliant! At la...   \n",
       "1467  Adobe Acrobat Reader  This sux saves cloud. Unless im missing someth...   \n",
       "1470  Adobe Acrobat Reader  Stupid app. Whenever I open pdf file making co...   \n",
       "1472  Adobe Acrobat Reader  This almost everything I need pdfs unfortunate...   \n",
       "1473  Adobe Acrobat Reader  It good app. But problem unable share photos i...   \n",
       "1482  Adobe Acrobat Reader               Apparently I log view pdf... Idiotic   \n",
       "1485  Adobe Acrobat Reader  Very little usefulness keep getting messages r...   \n",
       "1491  Adobe Acrobat Reader  Can't rename documents latest update. Using An...   \n",
       "\n",
       "     Sentiment  Sentiment_Polarity  Sentiment_Subjectivity  \n",
       "1435  Negative           -0.300000                0.488889  \n",
       "1440  Negative           -0.200000                0.552381  \n",
       "1442  Negative           -0.075000                0.593750  \n",
       "1444  Negative           -0.575000                0.900000  \n",
       "1446  Negative           -0.275000                0.525000  \n",
       "1451  Negative           -0.275000                0.950000  \n",
       "1459  Negative           -0.087500                0.520833  \n",
       "1463  Negative           -0.125000                0.500000  \n",
       "1464  Negative           -0.229167                0.438889  \n",
       "1467  Negative           -0.200000                0.050000  \n",
       "1470  Negative           -0.106250                0.718750  \n",
       "1472  Negative           -0.062500                0.558333  \n",
       "1473  Negative           -0.100000                0.533333  \n",
       "1482  Negative           -0.308333                0.591667  \n",
       "1485  Negative           -0.464844                0.425000  \n",
       "1491  Negative           -0.250000                0.933333  "
      ]
     },
     "execution_count": 222,
     "metadata": {},
     "output_type": "execute_result"
    }
   ],
   "source": [
    "negative_revs"
   ]
  },
  {
   "cell_type": "code",
   "execution_count": null,
   "id": "a4885207-76b7-4410-8b0d-a522435c99b1",
   "metadata": {},
   "outputs": [],
   "source": []
  },
  {
   "cell_type": "code",
   "execution_count": null,
   "id": "164069b0-39ba-4609-9e12-9da7748ac4f3",
   "metadata": {},
   "outputs": [],
   "source": []
  },
  {
   "cell_type": "code",
   "execution_count": 223,
   "id": "84bb992b-3a74-4856-88d7-4891032d9260",
   "metadata": {},
   "outputs": [
    {
     "name": "stdout",
     "output_type": "stream",
     "text": [
      "<class 'pandas.core.frame.DataFrame'>\n",
      "Index: 9918 entries, Photo Editor & Candy Camera & Grid & ScrapBook to iHoroscope - 2018 Daily Horoscope & Astrology\n",
      "Data columns (total 12 columns):\n",
      " #   Column          Non-Null Count  Dtype  \n",
      "---  ------          --------------  -----  \n",
      " 0   Category        9918 non-null   object \n",
      " 1   Rating          9918 non-null   float64\n",
      " 2   Reviews         9918 non-null   float64\n",
      " 3   Size            9918 non-null   object \n",
      " 4   Installs        9918 non-null   int32  \n",
      " 5   Type            9918 non-null   object \n",
      " 6   Price           9918 non-null   float64\n",
      " 7   Content Rating  9918 non-null   object \n",
      " 8   Genres          9918 non-null   object \n",
      " 9   Last Updated    9918 non-null   object \n",
      " 10  Current Ver     9918 non-null   object \n",
      " 11  Android Ver     9918 non-null   object \n",
      "dtypes: float64(3), int32(1), object(8)\n",
      "memory usage: 1.2+ MB\n"
     ]
    }
   ],
   "source": [
    "app.info()"
   ]
  },
  {
   "cell_type": "markdown",
   "id": "dd888fca-72a8-4c44-8796-4f6e3f9af0be",
   "metadata": {},
   "source": [
    "# Data Visualisation"
   ]
  },
  {
   "cell_type": "code",
   "execution_count": null,
   "id": "b1c765a9-6e77-4e6c-8a84-1560b6a7cbd5",
   "metadata": {},
   "outputs": [],
   "source": []
  },
  {
   "cell_type": "code",
   "execution_count": null,
   "id": "40378ea9-e6e7-46bd-8fb4-69c6e716665d",
   "metadata": {},
   "outputs": [],
   "source": []
  },
  {
   "cell_type": "code",
   "execution_count": null,
   "id": "b9c4ac91-ce17-4c9b-9188-6db30ecb3d24",
   "metadata": {},
   "outputs": [],
   "source": []
  },
  {
   "cell_type": "code",
   "execution_count": null,
   "id": "ec41d6e4-cac1-4a3a-a51a-192306481e3e",
   "metadata": {},
   "outputs": [],
   "source": []
  },
  {
   "cell_type": "code",
   "execution_count": null,
   "id": "21e63774-0353-4174-a515-cbc1cb8ef2c5",
   "metadata": {},
   "outputs": [],
   "source": []
  }
 ],
 "metadata": {
  "colab": {
   "provenance": []
  },
  "kernelspec": {
   "display_name": "Python 3 (ipykernel)",
   "language": "python",
   "name": "python3"
  },
  "language_info": {
   "codemirror_mode": {
    "name": "ipython",
    "version": 3
   },
   "file_extension": ".py",
   "mimetype": "text/x-python",
   "name": "python",
   "nbconvert_exporter": "python",
   "pygments_lexer": "ipython3",
   "version": "3.11.5"
  }
 },
 "nbformat": 4,
 "nbformat_minor": 5
}
